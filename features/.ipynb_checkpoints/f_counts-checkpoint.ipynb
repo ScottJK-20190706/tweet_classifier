{
 "cells": [
  {
   "cell_type": "markdown",
   "metadata": {},
   "source": [
    "## Common Imports"
   ]
  },
  {
   "cell_type": "code",
   "execution_count": 1,
   "metadata": {},
   "outputs": [
    {
     "name": "stdout",
     "output_type": "stream",
     "text": [
      "[nltk_data] Downloading package punkt to\n",
      "[nltk_data]     C:\\Users\\scott\\AppData\\Roaming\\nltk_data...\n",
      "[nltk_data]   Package punkt is already up-to-date!\n"
     ]
    }
   ],
   "source": [
    "import pandas as pd\n",
    "import numpy as np\n",
    "import nltk\n",
    "from nltk.tokenize import word_tokenize\n",
    "nltk.download('punkt')\n",
    "from nltk.corpus import stopwords\n",
    "import re\n",
    "import glob"
   ]
  },
  {
   "cell_type": "markdown",
   "metadata": {},
   "source": [
    "## Load the data"
   ]
  },
  {
   "cell_type": "code",
   "execution_count": 2,
   "metadata": {},
   "outputs": [],
   "source": [
    "train_data = pd.read_pickle(r'C:\\Users\\scott\\Dissertation\\data_sort\\pickle_files\\eval_data_formatted.pickle')\n",
    "eval_data = pd.read_pickle(r'C:\\Users\\scott\\Dissertation\\data_sort\\pickle_files\\train_data_formatted.pickle')\n",
    "all_data = train_data.append(eval_data)\n",
    "all_data['Tweet ID'] = all_data['Tweet ID'].astype(str) #change the ID to str to avoid potential issues during aggregation\n",
    "all_data = all_data.reset_index(drop=True)"
   ]
  },
  {
   "cell_type": "markdown",
   "metadata": {},
   "source": [
    "## Load Stopwords"
   ]
  },
  {
   "cell_type": "code",
   "execution_count": 3,
   "metadata": {},
   "outputs": [],
   "source": [
    "stop = stopwords.words('english') #get stopwords from NLTK\n",
    "keep = ['not'] #Waseem/Hovy did not use \"not\" as a stopword\n",
    "stop = [word for word in stop if word not in keep] #Waseem/Hovy did not use \"not\" as a stopword"
   ]
  },
  {
   "cell_type": "markdown",
   "metadata": {},
   "source": [
    "## Lowercase the data"
   ]
  },
  {
   "cell_type": "code",
   "execution_count": 4,
   "metadata": {},
   "outputs": [],
   "source": [
    "all_data['Tweet_original'] = all_data.Tweet.copy() #keep a copy of the original tweet text\n",
    "all_data['Tweet'] = all_data['Tweet'].str.lower() #lowercase the text "
   ]
  },
  {
   "cell_type": "markdown",
   "metadata": {},
   "source": [
    "## Remove punctuation, usernames, hashtags, URLs"
   ]
  },
  {
   "cell_type": "code",
   "execution_count": 5,
   "metadata": {},
   "outputs": [
    {
     "name": "stdout",
     "output_type": "stream",
     "text": [
      "6297\n"
     ]
    }
   ],
   "source": [
    "all_data['Tweet'] = all_data['Tweet'].fillna('')\n",
    "p = re.compile(r'[^\\w\\s]+')\n",
    "all_data['Tweet'] = [p.sub('', x) for x in all_data['Tweet'].tolist()] #remove the punctuation\n",
    "for i in all_data.index:\n",
    "    #print(i)\n",
    "    #all_data.loc[i,'Tweet'] =re.sub('[^A-Za-z0-9]+',\"\",all_data.loc[i,'Tweet'])\n",
    "    all_data.loc[i,'Tweet'] =re.sub(\"@[A-Za-z0-9_/:().]+\",  \"\", all_data.loc[i,'Tweet'])\n",
    "    all_data.loc[i,'Tweet'] =re.sub(\"http[A-Za-z0-9_/:().]+\",  \"\", all_data.loc[i,'Tweet'])\n",
    "    all_data.loc[i,'Tweet'] =re.sub(\"#[A-Za-z0-9_/:().]+\",  \"\", all_data.loc[i,'Tweet'])\n",
    "print(len(np.unique(all_data['Tweet ID']))) #for convenience"
   ]
  },
  {
   "cell_type": "markdown",
   "metadata": {},
   "source": [
    "## Remove stopwords"
   ]
  },
  {
   "cell_type": "code",
   "execution_count": 6,
   "metadata": {},
   "outputs": [
    {
     "name": "stdout",
     "output_type": "stream",
     "text": [
      "6297\n"
     ]
    }
   ],
   "source": [
    "all_data['Tweet'] = all_data['Tweet'].apply(lambda x: ' '.join([word for word in x.split() if word not in (stop)])) #remove stopwords\n",
    "print(len(np.unique(all_data['Tweet ID']))) #for convenience"
   ]
  },
  {
   "cell_type": "markdown",
   "metadata": {},
   "source": [
    "## Tokenize"
   ]
  },
  {
   "cell_type": "code",
   "execution_count": 7,
   "metadata": {},
   "outputs": [
    {
     "name": "stdout",
     "output_type": "stream",
     "text": [
      "6297\n"
     ]
    }
   ],
   "source": [
    "all_data['Tweet'] = all_data['Tweet'].apply(word_tokenize) #tokenize the text\n",
    "print(len(np.unique(all_data['Tweet ID']))) #for convenience"
   ]
  },
  {
   "cell_type": "markdown",
   "metadata": {},
   "source": [
    "## Count of tokens"
   ]
  },
  {
   "cell_type": "code",
   "execution_count": 29,
   "metadata": {},
   "outputs": [],
   "source": [
    "tweet_ids = []\n",
    "feature = []\n",
    "value = []\n",
    "for i in all_data.index:\n",
    "    tweet_ids = np.append(tweet_ids,all_data['Tweet ID'][i])\n",
    "    feature = np.append(feature,'token_count')\n",
    "    value = np.append(value,len(all_data.Tweet[i]))\n",
    "    "
   ]
  },
  {
   "cell_type": "markdown",
   "metadata": {},
   "source": [
    "## Count of URLs"
   ]
  },
  {
   "cell_type": "code",
   "execution_count": 32,
   "metadata": {},
   "outputs": [],
   "source": [
    "all_data.Web = all_data.Web.fillna('')\n",
    "tweet_ids = np.append(tweet_ids,all_data['Tweet ID'])\n",
    "feature = np.append(feature,np.repeat('url_count',len(all_data.index)))\n",
    "value = np.append(value,all_data.Web.str.count('http'))"
   ]
  },
  {
   "cell_type": "markdown",
   "metadata": {},
   "source": [
    "## Count of Hashtags"
   ]
  },
  {
   "cell_type": "code",
   "execution_count": 34,
   "metadata": {},
   "outputs": [],
   "source": [
    "all_data.Hashtags = all_data.Hashtags.fillna('')\n",
    "for i in all_data.index:\n",
    "    tweet_ids = np.append(tweet_ids,all_data['Tweet ID'][i])\n",
    "    feature = np.append(feature,'hashtag_count')\n",
    "    if (len(all_data.Hashtags[i])==0):\n",
    "        value = np.append(value,all_data.Hashtags[i].count(' '))\n",
    "    else:\n",
    "        value = np.append(value,all_data.Hashtags[i].count(' ')+1)\n",
    "    "
   ]
  },
  {
   "cell_type": "markdown",
   "metadata": {},
   "source": [
    "## Count of Mentions"
   ]
  },
  {
   "cell_type": "code",
   "execution_count": 36,
   "metadata": {},
   "outputs": [],
   "source": [
    "all_data.Mentions = all_data.Mentions.fillna('')\n",
    "for i in all_data.index:\n",
    "    tweet_ids = np.append(tweet_ids,all_data['Tweet ID'][i])\n",
    "    feature = np.append(feature,'mention_count')\n",
    "    if (len(all_data.Mentions[i])==0):\n",
    "        value = np.append(value,all_data.Mentions[i].count(' '))\n",
    "    else:\n",
    "        value = np.append(value,all_data.Mentions[i].count(' ')+1)"
   ]
  },
  {
   "cell_type": "markdown",
   "metadata": {},
   "source": [
    "## Count of Caps"
   ]
  },
  {
   "cell_type": "code",
   "execution_count": 38,
   "metadata": {},
   "outputs": [],
   "source": [
    "for i in all_data.index:\n",
    "    tweet_ids = np.append(tweet_ids,all_data['Tweet ID'][i])\n",
    "    feature = np.append(feature,'caps_count')\n",
    "    value = np.append(value,sum(1 for c in all_data.Tweet_original[i] if c.isupper()))"
   ]
  },
  {
   "cell_type": "markdown",
   "metadata": {},
   "source": [
    "## Count of Characters"
   ]
  },
  {
   "cell_type": "code",
   "execution_count": 40,
   "metadata": {},
   "outputs": [],
   "source": [
    "for i in all_data.index:\n",
    "    tweet_ids = np.append(tweet_ids,all_data['Tweet ID'][i])\n",
    "    feature = np.append(feature,'character_count')\n",
    "    value = np.append(value,len(all_data.Tweet_original[i]))"
   ]
  },
  {
   "cell_type": "markdown",
   "metadata": {},
   "source": [
    "## Count of followers"
   ]
  },
  {
   "cell_type": "code",
   "execution_count": 42,
   "metadata": {},
   "outputs": [],
   "source": [
    "tweet_ids = np.append(tweet_ids,all_data['Tweet ID'])\n",
    "feature = np.append(feature,np.repeat('followers_count',len(all_data.index)))\n",
    "value = np.append(value,all_data['Number of Followers'])"
   ]
  },
  {
   "cell_type": "markdown",
   "metadata": {},
   "source": [
    "## Count of Following"
   ]
  },
  {
   "cell_type": "code",
   "execution_count": 44,
   "metadata": {},
   "outputs": [],
   "source": [
    "tweet_ids = np.append(tweet_ids,all_data['Tweet ID'])\n",
    "feature = np.append(feature,np.repeat('following_count',len(all_data.index)))\n",
    "value = np.append(value,all_data['Number Following'])"
   ]
  },
  {
   "cell_type": "markdown",
   "metadata": {},
   "source": [
    "## Count of Posted Tweets"
   ]
  },
  {
   "cell_type": "code",
   "execution_count": 46,
   "metadata": {},
   "outputs": [],
   "source": [
    "tweet_ids = np.append(tweet_ids,all_data['Tweet ID'])\n",
    "feature = np.append(feature,np.repeat('posted_tweets_count',len(all_data.index)))\n",
    "value = np.append(value,all_data['Number of Tweets'])"
   ]
  },
  {
   "cell_type": "markdown",
   "metadata": {},
   "source": [
    "## Count of Modals"
   ]
  },
  {
   "cell_type": "code",
   "execution_count": 48,
   "metadata": {},
   "outputs": [],
   "source": [
    "modals = ['can', 'could', 'may', 'might', 'must', 'will', 'would', 'should']\n",
    "for i in all_data.index:\n",
    "    tweet_ids = np.append(tweet_ids,all_data['Tweet ID'][i])\n",
    "    feature = np.append(feature,'modals_count')\n",
    "    \n",
    "    count = 0\n",
    "    for m in modals:\n",
    "        for t in all_data.Tweet[i]:\n",
    "            if m==t:\n",
    "                count = count+1    \n",
    "    \n",
    "    value = np.append(value,count)    \n"
   ]
  },
  {
   "cell_type": "markdown",
   "metadata": {},
   "source": [
    "## Count of tokens with non-alpha characters in the middle (masked)"
   ]
  },
  {
   "cell_type": "code",
   "execution_count": 50,
   "metadata": {},
   "outputs": [],
   "source": [
    "rx = re.compile(\"^[a-zA-ZáéíóúüÁÉÍÓÚÜ]+[0-9]+[a-zA-ZáéíóúüÁÉÍÓÚÜ]+$\") #regex for alpha - non-alpha - alpha\n",
    "for i in all_data.index:\n",
    "    tweet_ids = np.append(tweet_ids,all_data['Tweet ID'][i])\n",
    "    feature = np.append(feature,'masked_count')\n",
    "    \n",
    "    count = 0\n",
    "    for w in all_data.Tweet[i]:\n",
    "        count = count + len(rx.findall(w))\n",
    "    \n",
    "    value = np.append(value,count) "
   ]
  },
  {
   "cell_type": "markdown",
   "metadata": {},
   "source": [
    "## Count of 1 character tokens"
   ]
  },
  {
   "cell_type": "code",
   "execution_count": 52,
   "metadata": {},
   "outputs": [],
   "source": [
    "for i in all_data.index:\n",
    "    tweet_ids = np.append(tweet_ids,all_data['Tweet ID'][i])\n",
    "    feature = np.append(feature,'1char_token_count')\n",
    "    \n",
    "    count=0\n",
    "    for t in all_data.Tweet[i]:\n",
    "        if len(t)==1:\n",
    "            if str.isalpha(t):\n",
    "                count = count+1\n",
    "    value = np.append(value,count)"
   ]
  },
  {
   "cell_type": "markdown",
   "metadata": {},
   "source": [
    "## Count of quotations"
   ]
  },
  {
   "cell_type": "code",
   "execution_count": 54,
   "metadata": {},
   "outputs": [],
   "source": [
    "rx = re.compile('\\\"(.+?)\\\"') #regex for double quoted text\n",
    "for i in all_data.index:\n",
    "    tweet_ids = np.append(tweet_ids,all_data['Tweet ID'][i])\n",
    "    feature = np.append(feature,'quotes_count')\n",
    "    value = np.append(value,len(rx.findall(all_data.Tweet_original[i]))) "
   ]
  },
  {
   "cell_type": "markdown",
   "metadata": {},
   "source": [
    "## Count of punctuation"
   ]
  },
  {
   "cell_type": "code",
   "execution_count": 56,
   "metadata": {},
   "outputs": [],
   "source": [
    "import string\n",
    "count = lambda l1, l2: len(list(filter(lambda c: c in l2, l1)))\n",
    "for i in all_data.index:\n",
    "    tweet_ids = np.append(tweet_ids,all_data['Tweet ID'][i])\n",
    "    feature = np.append(feature,'punctuation_count')\n",
    "    value = np.append(value,count(all_data.Tweet_original[i], string.punctuation)) "
   ]
  },
  {
   "cell_type": "code",
   "execution_count": 57,
   "metadata": {},
   "outputs": [
    {
     "name": "stdout",
     "output_type": "stream",
     "text": [
      "88158\n",
      "88158\n",
      "88158\n"
     ]
    }
   ],
   "source": [
    "print(len(value))\n",
    "print(len(feature))\n",
    "print(len(tweet_ids))"
   ]
  },
  {
   "cell_type": "code",
   "execution_count": 62,
   "metadata": {},
   "outputs": [
    {
     "data": {
      "text/plain": [
       "(6297, 15)"
      ]
     },
     "execution_count": 62,
     "metadata": {},
     "output_type": "execute_result"
    }
   ],
   "source": [
    "df_f = pd.DataFrame({'tweet_ids':tweet_ids,\n",
    "                        'feature':feature,\n",
    "                        'value':value})\n",
    "df_f.to_pickle('count_features/count_features.pickle')\n",
    "df_f_pivot = df_f.pivot_table(index=['tweet_ids'], columns='feature', values='value').reset_index() #pivot\n",
    "df_f_pivot.shape"
   ]
  },
  {
   "cell_type": "code",
   "execution_count": 63,
   "metadata": {},
   "outputs": [
    {
     "data": {
      "text/html": [
       "<div>\n",
       "<style scoped>\n",
       "    .dataframe tbody tr th:only-of-type {\n",
       "        vertical-align: middle;\n",
       "    }\n",
       "\n",
       "    .dataframe tbody tr th {\n",
       "        vertical-align: top;\n",
       "    }\n",
       "\n",
       "    .dataframe thead th {\n",
       "        text-align: right;\n",
       "    }\n",
       "</style>\n",
       "<table border=\"1\" class=\"dataframe\">\n",
       "  <thead>\n",
       "    <tr style=\"text-align: right;\">\n",
       "      <th>feature</th>\n",
       "      <th>tweet_ids</th>\n",
       "      <th>1char_token_count</th>\n",
       "      <th>caps_count</th>\n",
       "      <th>character_count</th>\n",
       "      <th>followers_count</th>\n",
       "      <th>following_count</th>\n",
       "      <th>hashtag_count</th>\n",
       "      <th>masked_count</th>\n",
       "      <th>mention_count</th>\n",
       "      <th>modals_count</th>\n",
       "      <th>posted_tweets_count</th>\n",
       "      <th>punctuation_count</th>\n",
       "      <th>quotes_count</th>\n",
       "      <th>token_count</th>\n",
       "      <th>url_count</th>\n",
       "    </tr>\n",
       "  </thead>\n",
       "  <tbody>\n",
       "    <tr>\n",
       "      <th>20</th>\n",
       "      <td>1147048279135404033</td>\n",
       "      <td>0.0</td>\n",
       "      <td>3.0</td>\n",
       "      <td>52.0</td>\n",
       "      <td>1962.0</td>\n",
       "      <td>4997.0</td>\n",
       "      <td>0.0</td>\n",
       "      <td>0.0</td>\n",
       "      <td>1.0</td>\n",
       "      <td>0.0</td>\n",
       "      <td>26969.0</td>\n",
       "      <td>6.0</td>\n",
       "      <td>0.0</td>\n",
       "      <td>5.0</td>\n",
       "      <td>0.0</td>\n",
       "    </tr>\n",
       "    <tr>\n",
       "      <th>21</th>\n",
       "      <td>1147048385624649728</td>\n",
       "      <td>0.0</td>\n",
       "      <td>2.0</td>\n",
       "      <td>42.0</td>\n",
       "      <td>55.0</td>\n",
       "      <td>93.0</td>\n",
       "      <td>0.0</td>\n",
       "      <td>0.0</td>\n",
       "      <td>3.0</td>\n",
       "      <td>0.0</td>\n",
       "      <td>1005.0</td>\n",
       "      <td>0.0</td>\n",
       "      <td>0.0</td>\n",
       "      <td>5.0</td>\n",
       "      <td>0.0</td>\n",
       "    </tr>\n",
       "    <tr>\n",
       "      <th>22</th>\n",
       "      <td>1147049922304380928</td>\n",
       "      <td>0.0</td>\n",
       "      <td>22.0</td>\n",
       "      <td>262.0</td>\n",
       "      <td>11724.0</td>\n",
       "      <td>481.0</td>\n",
       "      <td>0.0</td>\n",
       "      <td>0.0</td>\n",
       "      <td>2.0</td>\n",
       "      <td>0.0</td>\n",
       "      <td>11358.0</td>\n",
       "      <td>7.0</td>\n",
       "      <td>0.0</td>\n",
       "      <td>25.0</td>\n",
       "      <td>0.0</td>\n",
       "    </tr>\n",
       "    <tr>\n",
       "      <th>23</th>\n",
       "      <td>1147050738964672513</td>\n",
       "      <td>0.0</td>\n",
       "      <td>16.0</td>\n",
       "      <td>256.0</td>\n",
       "      <td>1091.0</td>\n",
       "      <td>377.0</td>\n",
       "      <td>0.0</td>\n",
       "      <td>0.0</td>\n",
       "      <td>0.0</td>\n",
       "      <td>1.0</td>\n",
       "      <td>57184.0</td>\n",
       "      <td>9.0</td>\n",
       "      <td>1.0</td>\n",
       "      <td>27.0</td>\n",
       "      <td>1.0</td>\n",
       "    </tr>\n",
       "    <tr>\n",
       "      <th>24</th>\n",
       "      <td>1147058494010527745</td>\n",
       "      <td>0.0</td>\n",
       "      <td>8.0</td>\n",
       "      <td>141.0</td>\n",
       "      <td>483.0</td>\n",
       "      <td>487.0</td>\n",
       "      <td>0.0</td>\n",
       "      <td>0.0</td>\n",
       "      <td>0.0</td>\n",
       "      <td>2.0</td>\n",
       "      <td>5749.0</td>\n",
       "      <td>2.0</td>\n",
       "      <td>0.0</td>\n",
       "      <td>16.0</td>\n",
       "      <td>1.0</td>\n",
       "    </tr>\n",
       "    <tr>\n",
       "      <th>25</th>\n",
       "      <td>1147061621791100928</td>\n",
       "      <td>0.0</td>\n",
       "      <td>5.0</td>\n",
       "      <td>72.0</td>\n",
       "      <td>1866.0</td>\n",
       "      <td>1743.0</td>\n",
       "      <td>0.0</td>\n",
       "      <td>0.0</td>\n",
       "      <td>0.0</td>\n",
       "      <td>1.0</td>\n",
       "      <td>10952.0</td>\n",
       "      <td>6.0</td>\n",
       "      <td>0.0</td>\n",
       "      <td>10.0</td>\n",
       "      <td>1.0</td>\n",
       "    </tr>\n",
       "    <tr>\n",
       "      <th>26</th>\n",
       "      <td>1147063087163420673</td>\n",
       "      <td>0.0</td>\n",
       "      <td>3.0</td>\n",
       "      <td>114.0</td>\n",
       "      <td>1807.0</td>\n",
       "      <td>455.0</td>\n",
       "      <td>0.0</td>\n",
       "      <td>0.0</td>\n",
       "      <td>1.0</td>\n",
       "      <td>0.0</td>\n",
       "      <td>59924.0</td>\n",
       "      <td>4.0</td>\n",
       "      <td>0.0</td>\n",
       "      <td>13.0</td>\n",
       "      <td>0.0</td>\n",
       "    </tr>\n",
       "    <tr>\n",
       "      <th>27</th>\n",
       "      <td>1147066323761057792</td>\n",
       "      <td>0.0</td>\n",
       "      <td>7.0</td>\n",
       "      <td>91.0</td>\n",
       "      <td>2112.0</td>\n",
       "      <td>292.0</td>\n",
       "      <td>0.0</td>\n",
       "      <td>0.0</td>\n",
       "      <td>0.0</td>\n",
       "      <td>0.0</td>\n",
       "      <td>56795.0</td>\n",
       "      <td>7.0</td>\n",
       "      <td>0.0</td>\n",
       "      <td>10.0</td>\n",
       "      <td>0.0</td>\n",
       "    </tr>\n",
       "    <tr>\n",
       "      <th>28</th>\n",
       "      <td>1147066487552774144</td>\n",
       "      <td>0.0</td>\n",
       "      <td>6.0</td>\n",
       "      <td>195.0</td>\n",
       "      <td>630.0</td>\n",
       "      <td>1368.0</td>\n",
       "      <td>2.0</td>\n",
       "      <td>0.0</td>\n",
       "      <td>1.0</td>\n",
       "      <td>0.0</td>\n",
       "      <td>2977.0</td>\n",
       "      <td>3.0</td>\n",
       "      <td>0.0</td>\n",
       "      <td>15.0</td>\n",
       "      <td>1.0</td>\n",
       "    </tr>\n",
       "    <tr>\n",
       "      <th>29</th>\n",
       "      <td>1147068052124721153</td>\n",
       "      <td>0.0</td>\n",
       "      <td>9.0</td>\n",
       "      <td>215.0</td>\n",
       "      <td>94.0</td>\n",
       "      <td>439.0</td>\n",
       "      <td>0.0</td>\n",
       "      <td>0.0</td>\n",
       "      <td>2.0</td>\n",
       "      <td>0.0</td>\n",
       "      <td>757.0</td>\n",
       "      <td>8.0</td>\n",
       "      <td>0.0</td>\n",
       "      <td>20.0</td>\n",
       "      <td>0.0</td>\n",
       "    </tr>\n",
       "  </tbody>\n",
       "</table>\n",
       "</div>"
      ],
      "text/plain": [
       "feature            tweet_ids  1char_token_count  caps_count  character_count  \\\n",
       "20       1147048279135404033                0.0         3.0             52.0   \n",
       "21       1147048385624649728                0.0         2.0             42.0   \n",
       "22       1147049922304380928                0.0        22.0            262.0   \n",
       "23       1147050738964672513                0.0        16.0            256.0   \n",
       "24       1147058494010527745                0.0         8.0            141.0   \n",
       "25       1147061621791100928                0.0         5.0             72.0   \n",
       "26       1147063087163420673                0.0         3.0            114.0   \n",
       "27       1147066323761057792                0.0         7.0             91.0   \n",
       "28       1147066487552774144                0.0         6.0            195.0   \n",
       "29       1147068052124721153                0.0         9.0            215.0   \n",
       "\n",
       "feature  followers_count  following_count  hashtag_count  masked_count  \\\n",
       "20                1962.0           4997.0            0.0           0.0   \n",
       "21                  55.0             93.0            0.0           0.0   \n",
       "22               11724.0            481.0            0.0           0.0   \n",
       "23                1091.0            377.0            0.0           0.0   \n",
       "24                 483.0            487.0            0.0           0.0   \n",
       "25                1866.0           1743.0            0.0           0.0   \n",
       "26                1807.0            455.0            0.0           0.0   \n",
       "27                2112.0            292.0            0.0           0.0   \n",
       "28                 630.0           1368.0            2.0           0.0   \n",
       "29                  94.0            439.0            0.0           0.0   \n",
       "\n",
       "feature  mention_count  modals_count  posted_tweets_count  punctuation_count  \\\n",
       "20                 1.0           0.0              26969.0                6.0   \n",
       "21                 3.0           0.0               1005.0                0.0   \n",
       "22                 2.0           0.0              11358.0                7.0   \n",
       "23                 0.0           1.0              57184.0                9.0   \n",
       "24                 0.0           2.0               5749.0                2.0   \n",
       "25                 0.0           1.0              10952.0                6.0   \n",
       "26                 1.0           0.0              59924.0                4.0   \n",
       "27                 0.0           0.0              56795.0                7.0   \n",
       "28                 1.0           0.0               2977.0                3.0   \n",
       "29                 2.0           0.0                757.0                8.0   \n",
       "\n",
       "feature  quotes_count  token_count  url_count  \n",
       "20                0.0          5.0        0.0  \n",
       "21                0.0          5.0        0.0  \n",
       "22                0.0         25.0        0.0  \n",
       "23                1.0         27.0        1.0  \n",
       "24                0.0         16.0        1.0  \n",
       "25                0.0         10.0        1.0  \n",
       "26                0.0         13.0        0.0  \n",
       "27                0.0         10.0        0.0  \n",
       "28                0.0         15.0        1.0  \n",
       "29                0.0         20.0        0.0  "
      ]
     },
     "execution_count": 63,
     "metadata": {},
     "output_type": "execute_result"
    }
   ],
   "source": [
    "df_f_pivot.iloc[20:30,:]"
   ]
  },
  {
   "cell_type": "code",
   "execution_count": null,
   "metadata": {},
   "outputs": [],
   "source": []
  }
 ],
 "metadata": {
  "kernelspec": {
   "display_name": "Python 3",
   "language": "python",
   "name": "python3"
  },
  "language_info": {
   "codemirror_mode": {
    "name": "ipython",
    "version": 3
   },
   "file_extension": ".py",
   "mimetype": "text/x-python",
   "name": "python",
   "nbconvert_exporter": "python",
   "pygments_lexer": "ipython3",
   "version": "3.6.4"
  }
 },
 "nbformat": 4,
 "nbformat_minor": 2
}
