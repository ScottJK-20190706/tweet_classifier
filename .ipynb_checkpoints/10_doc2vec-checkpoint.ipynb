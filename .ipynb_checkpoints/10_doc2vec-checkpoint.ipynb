{
 "cells": [
  {
   "cell_type": "markdown",
   "metadata": {},
   "source": [
    "## Common Imports"
   ]
  },
  {
   "cell_type": "code",
   "execution_count": 41,
   "metadata": {},
   "outputs": [
    {
     "name": "stdout",
     "output_type": "stream",
     "text": [
      "[nltk_data] Downloading package punkt to\n",
      "[nltk_data]     C:\\Users\\scott\\AppData\\Roaming\\nltk_data...\n",
      "[nltk_data]   Package punkt is already up-to-date!\n"
     ]
    }
   ],
   "source": [
    "import pandas as pd\n",
    "import numpy as np\n",
    "import nltk\n",
    "from nltk.tokenize import word_tokenize\n",
    "nltk.download('punkt')\n",
    "from nltk.corpus import stopwords\n",
    "import re\n",
    "import glob"
   ]
  },
  {
   "cell_type": "code",
   "execution_count": 42,
   "metadata": {},
   "outputs": [
    {
     "name": "stdout",
     "output_type": "stream",
     "text": [
      "(41, 12)\n",
      "(41, 12)\n"
     ]
    }
   ],
   "source": [
    "metrics_local = pd.read_pickle('results/metrics_local.pickle')\n",
    "print(metrics_local.shape)\n",
    "metrics_local = metrics_local[~metrics_local.tf.isin(['doc2vec exc_calculated','doc2vec inc_calculated'])]\n",
    "print(metrics_local.shape)"
   ]
  },
  {
   "cell_type": "markdown",
   "metadata": {},
   "source": [
    "metrics_local.to_pickle('results/metrics_local.pickle') #pickle the metrics"
   ]
  },
  {
   "cell_type": "markdown",
   "metadata": {},
   "source": [
    "## Load the data"
   ]
  },
  {
   "cell_type": "code",
   "execution_count": 43,
   "metadata": {},
   "outputs": [
    {
     "name": "stdout",
     "output_type": "stream",
     "text": [
      "(5104, 16)\n",
      "(5104, 13)\n"
     ]
    }
   ],
   "source": [
    "train_data = pd.read_pickle('pickle_files/train_data_formatted.pickle')\n",
    "eval_data = pd.read_pickle('pickle_files/eval_data_formatted.pickle')\n",
    "all_data = train_data.append(eval_data)\n",
    "all_data['Tweet ID'] = all_data['Tweet ID'].astype(str) #change the ID to str to avoid potential issues during aggregation\n",
    "all_data = all_data.reset_index(drop=True)\n",
    "\n",
    "calculated_features = pd.read_pickle('features/count_features/count_features.pickle') #load calculated features\n",
    "calculated_features = calculated_features.pivot(index='tweet_ids', columns='feature', values='value').reset_index() #pivot\n",
    "calc_feats = ['ave_chars_token', 'caps_count', 'followers_count', 'following_count', #drop columns\n",
    "             'mention_count', 'neg_sent', 'neu_sent', 'pos_sent',\n",
    "             'posted_tweets_count', 'punctuation_count', 'quotes_count', 'url_count',\n",
    "             'tweet_ids']\n",
    "calculated_features = calculated_features[calc_feats]\n",
    "calculated_features['tweet_ids'] = calculated_features['tweet_ids'].astype(str) #change the ID to str to avoid potential issues during aggregation\n",
    "\n",
    "print(all_data.shape)\n",
    "print(calculated_features.shape)"
   ]
  },
  {
   "cell_type": "markdown",
   "metadata": {},
   "source": [
    "## Load Stopwords"
   ]
  },
  {
   "cell_type": "code",
   "execution_count": 44,
   "metadata": {},
   "outputs": [],
   "source": [
    "stop = stopwords.words('english') #get stopwords from NLTK\n",
    "keep = ['not'] #Waseem/Hovy did not use \"not\" as a stopword\n",
    "stop = [word for word in stop if word not in keep] #Waseem/Hovy did not use \"not\" as a stopword"
   ]
  },
  {
   "cell_type": "markdown",
   "metadata": {},
   "source": [
    "## Lowercase the data"
   ]
  },
  {
   "cell_type": "code",
   "execution_count": 45,
   "metadata": {},
   "outputs": [],
   "source": [
    "all_data['Tweet_original'] = all_data.Tweet.copy() #keep a copy of the original tweet text\n",
    "all_data['Tweet'] = all_data['Tweet'].str.lower() #lowercase the text "
   ]
  },
  {
   "cell_type": "markdown",
   "metadata": {},
   "source": [
    "## Remove punctuation, usernames, hashtags, URLs"
   ]
  },
  {
   "cell_type": "code",
   "execution_count": 46,
   "metadata": {},
   "outputs": [
    {
     "name": "stdout",
     "output_type": "stream",
     "text": [
      "5104\n"
     ]
    }
   ],
   "source": [
    "all_data['Tweet'] = all_data['Tweet'].fillna('')\n",
    "p = re.compile(r'[^\\w\\s]+')\n",
    "all_data['Tweet'] = [p.sub('', x) for x in all_data['Tweet'].tolist()] #remove the punctuation\n",
    "for i in all_data.index:\n",
    "    #print(i)\n",
    "    #all_data.loc[i,'Tweet'] =re.sub('[^A-Za-z0-9]+',\"\",all_data.loc[i,'Tweet'])\n",
    "    all_data.loc[i,'Tweet'] =re.sub(\"@[A-Za-z0-9_/:().]+\",  \"\", all_data.loc[i,'Tweet'])\n",
    "    all_data.loc[i,'Tweet'] =re.sub(\"http[A-Za-z0-9_/:().]+\",  \"\", all_data.loc[i,'Tweet'])\n",
    "    all_data.loc[i,'Tweet'] =re.sub(\"#[A-Za-z0-9_/:().]+\",  \"\", all_data.loc[i,'Tweet'])\n",
    "print(len(np.unique(all_data['Tweet ID']))) #for convenience"
   ]
  },
  {
   "cell_type": "markdown",
   "metadata": {},
   "source": [
    "## Remove stopwords"
   ]
  },
  {
   "cell_type": "code",
   "execution_count": 47,
   "metadata": {},
   "outputs": [
    {
     "name": "stdout",
     "output_type": "stream",
     "text": [
      "5104\n"
     ]
    }
   ],
   "source": [
    "all_data['Tweet'] = all_data['Tweet'].apply(lambda x: ' '.join([word for word in x.split() if word not in (stop)])) #remove stopwords\n",
    "print(len(np.unique(all_data['Tweet ID']))) #for convenience"
   ]
  },
  {
   "cell_type": "markdown",
   "metadata": {},
   "source": [
    "## Tokenize"
   ]
  },
  {
   "cell_type": "code",
   "execution_count": 48,
   "metadata": {},
   "outputs": [
    {
     "name": "stdout",
     "output_type": "stream",
     "text": [
      "5104\n"
     ]
    }
   ],
   "source": [
    "all_data['Tweet'] = all_data['Tweet'].apply(word_tokenize) #tokenize the text\n",
    "print(len(np.unique(all_data['Tweet ID']))) #for convenience"
   ]
  },
  {
   "cell_type": "markdown",
   "metadata": {},
   "source": [
    "## Build tagged Gensim documents"
   ]
  },
  {
   "cell_type": "code",
   "execution_count": 49,
   "metadata": {},
   "outputs": [],
   "source": [
    "from gensim.models.doc2vec import Doc2Vec, TaggedDocument\n",
    "tweet_docs = [TaggedDocument(doc, [i]) for i, doc in zip(all_data['Tweet ID'],all_data['Tweet'])]"
   ]
  },
  {
   "cell_type": "markdown",
   "metadata": {},
   "source": [
    "## Build Gensim model"
   ]
  },
  {
   "cell_type": "code",
   "execution_count": 50,
   "metadata": {},
   "outputs": [
    {
     "name": "stderr",
     "output_type": "stream",
     "text": [
      "C:\\Users\\scott\\Anaconda3\\lib\\site-packages\\gensim\\models\\base_any2vec.py:743: UserWarning: C extension not loaded, training will be slow. Install a C compiler and reinstall gensim for fast training.\n",
      "  \"C extension not loaded, training will be slow. \"\n"
     ]
    }
   ],
   "source": [
    "import gensim\n",
    "vec_size = 200\n",
    "model = gensim.models.doc2vec.Doc2Vec(vector_size=vec_size, min_count=2, epochs=100)\n",
    "model.build_vocab(tweet_docs)"
   ]
  },
  {
   "cell_type": "markdown",
   "metadata": {},
   "source": [
    "## Train model"
   ]
  },
  {
   "cell_type": "code",
   "execution_count": 51,
   "metadata": {},
   "outputs": [
    {
     "name": "stdout",
     "output_type": "stream",
     "text": [
      "Wall time: 19min 56s\n"
     ]
    }
   ],
   "source": [
    "%time model.train(tweet_docs, total_examples=model.corpus_count, epochs=model.epochs)"
   ]
  },
  {
   "cell_type": "markdown",
   "metadata": {},
   "source": [
    "## Extract the vectors"
   ]
  },
  {
   "cell_type": "code",
   "execution_count": 52,
   "metadata": {},
   "outputs": [],
   "source": [
    "tweet_ids = [] #empty array to hold tweet ids\n",
    "tweet_vectors = [] #empty array to hold document vectors\n",
    "for t_id in all_data['Tweet ID']: #zip through tweets\n",
    "    vector = model.docvecs[t_id] #get vector for each tweet\n",
    "    tweet_ids.append(t_id)\n",
    "    tweet_vectors.append(vector)\n",
    "\n"
   ]
  },
  {
   "cell_type": "markdown",
   "metadata": {},
   "source": [
    "## Create Train and Eval"
   ]
  },
  {
   "cell_type": "code",
   "execution_count": 53,
   "metadata": {},
   "outputs": [
    {
     "name": "stdout",
     "output_type": "stream",
     "text": [
      "(4083, 212)\n",
      "(4083, 200)\n",
      "(1021, 212)\n",
      "(1021, 200)\n"
     ]
    },
    {
     "name": "stderr",
     "output_type": "stream",
     "text": [
      "C:\\Users\\scott\\Anaconda3\\lib\\site-packages\\pandas\\core\\indexing.py:1418: FutureWarning: \n",
      "Passing list-likes to .loc or [] with any missing label will raise\n",
      "KeyError in the future, you can use .reindex() as an alternative.\n",
      "\n",
      "See the documentation here:\n",
      "https://pandas.pydata.org/pandas-docs/stable/user_guide/indexing.html#deprecate-loc-reindex-listlike\n",
      "  return self._getitem_tuple(key)\n"
     ]
    }
   ],
   "source": [
    "from sklearn.preprocessing import scale\n",
    "tweet_df = pd.DataFrame(data=tweet_vectors,                  #convert the document vectors into a pd dataframe\n",
    "          index=np.array(range(0, len(tweet_vectors))),\n",
    "          columns=np.array(range(0, vec_size)))\n",
    "feature_cols = tweet_df.columns.tolist()\n",
    "tweet_df['tweet_id'] = tweet_ids\n",
    "tweet_df['class'] = all_data['class']\n",
    "\n",
    "#merge in the calculated features\n",
    "tweet_df = pd.merge(tweet_df, calculated_features, left_on='tweet_id',right_on='tweet_ids')\n",
    "tweet_df = tweet_df.drop(['tweet_ids'], axis=1)\n",
    "\n",
    "#create train and eval\n",
    "tweet_df_train = tweet_df[tweet_df['tweet_id'].isin(train_data['Tweet ID'].astype(str))]\n",
    "tweet_df_eval = tweet_df[tweet_df['tweet_id'].isin(eval_data['Tweet ID'].astype(str))]\n",
    "\n",
    "tweet_classes = tweet_df_eval.loc[:,['tweet_id','class_column']]\n",
    "\n",
    "calc_feats.remove('tweet_ids') #drop 'tweet_ids from list of calculated features\n",
    "feature_cols = feature_cols + calc_feats #add calc feats to list of included columns\n",
    "\n",
    "x_train = tweet_df_train[feature_cols]\n",
    "print(x_train.shape)\n",
    "x_train_nc = x_train.drop(calc_feats, axis=1)\n",
    "print(x_train_nc.shape)\n",
    "\n",
    "x_train = scale(x_train)\n",
    "x_train_nc = scale(x_train_nc)\n",
    "y_train = tweet_df_train['class']\n",
    "\n",
    "x_eval = tweet_df_eval[feature_cols]\n",
    "print(x_eval.shape)\n",
    "x_eval_nc = x_eval.drop(calc_feats, axis=1)\n",
    "print(x_eval_nc.shape)\n",
    "\n",
    "x_eval = scale(x_eval)\n",
    "x_eval_nc = scale(x_eval_nc)\n",
    "y_eval = tweet_df_eval['class']\n",
    "\n"
   ]
  },
  {
   "cell_type": "markdown",
   "metadata": {},
   "source": [
    "## Create classifiers and import metrics"
   ]
  },
  {
   "cell_type": "code",
   "execution_count": 54,
   "metadata": {},
   "outputs": [],
   "source": [
    "from sklearn.linear_model import LogisticRegression #import lr\n",
    "from sklearn.svm import SVC #import svm\n",
    "from sklearn.tree import DecisionTreeClassifier #import dt\n",
    "from sklearn.ensemble import RandomForestClassifier #import rf\n",
    "from sklearn.metrics import confusion_matrix, precision_score, recall_score, f1_score, auc, roc_curve, accuracy_score #metrics\n",
    "from sklearn.model_selection import GridSearchCV #grid search\n",
    "log_clf = LogisticRegression()\n",
    "svc_clf = SVC()\n",
    "dt_clf = DecisionTreeClassifier()\n",
    "rf_clf = RandomForestClassifier()"
   ]
  },
  {
   "cell_type": "markdown",
   "metadata": {},
   "source": [
    "## Function for fine tuning and evaluating classifiers"
   ]
  },
  {
   "cell_type": "code",
   "execution_count": 55,
   "metadata": {},
   "outputs": [],
   "source": [
    "def search_grid(classifier,model, x_train, y_train, x_eval, y_eval, tweet_classes):\n",
    "    \n",
    "    if model == 'lr': #if using logisitic regression\n",
    "        param_grid = [{'random_state':[42],\n",
    "               'C':[0.05,0.1,0.5,1],\n",
    "               'penalty':['l1','l2']}]\n",
    "        \n",
    "    if model == 'dt': #if using decision tree\n",
    "        param_grid = [{'random_state':[42],\n",
    "                       'criterion':['gini','entropy']}]\n",
    "        \n",
    "    if model == 'rf': #if using random forest\n",
    "        param_grid = [{'random_state':[42],\n",
    "                       'criterion':['gini','entropy']}] \n",
    "    \n",
    "    if model == 'svm': #if using svm\n",
    "        param_grid = [{'random_state':[42],\n",
    "                   'C':[0.05,0.1,1,10], \n",
    "                   'kernel':['linear','rbf']}]\n",
    "    \n",
    "   \n",
    "    param_grid = param_grid\n",
    "    grid_search = GridSearchCV(classifier, param_grid, cv=10, scoring='recall') #grid search using 10-folds cross validation\n",
    "    grid_search.fit(x_train, y_train) #fir grid search\n",
    "    print(\"\")\n",
    "    print('Best parameters')\n",
    "    best_parameters = grid_search.best_params_\n",
    "    print(best_parameters) #print best parameters from grid search\n",
    "    print('Best grid search score = ',grid_search.best_score_) #print best grid search score\n",
    "    print(\"\")\n",
    "    print('Evaluation data scores')\n",
    "    tuned_clf = grid_search.best_estimator_ #build model using best parameters\n",
    "    tuned_clf_pred = tuned_clf.predict(x_eval) #predict using evaluation data with best parameters\n",
    "    conf_matrix = confusion_matrix(y_eval,tuned_clf_pred) #build confusion matrix\n",
    "    precision = precision_score(y_eval,tuned_clf_pred) #calculate precision\n",
    "    recall = recall_score(y_eval,tuned_clf_pred) #calculate recall\n",
    "    f1 = f1_score(y_eval,tuned_clf_pred) #calculate f1\n",
    "    fpr, tpr, thresholds = roc_curve(y_eval,tuned_clf_pred)\n",
    "    auc_score = auc(fpr, tpr) #calculate auc\n",
    "    accuracy = accuracy_score(y_eval,tuned_clf_pred) #calculate accuracy\n",
    "    class_eval = tweet_classes.copy()\n",
    "    class_eval['pred'] = tuned_clf_pred\n",
    "    class_eval = class_eval.drop('class_column', axis=1) #join predictions onto actuals\n",
    "    print(conf_matrix)\n",
    "    print('precision = ' + str(precision))\n",
    "    print('recall = ' + str(recall))\n",
    "    print('f1 = ' + str(f1))\n",
    "    print('auc = ' + str(auc_score))\n",
    "    print('accuracy = ' + str(accuracy))\n",
    "    \n",
    "    return(best_parameters, conf_matrix, precision, recall, f1, auc_score, accuracy, class_eval) #return metrics and pred vs actuals for each tweet"
   ]
  },
  {
   "cell_type": "markdown",
   "metadata": {},
   "source": [
    "## Run the \"search_grid()\" function for lr, dt, rf, and svm"
   ]
  },
  {
   "cell_type": "code",
   "execution_count": 56,
   "metadata": {},
   "outputs": [
    {
     "name": "stderr",
     "output_type": "stream",
     "text": [
      "C:\\Users\\scott\\Anaconda3\\lib\\site-packages\\pandas\\core\\indexing.py:1418: FutureWarning: \n",
      "Passing list-likes to .loc or [] with any missing label will raise\n",
      "KeyError in the future, you can use .reindex() as an alternative.\n",
      "\n",
      "See the documentation here:\n",
      "https://pandas.pydata.org/pandas-docs/stable/user_guide/indexing.html#deprecate-loc-reindex-listlike\n",
      "  return self._getitem_tuple(key)\n"
     ]
    },
    {
     "name": "stdout",
     "output_type": "stream",
     "text": [
      "\n",
      "Best parameters\n",
      "{'C': 1, 'penalty': 'l2', 'random_state': 42}\n",
      "Best grid search score =  0.7270912225173798\n",
      "\n",
      "Evaluation data scores\n",
      "[[799  32]\n",
      " [ 45 145]]\n",
      "precision = 0.8192090395480226\n",
      "recall = 0.7631578947368421\n",
      "f1 = 0.7901907356948229\n",
      "auc = 0.8623250364177591\n",
      "accuracy = 0.9245837414299706\n",
      "\n",
      "Best parameters\n",
      "{'C': 1, 'penalty': 'l2', 'random_state': 42}\n",
      "Best grid search score =  0.6085051291471203\n",
      "\n",
      "Evaluation data scores\n",
      "[[793  38]\n",
      " [ 80 110]]\n",
      "precision = 0.7432432432432432\n",
      "recall = 0.5789473684210527\n",
      "f1 = 0.650887573964497\n",
      "auc = 0.7666096649566153\n",
      "accuracy = 0.8844270323212536\n",
      "\n",
      "Best parameters\n",
      "{'criterion': 'gini', 'random_state': 42}\n",
      "Best grid search score =  0.6193017130126792\n",
      "\n",
      "Evaluation data scores\n",
      "[[583 248]\n",
      " [ 61 129]]\n",
      "precision = 0.3421750663129973\n",
      "recall = 0.6789473684210526\n",
      "f1 = 0.455026455026455\n",
      "auc = 0.690255874342897\n",
      "accuracy = 0.6973555337904016\n",
      "\n",
      "Best parameters\n",
      "{'criterion': 'entropy', 'random_state': 42}\n",
      "Best grid search score =  0.548399261007178\n",
      "\n",
      "Evaluation data scores\n",
      "[[762  69]\n",
      " [ 87 103]]\n",
      "precision = 0.5988372093023255\n",
      "recall = 0.5421052631578948\n",
      "f1 = 0.569060773480663\n",
      "auc = 0.7295363860915828\n",
      "accuracy = 0.8472086190009794\n",
      "\n",
      "Best parameters\n",
      "{'criterion': 'entropy', 'random_state': 42}\n",
      "Best grid search score =  0.42056928116580944\n",
      "\n",
      "Evaluation data scores\n",
      "[[823   8]\n",
      " [114  76]]\n",
      "precision = 0.9047619047619048\n",
      "recall = 0.4\n",
      "f1 = 0.5547445255474454\n",
      "auc = 0.6951865222623346\n",
      "accuracy = 0.8805093046033301\n",
      "\n",
      "Best parameters\n",
      "{'criterion': 'entropy', 'random_state': 42}\n",
      "Best grid search score =  0.4159973812618927\n",
      "\n",
      "Evaluation data scores\n",
      "[[824   7]\n",
      " [126  64]]\n",
      "precision = 0.9014084507042254\n",
      "recall = 0.3368421052631579\n",
      "f1 = 0.4904214559386973\n",
      "auc = 0.6642092596111216\n",
      "accuracy = 0.8697355533790402\n",
      "\n",
      "Best parameters\n",
      "{'C': 10, 'kernel': 'linear', 'random_state': 42}\n",
      "Best grid search score =  0.7379230722131164\n",
      "\n",
      "Evaluation data scores\n",
      "[[791  40]\n",
      " [ 41 149]]\n",
      "precision = 0.7883597883597884\n",
      "recall = 0.7842105263157895\n",
      "f1 = 0.7862796833773087\n",
      "auc = 0.8680378744695674\n",
      "accuracy = 0.920666013712047\n",
      "\n",
      "Best parameters\n",
      "{'C': 1, 'kernel': 'linear', 'random_state': 42}\n",
      "Best grid search score =  0.6192941770756797\n",
      "\n",
      "Evaluation data scores\n",
      "[[790  41]\n",
      " [ 75 115]]\n",
      "precision = 0.7371794871794872\n",
      "recall = 0.6052631578947368\n",
      "f1 = 0.6647398843930636\n",
      "auc = 0.7779625055418329\n",
      "accuracy = 0.8863858961802155\n",
      "time taken =  0:17:59.930634\n"
     ]
    }
   ],
   "source": [
    "from datetime import datetime\n",
    "current = datetime.now() #for checking duration\n",
    "\n",
    "tf = []     #initialise empty vectors to hold results\n",
    "name = []\n",
    "bp = []\n",
    "tn = []\n",
    "fp = []\n",
    "fn = []\n",
    "tp = []\n",
    "p = []\n",
    "r = []\n",
    "f_1 = []\n",
    "auc_sc = []\n",
    "acc = []\n",
    "\n",
    "tweet_classes = tweet_df_eval.loc[:,['tweet_id','class_column']]\n",
    "\n",
    "classifiers = [log_clf, dt_clf, rf_clf, svc_clf] #the classifiers that are to be tested\n",
    "models = ['lr','dt','rf','svm'] #labels for identifying the results\n",
    "\n",
    "representation = ['inc_calculated','exc_calculated']\n",
    "train_files_x = [x_train,x_train_nc]\n",
    "train_files_y = [y_train,y_train]\n",
    "\n",
    "eval_files_x = [x_eval,x_eval_nc]\n",
    "eval_files_y = [y_eval,y_eval]\n",
    "\n",
    "i=1 #a counter to be used for checking loop number\n",
    "for classifier, model in zip(classifiers, models): #zip through the classifiers and model names\n",
    "    for rep,tx,ty,ex,ey in zip(representation,train_files_x, train_files_y, eval_files_x, eval_files_y): #zip through the training and evaluation combos\n",
    "        #execute the search_grid() function\n",
    "        best_parameters, conf_matrix, precision, recall, f1, auc_score, accuracy, class_eval = search_grid(classifier,model, tx,ty,ex,ey, tweet_classes)\n",
    "        \n",
    "        #append the latest results to the vectors\n",
    "        tf = np.append(tf,'doc2vec ' + rep)\n",
    "        name = np.append(name,model)\n",
    "        b = ';'.join('{} {}'.format(key, val) for key, val in best_parameters.items())\n",
    "        bp = np.append(bp,b)\n",
    "        tn = np.append(tn,conf_matrix[0][0])\n",
    "        fp = np.append(fp,conf_matrix[0][1])\n",
    "        fn = np.append(fn,conf_matrix[1][0])\n",
    "        tp = np.append(tp,conf_matrix[1][1])\n",
    "        p = np.append(p,precision)\n",
    "        r = np.append(r,recall)\n",
    "        f_1 = np.append(f_1,f1)\n",
    "        auc_sc = np.append(auc_sc,auc_score)\n",
    "        acc = np.append(acc,accuracy)\n",
    "        \n",
    "        #col = train_file+'_'+model #build a column name\n",
    "        #class_eval.columns = ['tweet_id',col] #rename the columns\n",
    "        class_eval['model'] = model\n",
    "        class_eval['file'] = 'doc2vec ' + rep\n",
    "        if i==1: #if we are on the first iteration of the loop\n",
    "            df = class_eval.copy()\n",
    "        else: #if we are not on the first iteration f the loop\n",
    "            #df = pd.merge(df, class_eval, on='tweet_id')\n",
    "            df = df.append(class_eval)\n",
    "        \n",
    "        i = i+1 #increment i\n",
    "\n",
    "print('time taken = ',datetime.now() - current) #print the time taken"
   ]
  },
  {
   "cell_type": "markdown",
   "metadata": {},
   "source": [
    "## Take a look at the results so far"
   ]
  },
  {
   "cell_type": "code",
   "execution_count": 57,
   "metadata": {},
   "outputs": [
    {
     "data": {
      "text/html": [
       "<div>\n",
       "<style scoped>\n",
       "    .dataframe tbody tr th:only-of-type {\n",
       "        vertical-align: middle;\n",
       "    }\n",
       "\n",
       "    .dataframe tbody tr th {\n",
       "        vertical-align: top;\n",
       "    }\n",
       "\n",
       "    .dataframe thead th {\n",
       "        text-align: right;\n",
       "    }\n",
       "</style>\n",
       "<table border=\"1\" class=\"dataframe\">\n",
       "  <thead>\n",
       "    <tr style=\"text-align: right;\">\n",
       "      <th></th>\n",
       "      <th>tf</th>\n",
       "      <th>name</th>\n",
       "      <th>bp</th>\n",
       "      <th>tn</th>\n",
       "      <th>fp</th>\n",
       "      <th>fn</th>\n",
       "      <th>tp</th>\n",
       "      <th>p</th>\n",
       "      <th>r</th>\n",
       "      <th>f_1</th>\n",
       "      <th>auc_sc</th>\n",
       "      <th>acc</th>\n",
       "    </tr>\n",
       "  </thead>\n",
       "  <tbody>\n",
       "    <tr>\n",
       "      <td>0</td>\n",
       "      <td>doc2vec inc_calculated</td>\n",
       "      <td>lr</td>\n",
       "      <td>C 1;penalty l2;random_state 42</td>\n",
       "      <td>799.0</td>\n",
       "      <td>32.0</td>\n",
       "      <td>45.0</td>\n",
       "      <td>145.0</td>\n",
       "      <td>0.819209</td>\n",
       "      <td>0.763158</td>\n",
       "      <td>0.790191</td>\n",
       "      <td>0.862325</td>\n",
       "      <td>0.924584</td>\n",
       "    </tr>\n",
       "    <tr>\n",
       "      <td>6</td>\n",
       "      <td>doc2vec inc_calculated</td>\n",
       "      <td>svm</td>\n",
       "      <td>C 10;kernel linear;random_state 42</td>\n",
       "      <td>791.0</td>\n",
       "      <td>40.0</td>\n",
       "      <td>41.0</td>\n",
       "      <td>149.0</td>\n",
       "      <td>0.788360</td>\n",
       "      <td>0.784211</td>\n",
       "      <td>0.786280</td>\n",
       "      <td>0.868038</td>\n",
       "      <td>0.920666</td>\n",
       "    </tr>\n",
       "    <tr>\n",
       "      <td>7</td>\n",
       "      <td>doc2vec exc_calculated</td>\n",
       "      <td>svm</td>\n",
       "      <td>C 1;kernel linear;random_state 42</td>\n",
       "      <td>790.0</td>\n",
       "      <td>41.0</td>\n",
       "      <td>75.0</td>\n",
       "      <td>115.0</td>\n",
       "      <td>0.737179</td>\n",
       "      <td>0.605263</td>\n",
       "      <td>0.664740</td>\n",
       "      <td>0.777963</td>\n",
       "      <td>0.886386</td>\n",
       "    </tr>\n",
       "    <tr>\n",
       "      <td>1</td>\n",
       "      <td>doc2vec exc_calculated</td>\n",
       "      <td>lr</td>\n",
       "      <td>C 1;penalty l2;random_state 42</td>\n",
       "      <td>793.0</td>\n",
       "      <td>38.0</td>\n",
       "      <td>80.0</td>\n",
       "      <td>110.0</td>\n",
       "      <td>0.743243</td>\n",
       "      <td>0.578947</td>\n",
       "      <td>0.650888</td>\n",
       "      <td>0.766610</td>\n",
       "      <td>0.884427</td>\n",
       "    </tr>\n",
       "    <tr>\n",
       "      <td>3</td>\n",
       "      <td>doc2vec exc_calculated</td>\n",
       "      <td>dt</td>\n",
       "      <td>criterion entropy;random_state 42</td>\n",
       "      <td>762.0</td>\n",
       "      <td>69.0</td>\n",
       "      <td>87.0</td>\n",
       "      <td>103.0</td>\n",
       "      <td>0.598837</td>\n",
       "      <td>0.542105</td>\n",
       "      <td>0.569061</td>\n",
       "      <td>0.729536</td>\n",
       "      <td>0.847209</td>\n",
       "    </tr>\n",
       "    <tr>\n",
       "      <td>4</td>\n",
       "      <td>doc2vec inc_calculated</td>\n",
       "      <td>rf</td>\n",
       "      <td>criterion entropy;random_state 42</td>\n",
       "      <td>823.0</td>\n",
       "      <td>8.0</td>\n",
       "      <td>114.0</td>\n",
       "      <td>76.0</td>\n",
       "      <td>0.904762</td>\n",
       "      <td>0.400000</td>\n",
       "      <td>0.554745</td>\n",
       "      <td>0.695187</td>\n",
       "      <td>0.880509</td>\n",
       "    </tr>\n",
       "    <tr>\n",
       "      <td>5</td>\n",
       "      <td>doc2vec exc_calculated</td>\n",
       "      <td>rf</td>\n",
       "      <td>criterion entropy;random_state 42</td>\n",
       "      <td>824.0</td>\n",
       "      <td>7.0</td>\n",
       "      <td>126.0</td>\n",
       "      <td>64.0</td>\n",
       "      <td>0.901408</td>\n",
       "      <td>0.336842</td>\n",
       "      <td>0.490421</td>\n",
       "      <td>0.664209</td>\n",
       "      <td>0.869736</td>\n",
       "    </tr>\n",
       "    <tr>\n",
       "      <td>2</td>\n",
       "      <td>doc2vec inc_calculated</td>\n",
       "      <td>dt</td>\n",
       "      <td>criterion gini;random_state 42</td>\n",
       "      <td>583.0</td>\n",
       "      <td>248.0</td>\n",
       "      <td>61.0</td>\n",
       "      <td>129.0</td>\n",
       "      <td>0.342175</td>\n",
       "      <td>0.678947</td>\n",
       "      <td>0.455026</td>\n",
       "      <td>0.690256</td>\n",
       "      <td>0.697356</td>\n",
       "    </tr>\n",
       "  </tbody>\n",
       "</table>\n",
       "</div>"
      ],
      "text/plain": [
       "                       tf name                                  bp     tn  \\\n",
       "0  doc2vec inc_calculated   lr      C 1;penalty l2;random_state 42  799.0   \n",
       "6  doc2vec inc_calculated  svm  C 10;kernel linear;random_state 42  791.0   \n",
       "7  doc2vec exc_calculated  svm   C 1;kernel linear;random_state 42  790.0   \n",
       "1  doc2vec exc_calculated   lr      C 1;penalty l2;random_state 42  793.0   \n",
       "3  doc2vec exc_calculated   dt   criterion entropy;random_state 42  762.0   \n",
       "4  doc2vec inc_calculated   rf   criterion entropy;random_state 42  823.0   \n",
       "5  doc2vec exc_calculated   rf   criterion entropy;random_state 42  824.0   \n",
       "2  doc2vec inc_calculated   dt      criterion gini;random_state 42  583.0   \n",
       "\n",
       "      fp     fn     tp         p         r       f_1    auc_sc       acc  \n",
       "0   32.0   45.0  145.0  0.819209  0.763158  0.790191  0.862325  0.924584  \n",
       "6   40.0   41.0  149.0  0.788360  0.784211  0.786280  0.868038  0.920666  \n",
       "7   41.0   75.0  115.0  0.737179  0.605263  0.664740  0.777963  0.886386  \n",
       "1   38.0   80.0  110.0  0.743243  0.578947  0.650888  0.766610  0.884427  \n",
       "3   69.0   87.0  103.0  0.598837  0.542105  0.569061  0.729536  0.847209  \n",
       "4    8.0  114.0   76.0  0.904762  0.400000  0.554745  0.695187  0.880509  \n",
       "5    7.0  126.0   64.0  0.901408  0.336842  0.490421  0.664209  0.869736  \n",
       "2  248.0   61.0  129.0  0.342175  0.678947  0.455026  0.690256  0.697356  "
      ]
     },
     "execution_count": 57,
     "metadata": {},
     "output_type": "execute_result"
    }
   ],
   "source": [
    "classifications = pd.DataFrame({'tf':tf, #create a dataframe to hold the metrics\n",
    "                                'name':name,\n",
    "                               'bp':bp,\n",
    "                               'tn':tn,\n",
    "                               'fp':fp,\n",
    "                               'fn':fn,\n",
    "                               'tp':tp,\n",
    "                               'p':p,\n",
    "                               'r':r,\n",
    "                               'f_1':f_1,\n",
    "                               'auc_sc':auc_sc,\n",
    "                               'acc':acc})\n",
    "\n",
    "classifications.sort_values(by='f_1', ascending=False)"
   ]
  },
  {
   "cell_type": "markdown",
   "metadata": {},
   "source": [
    "## Ensemble classifier"
   ]
  },
  {
   "cell_type": "code",
   "execution_count": 18,
   "metadata": {},
   "outputs": [
    {
     "name": "stdout",
     "output_type": "stream",
     "text": [
      "[[810  21]\n",
      " [ 61 129]]\n",
      "precision = 0.86\n",
      "recall = 0.6789473684210526\n",
      "f1 = 0.7588235294117647\n",
      "auc = 0.8268383051491545\n",
      "accuracy = 0.9196865817825661\n"
     ]
    },
    {
     "name": "stderr",
     "output_type": "stream",
     "text": [
      "C:\\Users\\scott\\Anaconda3\\lib\\site-packages\\sklearn\\preprocessing\\label.py:151: DeprecationWarning: The truth value of an empty array is ambiguous. Returning False, but in future this will result in an error. Use `array.size > 0` to check that an array is not empty.\n",
      "  if diff:\n"
     ]
    }
   ],
   "source": [
    "from sklearn.ensemble import VotingClassifier\n",
    "log_clf = LogisticRegression(penalty='l1',C=1, random_state=42) #logistic regression with best hyperparameters\n",
    "svc_clf = SVC(C=10, kernel='linear', probability = True, random_state=42) #svm with best hyperparameters\n",
    "dt_clf = DecisionTreeClassifier(criterion='entropy', random_state=42) #random forest with best hyperparameters\n",
    "rf_clf = RandomForestClassifier(criterion='gini', random_state=42) #random forest with best hyperparameters\n",
    "\n",
    "#create the ensemble\n",
    "e_clf = VotingClassifier(estimators=[('lr', log_clf), ('svm', svc_clf), ('rf', rf_clf), ('dt', dt_clf)],\n",
    "                         voting='soft', weights=[1, 1, 1, 1])\n",
    "\n",
    "e_clf = e_clf.fit(x_train, y_train) #fit the ensemble\n",
    "\n",
    "e_clf_pred = e_clf.predict(x_eval) #predict using evaluation data with best parameters\n",
    "conf_matrix = confusion_matrix(y_eval,e_clf_pred) #build confusion matrix\n",
    "precision = precision_score(y_eval,e_clf_pred) #calculate precision\n",
    "recall = recall_score(y_eval,e_clf_pred) #calculate recall\n",
    "f1 = f1_score(y_eval,e_clf_pred) #calculate f1\n",
    "fpr, tpr, thresholds = roc_curve(y_eval,e_clf_pred)\n",
    "auc_score = auc(fpr, tpr) #calculate auc\n",
    "accuracy = accuracy_score(y_eval,e_clf_pred) #calculate accuracy\n",
    "class_eval = tweet_classes.copy()\n",
    "class_eval['pred'] = e_clf_pred\n",
    "class_eval = class_eval.drop('class_column', axis=1) #join predictions onto actuals\n",
    "print(conf_matrix)\n",
    "print('precision = ' + str(precision))\n",
    "print('recall = ' + str(recall))\n",
    "print('f1 = ' + str(f1))\n",
    "print('auc = ' + str(auc_score))\n",
    "print('accuracy = ' + str(accuracy))\n",
    "\n",
    "#append the latest results to the vectors\n",
    "tf = np.append(tf,'doc2vec inc_calculated')\n",
    "name = np.append(name,'ensemble (lr,svc,dt,rf)')\n",
    "bp = np.append(bp,'ensemble')\n",
    "tn = np.append(tn,conf_matrix[0][0])\n",
    "fp = np.append(fp,conf_matrix[0][1])\n",
    "fn = np.append(fn,conf_matrix[1][0])\n",
    "tp = np.append(tp,conf_matrix[1][1])\n",
    "p = np.append(p,precision)\n",
    "r = np.append(r,recall)\n",
    "f_1 = np.append(f_1,f1)\n",
    "auc_sc = np.append(auc_sc,auc_score)\n",
    "acc = np.append(acc,accuracy)\n",
    "\n",
    "class_eval['model'] = 'ensemble (lr,svc,dt,rf)'\n",
    "class_eval['file'] = 'doc2vec inc_calculated'\n",
    "\n",
    "df = df.append(class_eval) #merge the latest predictions for each tweet using this classifier\n",
    "        "
   ]
  },
  {
   "cell_type": "markdown",
   "metadata": {},
   "source": [
    "## Append results to existing results"
   ]
  },
  {
   "cell_type": "code",
   "execution_count": 19,
   "metadata": {},
   "outputs": [],
   "source": [
    "classifications = pd.DataFrame({'tf':tf, #create a dataframe to hold the metrics\n",
    "                                'name':name,\n",
    "                               'bp':bp,\n",
    "                               'tn':tn,\n",
    "                               'fp':fp,\n",
    "                               'fn':fn,\n",
    "                               'tp':tp,\n",
    "                               'p':p,\n",
    "                               'r':r,\n",
    "                               'f_1':f_1,\n",
    "                               'auc_sc':auc_sc,\n",
    "                               'acc':acc})\n",
    "\n",
    "classifications.sort_values(by='f_1', ascending=False)\n",
    "\n",
    "metrics_local = pd.read_pickle('results/metrics_local.pickle')\n",
    "metrics_local = metrics_local.append(classifications)\n",
    "metrics_local.to_pickle('results/metrics_local.pickle') #pickle the metrics\n",
    "\n",
    "preds_per_tweet_local = pd.read_pickle('results/preds_per_tweet_local.pickle')\n",
    "preds_per_tweet_local = preds_per_tweet_local.append(df)\n",
    "preds_per_tweet_local.to_pickle('results/preds_per_tweet_local.pickle') #pickle the results of actual vs predicted for each tweet\n"
   ]
  }
 ],
 "metadata": {
  "kernelspec": {
   "display_name": "Python 3",
   "language": "python",
   "name": "python3"
  },
  "language_info": {
   "codemirror_mode": {
    "name": "ipython",
    "version": 3
   },
   "file_extension": ".py",
   "mimetype": "text/x-python",
   "name": "python",
   "nbconvert_exporter": "python",
   "pygments_lexer": "ipython3",
   "version": "3.6.4"
  }
 },
 "nbformat": 4,
 "nbformat_minor": 2
}
