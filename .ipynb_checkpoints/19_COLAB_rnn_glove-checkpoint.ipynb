{
 "cells": [
  {
   "cell_type": "markdown",
   "metadata": {
    "colab_type": "text",
    "id": "ABvX2v8qJKGV"
   },
   "source": [
    "## Common imports"
   ]
  },
  {
   "cell_type": "code",
   "execution_count": 0,
   "metadata": {
    "colab": {},
    "colab_type": "code",
    "id": "bg4qVdOzm1Gx"
   },
   "outputs": [],
   "source": [
    "#based on code accessed on 21/10/2019 from https://towardsdatascience.com/machine-learning-word-embedding-sentiment-classification-using-keras-b83c28087456 \n",
    "import pandas as pd\n",
    "import numpy as np"
   ]
  },
  {
   "cell_type": "markdown",
   "metadata": {
    "colab_type": "text",
    "id": "98e5AYM6JP75"
   },
   "source": [
    "## Upload data"
   ]
  },
  {
   "cell_type": "code",
   "execution_count": 0,
   "metadata": {
    "colab": {},
    "colab_type": "code",
    "id": "A7NTz3fJnR8o"
   },
   "outputs": [],
   "source": [
    "! wget -cq https://github.com/ScottJK-20190706/tweet_classifier/blob/master/pickle_files//train_data_formatted.pickle?raw=true\n",
    "! wget -cq https://github.com/ScottJK-20190706/tweet_classifier/blob/master/pickle_files/eval_data_formatted.pickle?raw=true\n",
    "train_data = pd.read_pickle('train_data_formatted.pickle?raw=true')\n",
    "eval_data = pd.read_pickle('eval_data_formatted.pickle?raw=true')\n",
    "all_data = train_data.append(eval_data).reset_index(drop=True)"
   ]
  },
  {
   "cell_type": "markdown",
   "metadata": {
    "colab_type": "text",
    "id": "KMTcd6QCJrzQ"
   },
   "source": [
    "## Tokenise each tweet"
   ]
  },
  {
   "cell_type": "code",
   "execution_count": 3,
   "metadata": {
    "colab": {
     "base_uri": "https://localhost:8080/",
     "height": 85
    },
    "colab_type": "code",
    "executionInfo": {
     "elapsed": 4505,
     "status": "ok",
     "timestamp": 1571770272201,
     "user": {
      "displayName": "Scott Kilgariff",
      "photoUrl": "",
      "userId": "04893934711112937862"
     },
     "user_tz": -60
    },
    "id": "J91yMsN3rdIf",
    "outputId": "f7a2017f-be4d-42fe-907b-160c974dbcdb"
   },
   "outputs": [
    {
     "name": "stdout",
     "output_type": "stream",
     "text": [
      "[nltk_data] Downloading package punkt to /root/nltk_data...\n",
      "[nltk_data]   Unzipping tokenizers/punkt.zip.\n",
      "[nltk_data] Downloading package stopwords to /root/nltk_data...\n",
      "[nltk_data]   Unzipping corpora/stopwords.zip.\n"
     ]
    }
   ],
   "source": [
    "import string\n",
    "import nltk\n",
    "nltk.download('punkt')\n",
    "nltk.download('stopwords')\n",
    "from nltk.tokenize import word_tokenize\n",
    "from nltk.corpus import stopwords\n",
    "\n",
    "tweet_lines = list()\n",
    "lines = all_data['Tweet'].values.tolist()\n",
    "\n",
    "for line in lines:\n",
    "  tokens = word_tokenize(line)\n",
    "  tokens = [w.lower() for w in tokens]\n",
    "  table = str.maketrans('','',string.punctuation)\n",
    "  stripped = [w.translate(table) for w in tokens]\n",
    "  words = [word for word in stripped if word.isalpha()]\n",
    "  stop_words = set(stopwords.words('english'))\n",
    "  words = [w for w in words if not w in stop_words]\n",
    "  tweet_lines.append(words)"
   ]
  },
  {
   "cell_type": "markdown",
   "metadata": {
    "colab_type": "text",
    "id": "Vj1bSHLxKN6v"
   },
   "source": [
    "## Convert each tweet into array of integers corresponding to each word"
   ]
  },
  {
   "cell_type": "code",
   "execution_count": 4,
   "metadata": {
    "colab": {
     "base_uri": "https://localhost:8080/",
     "height": 34
    },
    "colab_type": "code",
    "executionInfo": {
     "elapsed": 2355,
     "status": "ok",
     "timestamp": 1571770277636,
     "user": {
      "displayName": "Scott Kilgariff",
      "photoUrl": "",
      "userId": "04893934711112937862"
     },
     "user_tz": -60
    },
    "id": "u658ogN9v8h0",
    "outputId": "91328cf4-f989-47da-c168-020a43a8a51c"
   },
   "outputs": [
    {
     "name": "stdout",
     "output_type": "stream",
     "text": [
      "found 7426 unique tokens\n"
     ]
    }
   ],
   "source": [
    "from tensorflow.python.keras.preprocessing.text import Tokenizer\n",
    "from tensorflow.python.keras.preprocessing.sequence import pad_sequences\n",
    "\n",
    "tokenizer_obj = Tokenizer()\n",
    "tokenizer_obj.fit_on_texts(tweet_lines)\n",
    "sequences = tokenizer_obj.texts_to_sequences(tweet_lines)\n",
    "\n",
    "word_index = tokenizer_obj.word_index\n",
    "print('found %s unique tokens' % len(word_index))\n",
    "\n",
    "max_length = len(max(tweet_lines,key=len))\n",
    "tweet_pad = pad_sequences(sequences, maxlen=max_length)"
   ]
  },
  {
   "cell_type": "markdown",
   "metadata": {
    "colab_type": "text",
    "id": "iXaQXaCcKamK"
   },
   "source": [
    "## Obtain the word embeddings"
   ]
  },
  {
   "cell_type": "code",
   "execution_count": 5,
   "metadata": {
    "colab": {
     "base_uri": "https://localhost:8080/",
     "height": 493
    },
    "colab_type": "code",
    "executionInfo": {
     "elapsed": 1026917,
     "status": "ok",
     "timestamp": 1571771307524,
     "user": {
      "displayName": "Scott Kilgariff",
      "photoUrl": "",
      "userId": "04893934711112937862"
     },
     "user_tz": -60
    },
    "id": "iDpnHKjRxJy4",
    "outputId": "399aa37a-261a-4dac-da1f-ba83cc5e4ca9"
   },
   "outputs": [
    {
     "name": "stdout",
     "output_type": "stream",
     "text": [
      "Collecting chakin\n",
      "  Downloading https://files.pythonhosted.org/packages/ca/3f/ca2f63451c0ab47970a6ab1d39d96118e70b6e73125529cea767c31368a3/chakin-0.0.8-py3-none-any.whl\n",
      "Requirement already satisfied: pandas>=0.20.1 in /usr/local/lib/python3.6/dist-packages (from chakin) (0.24.2)\n",
      "Requirement already satisfied: six>=1.10.0 in /usr/local/lib/python3.6/dist-packages (from chakin) (1.12.0)\n",
      "Requirement already satisfied: progressbar2>=3.20.0 in /usr/local/lib/python3.6/dist-packages (from chakin) (3.38.0)\n",
      "Requirement already satisfied: python-dateutil>=2.5.0 in /usr/local/lib/python3.6/dist-packages (from pandas>=0.20.1->chakin) (2.5.3)\n",
      "Requirement already satisfied: pytz>=2011k in /usr/local/lib/python3.6/dist-packages (from pandas>=0.20.1->chakin) (2018.9)\n",
      "Requirement already satisfied: numpy>=1.12.0 in /usr/local/lib/python3.6/dist-packages (from pandas>=0.20.1->chakin) (1.16.5)\n",
      "Requirement already satisfied: python-utils>=2.3.0 in /usr/local/lib/python3.6/dist-packages (from progressbar2>=3.20.0->chakin) (2.3.0)\n",
      "Installing collected packages: chakin\n",
      "Successfully installed chakin-0.0.8\n",
      "                   Name  Dimension  ... Language    Author\n",
      "2          fastText(en)        300  ...  English  Facebook\n",
      "11         GloVe.6B.50d         50  ...  English  Stanford\n",
      "12        GloVe.6B.100d        100  ...  English  Stanford\n",
      "13        GloVe.6B.200d        200  ...  English  Stanford\n",
      "14        GloVe.6B.300d        300  ...  English  Stanford\n",
      "15       GloVe.42B.300d        300  ...  English  Stanford\n",
      "16      GloVe.840B.300d        300  ...  English  Stanford\n",
      "17    GloVe.Twitter.25d         25  ...  English  Stanford\n",
      "18    GloVe.Twitter.50d         50  ...  English  Stanford\n",
      "19   GloVe.Twitter.100d        100  ...  English  Stanford\n",
      "20   GloVe.Twitter.200d        200  ...  English  Stanford\n",
      "21  word2vec.GoogleNews        300  ...  English    Google\n",
      "\n",
      "[12 rows x 7 columns]\n"
     ]
    },
    {
     "name": "stderr",
     "output_type": "stream",
     "text": [
      "Test: 100% ||                                      | Time:  0:16:57   2.0 MiB/s\n"
     ]
    },
    {
     "data": {
      "text/plain": [
       "'/tmp/glove.840B.300d.zip'"
      ]
     },
     "execution_count": 5,
     "metadata": {
      "tags": []
     },
     "output_type": "execute_result"
    }
   ],
   "source": [
    "!pip install chakin #word embeddings\n",
    "import chakin\n",
    "chakin.search(lang='English')\n",
    "chakin.download(number=16, save_dir='/tmp/') # select GloVe.840B.300d"
   ]
  },
  {
   "cell_type": "code",
   "execution_count": 0,
   "metadata": {
    "colab": {},
    "colab_type": "code",
    "id": "ZD6fCFlB16cs"
   },
   "outputs": [],
   "source": [
    "from zipfile import ZipFile\n",
    "with ZipFile('/tmp/glove.840B.300d.zip', 'r') as zipObj:\n",
    "   # Extract all the contents of zip file in current directory\n",
    "  zipObj.extractall()"
   ]
  },
  {
   "cell_type": "code",
   "execution_count": 0,
   "metadata": {
    "colab": {},
    "colab_type": "code",
    "id": "KHCre09_1_w9"
   },
   "outputs": [],
   "source": [
    "#code adapted from https://stackoverflow.com/questions/37793118/load-pretrained-glove-vectors-in-python\n",
    "def loadGloveModel(gloveFile):\n",
    "    print(\"Loading Glove Model\")\n",
    "    f = open(gloveFile,'r')\n",
    "    model = {}\n",
    "    for line in f:\n",
    "        splitLine = line.split(' ')\n",
    "        word = splitLine[0]\n",
    "        embedding = np.array([float(val) for val in splitLine[1:]])\n",
    "        model[word] = embedding\n",
    "    print(\"Done.\",len(model),\" words loaded!\")\n",
    "    return model"
   ]
  },
  {
   "cell_type": "code",
   "execution_count": 8,
   "metadata": {
    "colab": {
     "base_uri": "https://localhost:8080/",
     "height": 51
    },
    "colab_type": "code",
    "executionInfo": {
     "elapsed": 183077,
     "status": "ok",
     "timestamp": 1571771651291,
     "user": {
      "displayName": "Scott Kilgariff",
      "photoUrl": "",
      "userId": "04893934711112937862"
     },
     "user_tz": -60
    },
    "id": "pgca0iHXzmJc",
    "outputId": "289486fe-052b-415f-f8aa-1215869ff6fb"
   },
   "outputs": [
    {
     "name": "stdout",
     "output_type": "stream",
     "text": [
      "Loading Glove Model\n",
      "Done. 2196016  words loaded!\n"
     ]
    }
   ],
   "source": [
    "w = loadGloveModel('glove.840B.300d.txt')"
   ]
  },
  {
   "cell_type": "markdown",
   "metadata": {
    "colab_type": "text",
    "id": "WDUEGHoEKnBq"
   },
   "source": [
    "## Create the embedding matrix\n",
    "Integer values in tweet_pad align with rows in embedding_matrix"
   ]
  },
  {
   "cell_type": "code",
   "execution_count": 0,
   "metadata": {
    "colab": {},
    "colab_type": "code",
    "id": "GazuERbr27k9"
   },
   "outputs": [],
   "source": [
    "num_words = len(word_index)+1\n",
    "embedding_matrix = np.zeros((num_words,300))\n",
    "\n",
    "for word, i in word_index.items():\n",
    "  if i > num_words:\n",
    "    continue\n",
    "  try:\n",
    "    embedding_vector = w[word]\n",
    "  except:\n",
    "    embedding_vector = np.zeros(300)\n",
    "  #if embedding_vector is not None:\n",
    "  embedding_matrix[i] = embedding_vector"
   ]
  },
  {
   "cell_type": "markdown",
   "metadata": {
    "colab_type": "text",
    "id": "3QgG7YuALx-z"
   },
   "source": [
    "## Create train and eval"
   ]
  },
  {
   "cell_type": "code",
   "execution_count": 0,
   "metadata": {
    "colab": {},
    "colab_type": "code",
    "id": "0BKekQ1Bndz0"
   },
   "outputs": [],
   "source": [
    "X_train_pad = tweet_pad[:train_data.shape[0]]\n",
    "y_train = train_data.loc[:,'class'].values\n",
    "X_test_pad = tweet_pad[train_data.shape[0]:]\n",
    "y_test = eval_data.loc[:,'class'].values"
   ]
  },
  {
   "cell_type": "markdown",
   "metadata": {
    "colab_type": "text",
    "id": "DsuZ_U9YL3OZ"
   },
   "source": [
    "## Build RNN model"
   ]
  },
  {
   "cell_type": "code",
   "execution_count": 16,
   "metadata": {
    "colab": {
     "base_uri": "https://localhost:8080/",
     "height": 272
    },
    "colab_type": "code",
    "executionInfo": {
     "elapsed": 817,
     "status": "ok",
     "timestamp": 1571772017107,
     "user": {
      "displayName": "Scott Kilgariff",
      "photoUrl": "",
      "userId": "04893934711112937862"
     },
     "user_tz": -60
    },
    "id": "p5Vo5yk_6-ei",
    "outputId": "3fc1232c-d908-4e18-e074-c09b2d6d4d78"
   },
   "outputs": [
    {
     "name": "stdout",
     "output_type": "stream",
     "text": [
      "Model: \"sequential_2\"\n",
      "_________________________________________________________________\n",
      "Layer (type)                 Output Shape              Param #   \n",
      "=================================================================\n",
      "embedding_2 (Embedding)      (None, 42, 300)           2228100   \n",
      "_________________________________________________________________\n",
      "gru_2 (GRU)                  (None, 64)                70080     \n",
      "_________________________________________________________________\n",
      "dense_2 (Dense)              (None, 1)                 65        \n",
      "=================================================================\n",
      "Total params: 2,298,245\n",
      "Trainable params: 70,145\n",
      "Non-trainable params: 2,228,100\n",
      "_________________________________________________________________\n",
      "None\n"
     ]
    }
   ],
   "source": [
    "from keras.models import Sequential\n",
    "from keras.layers import Dense, Embedding, LSTM, GRU, Bidirectional\n",
    "from keras.layers.embeddings import Embedding\n",
    "from keras.initializers import Constant\n",
    "\n",
    "model = Sequential()\n",
    "embedding_layer = Embedding(num_words,\n",
    "                           300,\n",
    "                           embeddings_initializer=Constant(embedding_matrix),\n",
    "                           input_length = max_length,\n",
    "                           trainable = False)\n",
    "model.add(embedding_layer)\n",
    "model.add(GRU(units=64, dropout=0.4, recurrent_dropout=0.4))\n",
    "model.add(Dense(1, activation='sigmoid'))\n",
    "model.compile(loss='binary_crossentropy', optimizer='adam', metrics=['accuracy'])\n",
    "print(model.summary())"
   ]
  },
  {
   "cell_type": "markdown",
   "metadata": {
    "colab_type": "text",
    "id": "fzXOVQ_yMC3J"
   },
   "source": [
    "## Train Model"
   ]
  },
  {
   "cell_type": "code",
   "execution_count": 17,
   "metadata": {
    "colab": {
     "base_uri": "https://localhost:8080/",
     "height": 901
    },
    "colab_type": "code",
    "executionInfo": {
     "elapsed": 135977,
     "status": "ok",
     "timestamp": 1571772157243,
     "user": {
      "displayName": "Scott Kilgariff",
      "photoUrl": "",
      "userId": "04893934711112937862"
     },
     "user_tz": -60
    },
    "id": "5v475QA5-CN6",
    "outputId": "73ba0011-3a0b-4c31-b94c-879693cdc36d"
   },
   "outputs": [
    {
     "name": "stdout",
     "output_type": "stream",
     "text": [
      "Train on 4083 samples, validate on 1021 samples\n",
      "Epoch 1/25\n",
      " - 6s - loss: 0.3064 - acc: 0.8802 - val_loss: 0.1839 - val_acc: 0.9285\n",
      "Epoch 2/25\n",
      " - 5s - loss: 0.1896 - acc: 0.9302 - val_loss: 0.1600 - val_acc: 0.9442\n",
      "Epoch 3/25\n",
      " - 5s - loss: 0.1534 - acc: 0.9437 - val_loss: 0.1358 - val_acc: 0.9530\n",
      "Epoch 4/25\n",
      " - 5s - loss: 0.1269 - acc: 0.9564 - val_loss: 0.1255 - val_acc: 0.9628\n",
      "Epoch 5/25\n",
      " - 5s - loss: 0.1103 - acc: 0.9571 - val_loss: 0.1219 - val_acc: 0.9589\n",
      "Epoch 6/25\n",
      " - 5s - loss: 0.0996 - acc: 0.9647 - val_loss: 0.1230 - val_acc: 0.9579\n",
      "Epoch 7/25\n",
      " - 5s - loss: 0.0912 - acc: 0.9682 - val_loss: 0.1166 - val_acc: 0.9667\n",
      "Epoch 8/25\n",
      " - 5s - loss: 0.0841 - acc: 0.9677 - val_loss: 0.1043 - val_acc: 0.9667\n",
      "Epoch 9/25\n",
      " - 5s - loss: 0.0739 - acc: 0.9731 - val_loss: 0.1195 - val_acc: 0.9638\n",
      "Epoch 10/25\n",
      " - 5s - loss: 0.0634 - acc: 0.9780 - val_loss: 0.1135 - val_acc: 0.9667\n",
      "Epoch 11/25\n",
      " - 5s - loss: 0.0583 - acc: 0.9799 - val_loss: 0.1138 - val_acc: 0.9667\n",
      "Epoch 12/25\n",
      " - 5s - loss: 0.0480 - acc: 0.9811 - val_loss: 0.1129 - val_acc: 0.9687\n",
      "Epoch 13/25\n",
      " - 5s - loss: 0.0533 - acc: 0.9789 - val_loss: 0.1133 - val_acc: 0.9657\n",
      "Epoch 14/25\n",
      " - 5s - loss: 0.0511 - acc: 0.9802 - val_loss: 0.1202 - val_acc: 0.9638\n",
      "Epoch 15/25\n",
      " - 5s - loss: 0.0412 - acc: 0.9843 - val_loss: 0.1375 - val_acc: 0.9618\n",
      "Epoch 16/25\n",
      " - 5s - loss: 0.0380 - acc: 0.9846 - val_loss: 0.1279 - val_acc: 0.9677\n",
      "Epoch 17/25\n",
      " - 5s - loss: 0.0362 - acc: 0.9873 - val_loss: 0.1167 - val_acc: 0.9726\n",
      "Epoch 18/25\n",
      " - 5s - loss: 0.0364 - acc: 0.9890 - val_loss: 0.1124 - val_acc: 0.9716\n",
      "Epoch 19/25\n",
      " - 5s - loss: 0.0281 - acc: 0.9927 - val_loss: 0.1115 - val_acc: 0.9706\n",
      "Epoch 20/25\n",
      " - 5s - loss: 0.0262 - acc: 0.9909 - val_loss: 0.1126 - val_acc: 0.9755\n",
      "Epoch 21/25\n",
      " - 5s - loss: 0.0288 - acc: 0.9912 - val_loss: 0.1231 - val_acc: 0.9755\n",
      "Epoch 22/25\n",
      " - 5s - loss: 0.0269 - acc: 0.9902 - val_loss: 0.1197 - val_acc: 0.9755\n",
      "Epoch 23/25\n",
      " - 5s - loss: 0.0270 - acc: 0.9900 - val_loss: 0.1243 - val_acc: 0.9726\n",
      "Epoch 24/25\n",
      " - 5s - loss: 0.0237 - acc: 0.9927 - val_loss: 0.1154 - val_acc: 0.9726\n",
      "Epoch 25/25\n",
      " - 5s - loss: 0.0298 - acc: 0.9900 - val_loss: 0.1139 - val_acc: 0.9687\n"
     ]
    },
    {
     "data": {
      "text/plain": [
       "<keras.callbacks.History at 0x7f564ee24160>"
      ]
     },
     "execution_count": 17,
     "metadata": {
      "tags": []
     },
     "output_type": "execute_result"
    }
   ],
   "source": [
    "model.fit(X_train_pad, y_train, batch_size=32, epochs=25, validation_data=(X_test_pad,y_test), verbose=2)"
   ]
  },
  {
   "cell_type": "markdown",
   "metadata": {
    "colab_type": "text",
    "id": "jewbGWcYUvKv"
   },
   "source": [
    "## Evaluation metrics"
   ]
  },
  {
   "cell_type": "code",
   "execution_count": 18,
   "metadata": {
    "colab": {
     "base_uri": "https://localhost:8080/",
     "height": 136
    },
    "colab_type": "code",
    "executionInfo": {
     "elapsed": 1067,
     "status": "ok",
     "timestamp": 1571772549465,
     "user": {
      "displayName": "Scott Kilgariff",
      "photoUrl": "",
      "userId": "04893934711112937862"
     },
     "user_tz": -60
    },
    "id": "EY-4cTfyAbrJ",
    "outputId": "957b3fc6-5a8f-4b61-d479-3aabda15535a"
   },
   "outputs": [
    {
     "name": "stdout",
     "output_type": "stream",
     "text": [
      "[[821  10]\n",
      " [ 22 168]]\n",
      "precision = 0.9438202247191011\n",
      "recall = 0.8842105263157894\n",
      "f1 = 0.9130434782608695\n",
      "auc = 0.9360884159858129\n",
      "accuracy = 0.9686581782566112\n"
     ]
    }
   ],
   "source": [
    "from sklearn.metrics import confusion_matrix, precision_score, recall_score, f1_score, auc, roc_curve, accuracy_score #metrics\n",
    "\n",
    "predict_proba = model.predict(x=X_test_pad)\n",
    "predict_class = predict_proba.copy()\n",
    "predict_class[predict_class >= 0.5] = 1\n",
    "predict_class[predict_class < 0.5] = 0\n",
    "\n",
    "conf_matrix = confusion_matrix(y_test,predict_class) #build confusion matrix\n",
    "precision = precision_score(y_test,predict_class) #calculate precision\n",
    "recall = recall_score(y_test,predict_class) #calculate recall\n",
    "f1 = f1_score(y_test,predict_class) #calculate f1\n",
    "fpr, tpr, thresholds = roc_curve(y_test,predict_class)\n",
    "auc_score = auc(fpr, tpr) #calculate auc\n",
    "accuracy = accuracy_score(y_test,predict_class) #calculate accuracy\n",
    "print(conf_matrix)\n",
    "print('precision = ' + str(precision))\n",
    "print('recall = ' + str(recall))\n",
    "print('f1 = ' + str(f1))\n",
    "print('auc = ' + str(auc_score))\n",
    "print('accuracy = ' + str(accuracy))\n",
    "\n",
    "metrics = pd.DataFrame({'acc': accuracy, \n",
    "                        'auc_sc': auc_score, \n",
    "                        'bp': 'rnn', \n",
    "                        'f_1': f1,\n",
    "                        'fn': conf_matrix[1][0],\n",
    "                        'fp':conf_matrix[0][1],\n",
    "                        'name':'rnn',\n",
    "                        'p': precision,\n",
    "                        'r': recall,\n",
    "                        'tf': 'rnn_glove',\n",
    "                        'tn': conf_matrix[0][0],\n",
    "                        'tp': conf_matrix[1][1]},\n",
    "                        index=[0])\n",
    "\n",
    "prediction_summary = pd.DataFrame({'tweet_id': eval_data['Tweet ID'].values,\n",
    "                                   'pred': predict_class.tolist(),\n",
    "                                   'model': 'rnn_glove',\n",
    "                                   'file': 'eval_data'})\n"
   ]
  },
  {
   "cell_type": "markdown",
   "metadata": {
    "colab_type": "text",
    "id": "0ZWX9m19U6hs"
   },
   "source": [
    "## Authenticate location for saving files"
   ]
  },
  {
   "cell_type": "markdown",
   "metadata": {
    "colab_type": "text",
    "id": "wn95VwPRUy5V"
   },
   "source": []
  },
  {
   "cell_type": "code",
   "execution_count": 19,
   "metadata": {
    "colab": {
     "base_uri": "https://localhost:8080/",
     "height": 34
    },
    "colab_type": "code",
    "executionInfo": {
     "elapsed": 39301,
     "status": "ok",
     "timestamp": 1571772597172,
     "user": {
      "displayName": "Scott Kilgariff",
      "photoUrl": "",
      "userId": "04893934711112937862"
     },
     "user_tz": -60
    },
    "id": "66bPhIH3QRFx",
    "outputId": "9c577cdb-499f-42d1-def5-3c882f23261d"
   },
   "outputs": [
    {
     "name": "stdout",
     "output_type": "stream",
     "text": [
      "***** File output directory: gs://dissertation_bucket/glove_rnn_files *****\n"
     ]
    }
   ],
   "source": [
    "# Set the output directory for saving model file\n",
    "# Optionally, set a GCP bucket location\n",
    "import tensorflow as tf\n",
    "\n",
    "FILE_OUTPUT_DIR = 'glove_rnn_files'#@param {type:\"string\"}\n",
    "#@markdown Whether or not to clear/delete the directory and create a new one\n",
    "DO_DELETE = True #@param {type:\"boolean\"}\n",
    "#@markdown Set USE_BUCKET and BUCKET if you want to (optionally) store model output on GCP bucket.\n",
    "USE_BUCKET = True #@param {type:\"boolean\"}\n",
    "BUCKET = 'dissertation_bucket' #@param {type:\"string\"}\n",
    "\n",
    "if USE_BUCKET:\n",
    "  FILE_OUTPUT_DIR = 'gs://{}/{}'.format(BUCKET, FILE_OUTPUT_DIR)\n",
    "  from google.colab import auth\n",
    "  auth.authenticate_user()\n",
    "\n",
    "if DO_DELETE:\n",
    "  try:\n",
    "    tf.gfile.DeleteRecursively(FILE_OUTPUT_DIR)\n",
    "  except:\n",
    "    # Doesn't matter if the directory didn't exist\n",
    "    pass\n",
    "tf.gfile.MakeDirs(FILE_OUTPUT_DIR)\n",
    "print('***** File output directory: {} *****'.format(FILE_OUTPUT_DIR))"
   ]
  },
  {
   "cell_type": "markdown",
   "metadata": {
    "colab_type": "text",
    "id": "ZHNXWwWsVfUS"
   },
   "source": [
    "## Save metrics and predictions per tweet"
   ]
  },
  {
   "cell_type": "code",
   "execution_count": 20,
   "metadata": {
    "colab": {
     "base_uri": "https://localhost:8080/",
     "height": 510
    },
    "colab_type": "code",
    "executionInfo": {
     "elapsed": 11486,
     "status": "ok",
     "timestamp": 1571772614902,
     "user": {
      "displayName": "Scott Kilgariff",
      "photoUrl": "",
      "userId": "04893934711112937862"
     },
     "user_tz": -60
    },
    "id": "ZURHYu26VTid",
    "outputId": "713715fd-e3fe-4f9c-d8ac-2a4296070b00"
   },
   "outputs": [
    {
     "name": "stdout",
     "output_type": "stream",
     "text": [
      "Collecting gcsfs\n",
      "\u001b[?25l  Downloading https://files.pythonhosted.org/packages/ab/92/0297f2813cb240c52e90f8587420149970565800e019e1b08ef5ad28b6d9/gcsfs-0.3.1.tar.gz (43kB)\n",
      "\r",
      "\u001b[K     |███████▋                        | 10kB 12.8MB/s eta 0:00:01\r",
      "\u001b[K     |███████████████▏                | 20kB 6.6MB/s eta 0:00:01\r",
      "\u001b[K     |██████████████████████▊         | 30kB 8.9MB/s eta 0:00:01\r",
      "\u001b[K     |██████████████████████████████▎ | 40kB 5.9MB/s eta 0:00:01\r",
      "\u001b[K     |████████████████████████████████| 51kB 3.1MB/s \n",
      "\u001b[?25hRequirement already satisfied: google-auth>=1.2 in /usr/local/lib/python3.6/dist-packages (from gcsfs) (1.4.2)\n",
      "Requirement already satisfied: google-auth-oauthlib in /usr/local/lib/python3.6/dist-packages (from gcsfs) (0.4.1)\n",
      "Requirement already satisfied: requests in /usr/local/lib/python3.6/dist-packages (from gcsfs) (2.21.0)\n",
      "Requirement already satisfied: decorator in /usr/local/lib/python3.6/dist-packages (from gcsfs) (4.4.0)\n",
      "Requirement already satisfied: fsspec>=0.2.2 in /usr/local/lib/python3.6/dist-packages (from gcsfs) (0.5.2)\n",
      "Requirement already satisfied: six>=1.9.0 in /usr/local/lib/python3.6/dist-packages (from google-auth>=1.2->gcsfs) (1.12.0)\n",
      "Requirement already satisfied: rsa>=3.1.4 in /usr/local/lib/python3.6/dist-packages (from google-auth>=1.2->gcsfs) (4.0)\n",
      "Requirement already satisfied: pyasn1-modules>=0.2.1 in /usr/local/lib/python3.6/dist-packages (from google-auth>=1.2->gcsfs) (0.2.7)\n",
      "Requirement already satisfied: cachetools>=2.0.0 in /usr/local/lib/python3.6/dist-packages (from google-auth>=1.2->gcsfs) (3.1.1)\n",
      "Requirement already satisfied: requests-oauthlib>=0.7.0 in /usr/local/lib/python3.6/dist-packages (from google-auth-oauthlib->gcsfs) (1.2.0)\n",
      "Requirement already satisfied: certifi>=2017.4.17 in /usr/local/lib/python3.6/dist-packages (from requests->gcsfs) (2019.9.11)\n",
      "Requirement already satisfied: chardet<3.1.0,>=3.0.2 in /usr/local/lib/python3.6/dist-packages (from requests->gcsfs) (3.0.4)\n",
      "Requirement already satisfied: idna<2.9,>=2.5 in /usr/local/lib/python3.6/dist-packages (from requests->gcsfs) (2.8)\n",
      "Requirement already satisfied: urllib3<1.25,>=1.21.1 in /usr/local/lib/python3.6/dist-packages (from requests->gcsfs) (1.24.3)\n",
      "Requirement already satisfied: pyasn1>=0.1.3 in /usr/local/lib/python3.6/dist-packages (from rsa>=3.1.4->google-auth>=1.2->gcsfs) (0.4.7)\n",
      "Requirement already satisfied: oauthlib>=3.0.0 in /usr/local/lib/python3.6/dist-packages (from requests-oauthlib>=0.7.0->google-auth-oauthlib->gcsfs) (3.1.0)\n",
      "Building wheels for collected packages: gcsfs\n",
      "  Building wheel for gcsfs (setup.py) ... \u001b[?25l\u001b[?25hdone\n",
      "  Created wheel for gcsfs: filename=gcsfs-0.3.1-py2.py3-none-any.whl size=17936 sha256=f89799ec989b13613296bf9af81722fb57a682f251190d5ffa0421153e7411d0\n",
      "  Stored in directory: /root/.cache/pip/wheels/9d/2b/6f/86954f0d8caa1173841e62bb780dc0f8693bd268e04a267682\n",
      "Successfully built gcsfs\n",
      "Installing collected packages: gcsfs\n",
      "Successfully installed gcsfs-0.3.1\n",
      "Copying file:///tmp/prediction_summary.pickle [Content-Type=application/octet-stream]...\n",
      "/ [1 files][ 42.3 KiB/ 42.3 KiB]                                                \n",
      "Operation completed over 1 objects/42.3 KiB.                                     \n"
     ]
    }
   ],
   "source": [
    "!pip install gcsfs #google cloud storage\n",
    "metrics.to_csv('gs://dissertation_bucket/glove_rnn_files/metrics.csv')\n",
    "prediction_summary.to_pickle('/tmp/prediction_summary.pickle')\n",
    "!gsutil cp /tmp/prediction_summary.pickle gs://dissertation_bucket/glove_rnn_files/"
   ]
  }
 ],
 "metadata": {
  "colab": {
   "collapsed_sections": [],
   "name": "19_COLAB_rnn_glove.ipynb",
   "provenance": [
    {
     "file_id": "14ZR3HGNPz5fpcZvyHC-YIsfbVXExJZOu",
     "timestamp": 1571750859415
    }
   ]
  },
  "kernelspec": {
   "display_name": "Python 3",
   "language": "python",
   "name": "python3"
  },
  "language_info": {
   "codemirror_mode": {
    "name": "ipython",
    "version": 3
   },
   "file_extension": ".py",
   "mimetype": "text/x-python",
   "name": "python",
   "nbconvert_exporter": "python",
   "pygments_lexer": "ipython3",
   "version": "3.6.4"
  }
 },
 "nbformat": 4,
 "nbformat_minor": 1
}
