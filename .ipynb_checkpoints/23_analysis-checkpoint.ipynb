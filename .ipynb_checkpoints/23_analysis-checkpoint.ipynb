{
 "cells": [
  {
   "cell_type": "markdown",
   "metadata": {},
   "source": [
    "## Common Imports"
   ]
  },
  {
   "cell_type": "code",
   "execution_count": 1,
   "metadata": {},
   "outputs": [],
   "source": [
    "import pandas as pd\n",
    "import numpy as np"
   ]
  },
  {
   "cell_type": "markdown",
   "metadata": {},
   "source": [
    "## Load data"
   ]
  },
  {
   "cell_type": "code",
   "execution_count": 2,
   "metadata": {},
   "outputs": [
    {
     "name": "stderr",
     "output_type": "stream",
     "text": [
      "C:\\Users\\scott\\Anaconda3\\lib\\site-packages\\pandas\\core\\frame.py:7123: FutureWarning: Sorting because non-concatenation axis is not aligned. A future version\n",
      "of pandas will change to not sort by default.\n",
      "\n",
      "To accept the future behavior, pass 'sort=False'.\n",
      "\n",
      "To retain the current behavior and silence the warning, pass 'sort=True'.\n",
      "\n",
      "  sort=sort,\n",
      "C:\\Users\\scott\\Anaconda3\\lib\\site-packages\\pandas\\core\\frame.py:7123: FutureWarning: Sorting because non-concatenation axis is not aligned. A future version\n",
      "of pandas will change to not sort by default.\n",
      "\n",
      "To accept the future behavior, pass 'sort=False'.\n",
      "\n",
      "To retain the current behavior and silence the warning, pass 'sort=True'.\n",
      "\n",
      "  sort=sort,\n"
     ]
    }
   ],
   "source": [
    "eval_data_formatted = pd.read_pickle('pickle_files/eval_data_formatted.pickle') #raw evaluation data for referencing\n",
    "eval_data_formatted['Tweet ID'] = eval_data_formatted['Tweet ID'].astype(str) #set tweet id type as string\n",
    "class_results_local = pd.read_pickle('results/preds_per_tweet_local.pickle') #tweet by tweet classifications per model local\n",
    "class_results_colab = pd.read_pickle('results/preds_per_tweet_colab.pickle') #tweet by tweet classifications per model colab\n",
    "class_results = class_results_local.append(class_results_colab)\n",
    "metrics_local = pd.read_pickle('results/metrics_local.pickle') #overall metrics per model local\n",
    "metrics_colab = pd.read_pickle('results/metrics_colab.pickle') #overall metrics per model colab\n",
    "metrics = metrics_local.append(metrics_colab)\n",
    "actual = pd.read_pickle('features/df_tweet_eval.pickle') #get the actual classifications per tweet\n",
    "actual_class = actual.loc[:,['tweet_id','class_column']] #get the actual classifications per tweet"
   ]
  },
  {
   "cell_type": "code",
   "execution_count": 3,
   "metadata": {},
   "outputs": [],
   "source": [
    "metrics.to_csv('metrics.csv')\n",
    "class_results.to_csv('class_results.csv')"
   ]
  },
  {
   "cell_type": "code",
   "execution_count": 4,
   "metadata": {},
   "outputs": [
    {
     "ename": "ValueError",
     "evalue": "Index contains duplicate entries, cannot reshape",
     "output_type": "error",
     "traceback": [
      "\u001b[1;31m---------------------------------------------------------------------------\u001b[0m",
      "\u001b[1;31mValueError\u001b[0m                                Traceback (most recent call last)",
      "\u001b[1;32m<ipython-input-4-e1a9c785e9e3>\u001b[0m in \u001b[0;36m<module>\u001b[1;34m()\u001b[0m\n\u001b[0;32m      1\u001b[0m \u001b[0mclass_results\u001b[0m\u001b[1;33m[\u001b[0m\u001b[1;34m'desc'\u001b[0m\u001b[1;33m]\u001b[0m \u001b[1;33m=\u001b[0m \u001b[0mclass_results\u001b[0m\u001b[1;33m[\u001b[0m\u001b[1;34m'model'\u001b[0m\u001b[1;33m]\u001b[0m\u001b[1;33m+\u001b[0m \u001b[1;34m' model using '\u001b[0m\u001b[1;33m+\u001b[0m\u001b[0mclass_results\u001b[0m\u001b[1;33m[\u001b[0m\u001b[1;34m'file'\u001b[0m\u001b[1;33m]\u001b[0m\u001b[1;33m\u001b[0m\u001b[0m\n\u001b[1;32m----> 2\u001b[1;33m \u001b[0mclass_results_pivot\u001b[0m \u001b[1;33m=\u001b[0m \u001b[0mclass_results\u001b[0m\u001b[1;33m.\u001b[0m\u001b[0mpivot\u001b[0m\u001b[1;33m(\u001b[0m\u001b[0mindex\u001b[0m\u001b[1;33m=\u001b[0m\u001b[1;34m'tweet_id'\u001b[0m\u001b[1;33m,\u001b[0m\u001b[0mcolumns\u001b[0m\u001b[1;33m=\u001b[0m\u001b[1;34m'desc'\u001b[0m\u001b[1;33m,\u001b[0m\u001b[0mvalues\u001b[0m\u001b[1;33m=\u001b[0m\u001b[1;34m'pred'\u001b[0m\u001b[1;33m)\u001b[0m\u001b[1;33m.\u001b[0m\u001b[0mreset_index\u001b[0m\u001b[1;33m(\u001b[0m\u001b[1;33m)\u001b[0m\u001b[1;33m\u001b[0m\u001b[0m\n\u001b[0m\u001b[0;32m      3\u001b[0m \u001b[0mclass_results\u001b[0m\u001b[1;33m.\u001b[0m\u001b[0mto_csv\u001b[0m\u001b[1;33m(\u001b[0m\u001b[1;34m'class_results.csv'\u001b[0m\u001b[1;33m)\u001b[0m\u001b[1;33m\u001b[0m\u001b[0m\n",
      "\u001b[1;32m~\\Anaconda3\\lib\\site-packages\\pandas\\core\\frame.py\u001b[0m in \u001b[0;36mpivot\u001b[1;34m(self, index, columns, values)\u001b[0m\n\u001b[0;32m   5917\u001b[0m         \u001b[1;32mfrom\u001b[0m \u001b[0mpandas\u001b[0m\u001b[1;33m.\u001b[0m\u001b[0mcore\u001b[0m\u001b[1;33m.\u001b[0m\u001b[0mreshape\u001b[0m\u001b[1;33m.\u001b[0m\u001b[0mpivot\u001b[0m \u001b[1;32mimport\u001b[0m \u001b[0mpivot\u001b[0m\u001b[1;33m\u001b[0m\u001b[0m\n\u001b[0;32m   5918\u001b[0m \u001b[1;33m\u001b[0m\u001b[0m\n\u001b[1;32m-> 5919\u001b[1;33m         \u001b[1;32mreturn\u001b[0m \u001b[0mpivot\u001b[0m\u001b[1;33m(\u001b[0m\u001b[0mself\u001b[0m\u001b[1;33m,\u001b[0m \u001b[0mindex\u001b[0m\u001b[1;33m=\u001b[0m\u001b[0mindex\u001b[0m\u001b[1;33m,\u001b[0m \u001b[0mcolumns\u001b[0m\u001b[1;33m=\u001b[0m\u001b[0mcolumns\u001b[0m\u001b[1;33m,\u001b[0m \u001b[0mvalues\u001b[0m\u001b[1;33m=\u001b[0m\u001b[0mvalues\u001b[0m\u001b[1;33m)\u001b[0m\u001b[1;33m\u001b[0m\u001b[0m\n\u001b[0m\u001b[0;32m   5920\u001b[0m \u001b[1;33m\u001b[0m\u001b[0m\n\u001b[0;32m   5921\u001b[0m     _shared_docs[\n",
      "\u001b[1;32m~\\Anaconda3\\lib\\site-packages\\pandas\\core\\reshape\\pivot.py\u001b[0m in \u001b[0;36mpivot\u001b[1;34m(data, index, columns, values)\u001b[0m\n\u001b[0;32m    428\u001b[0m         \u001b[1;32melse\u001b[0m\u001b[1;33m:\u001b[0m\u001b[1;33m\u001b[0m\u001b[0m\n\u001b[0;32m    429\u001b[0m             \u001b[0mindexed\u001b[0m \u001b[1;33m=\u001b[0m \u001b[0mdata\u001b[0m\u001b[1;33m.\u001b[0m\u001b[0m_constructor_sliced\u001b[0m\u001b[1;33m(\u001b[0m\u001b[0mdata\u001b[0m\u001b[1;33m[\u001b[0m\u001b[0mvalues\u001b[0m\u001b[1;33m]\u001b[0m\u001b[1;33m.\u001b[0m\u001b[0mvalues\u001b[0m\u001b[1;33m,\u001b[0m \u001b[0mindex\u001b[0m\u001b[1;33m=\u001b[0m\u001b[0mindex\u001b[0m\u001b[1;33m)\u001b[0m\u001b[1;33m\u001b[0m\u001b[0m\n\u001b[1;32m--> 430\u001b[1;33m     \u001b[1;32mreturn\u001b[0m \u001b[0mindexed\u001b[0m\u001b[1;33m.\u001b[0m\u001b[0munstack\u001b[0m\u001b[1;33m(\u001b[0m\u001b[0mcolumns\u001b[0m\u001b[1;33m)\u001b[0m\u001b[1;33m\u001b[0m\u001b[0m\n\u001b[0m\u001b[0;32m    431\u001b[0m \u001b[1;33m\u001b[0m\u001b[0m\n\u001b[0;32m    432\u001b[0m \u001b[1;33m\u001b[0m\u001b[0m\n",
      "\u001b[1;32m~\\Anaconda3\\lib\\site-packages\\pandas\\core\\series.py\u001b[0m in \u001b[0;36munstack\u001b[1;34m(self, level, fill_value)\u001b[0m\n\u001b[0;32m   3743\u001b[0m         \u001b[1;32mfrom\u001b[0m \u001b[0mpandas\u001b[0m\u001b[1;33m.\u001b[0m\u001b[0mcore\u001b[0m\u001b[1;33m.\u001b[0m\u001b[0mreshape\u001b[0m\u001b[1;33m.\u001b[0m\u001b[0mreshape\u001b[0m \u001b[1;32mimport\u001b[0m \u001b[0munstack\u001b[0m\u001b[1;33m\u001b[0m\u001b[0m\n\u001b[0;32m   3744\u001b[0m \u001b[1;33m\u001b[0m\u001b[0m\n\u001b[1;32m-> 3745\u001b[1;33m         \u001b[1;32mreturn\u001b[0m \u001b[0munstack\u001b[0m\u001b[1;33m(\u001b[0m\u001b[0mself\u001b[0m\u001b[1;33m,\u001b[0m \u001b[0mlevel\u001b[0m\u001b[1;33m,\u001b[0m \u001b[0mfill_value\u001b[0m\u001b[1;33m)\u001b[0m\u001b[1;33m\u001b[0m\u001b[0m\n\u001b[0m\u001b[0;32m   3746\u001b[0m \u001b[1;33m\u001b[0m\u001b[0m\n\u001b[0;32m   3747\u001b[0m     \u001b[1;31m# ----------------------------------------------------------------------\u001b[0m\u001b[1;33m\u001b[0m\u001b[1;33m\u001b[0m\u001b[0m\n",
      "\u001b[1;32m~\\Anaconda3\\lib\\site-packages\\pandas\\core\\reshape\\reshape.py\u001b[0m in \u001b[0;36munstack\u001b[1;34m(obj, level, fill_value)\u001b[0m\n\u001b[0;32m    421\u001b[0m             \u001b[0mlevel\u001b[0m\u001b[1;33m=\u001b[0m\u001b[0mlevel\u001b[0m\u001b[1;33m,\u001b[0m\u001b[1;33m\u001b[0m\u001b[0m\n\u001b[0;32m    422\u001b[0m             \u001b[0mfill_value\u001b[0m\u001b[1;33m=\u001b[0m\u001b[0mfill_value\u001b[0m\u001b[1;33m,\u001b[0m\u001b[1;33m\u001b[0m\u001b[0m\n\u001b[1;32m--> 423\u001b[1;33m             \u001b[0mconstructor\u001b[0m\u001b[1;33m=\u001b[0m\u001b[0mobj\u001b[0m\u001b[1;33m.\u001b[0m\u001b[0m_constructor_expanddim\u001b[0m\u001b[1;33m,\u001b[0m\u001b[1;33m\u001b[0m\u001b[0m\n\u001b[0m\u001b[0;32m    424\u001b[0m         )\n\u001b[0;32m    425\u001b[0m         \u001b[1;32mreturn\u001b[0m \u001b[0munstacker\u001b[0m\u001b[1;33m.\u001b[0m\u001b[0mget_result\u001b[0m\u001b[1;33m(\u001b[0m\u001b[1;33m)\u001b[0m\u001b[1;33m\u001b[0m\u001b[0m\n",
      "\u001b[1;32m~\\Anaconda3\\lib\\site-packages\\pandas\\core\\reshape\\reshape.py\u001b[0m in \u001b[0;36m__init__\u001b[1;34m(self, values, index, level, value_columns, fill_value, constructor)\u001b[0m\n\u001b[0;32m    140\u001b[0m \u001b[1;33m\u001b[0m\u001b[0m\n\u001b[0;32m    141\u001b[0m         \u001b[0mself\u001b[0m\u001b[1;33m.\u001b[0m\u001b[0m_make_sorted_values_labels\u001b[0m\u001b[1;33m(\u001b[0m\u001b[1;33m)\u001b[0m\u001b[1;33m\u001b[0m\u001b[0m\n\u001b[1;32m--> 142\u001b[1;33m         \u001b[0mself\u001b[0m\u001b[1;33m.\u001b[0m\u001b[0m_make_selectors\u001b[0m\u001b[1;33m(\u001b[0m\u001b[1;33m)\u001b[0m\u001b[1;33m\u001b[0m\u001b[0m\n\u001b[0m\u001b[0;32m    143\u001b[0m \u001b[1;33m\u001b[0m\u001b[0m\n\u001b[0;32m    144\u001b[0m     \u001b[1;32mdef\u001b[0m \u001b[0m_make_sorted_values_labels\u001b[0m\u001b[1;33m(\u001b[0m\u001b[0mself\u001b[0m\u001b[1;33m)\u001b[0m\u001b[1;33m:\u001b[0m\u001b[1;33m\u001b[0m\u001b[0m\n",
      "\u001b[1;32m~\\Anaconda3\\lib\\site-packages\\pandas\\core\\reshape\\reshape.py\u001b[0m in \u001b[0;36m_make_selectors\u001b[1;34m(self)\u001b[0m\n\u001b[0;32m    178\u001b[0m \u001b[1;33m\u001b[0m\u001b[0m\n\u001b[0;32m    179\u001b[0m         \u001b[1;32mif\u001b[0m \u001b[0mmask\u001b[0m\u001b[1;33m.\u001b[0m\u001b[0msum\u001b[0m\u001b[1;33m(\u001b[0m\u001b[1;33m)\u001b[0m \u001b[1;33m<\u001b[0m \u001b[0mlen\u001b[0m\u001b[1;33m(\u001b[0m\u001b[0mself\u001b[0m\u001b[1;33m.\u001b[0m\u001b[0mindex\u001b[0m\u001b[1;33m)\u001b[0m\u001b[1;33m:\u001b[0m\u001b[1;33m\u001b[0m\u001b[0m\n\u001b[1;32m--> 180\u001b[1;33m             \u001b[1;32mraise\u001b[0m \u001b[0mValueError\u001b[0m\u001b[1;33m(\u001b[0m\u001b[1;34m\"Index contains duplicate entries, \"\u001b[0m \u001b[1;34m\"cannot reshape\"\u001b[0m\u001b[1;33m)\u001b[0m\u001b[1;33m\u001b[0m\u001b[0m\n\u001b[0m\u001b[0;32m    181\u001b[0m \u001b[1;33m\u001b[0m\u001b[0m\n\u001b[0;32m    182\u001b[0m         \u001b[0mself\u001b[0m\u001b[1;33m.\u001b[0m\u001b[0mgroup_index\u001b[0m \u001b[1;33m=\u001b[0m \u001b[0mcomp_index\u001b[0m\u001b[1;33m\u001b[0m\u001b[0m\n",
      "\u001b[1;31mValueError\u001b[0m: Index contains duplicate entries, cannot reshape"
     ]
    }
   ],
   "source": [
    "class_results['desc'] = class_results['model']+ ' model using '+class_results['file']\n",
    "class_results_pivot = class_results.pivot(index='tweet_id',columns='desc',values='pred').reset_index()\n",
    "class_results.to_csv('class_results.csv')"
   ]
  },
  {
   "cell_type": "markdown",
   "metadata": {},
   "source": [
    "## Counts of positives and negatives per tweet"
   ]
  },
  {
   "cell_type": "code",
   "execution_count": 15,
   "metadata": {},
   "outputs": [],
   "source": [
    "df_check = class_results_pivot.copy() #copy the detailed results\n",
    "model_counts = len(df_check.columns)-1 #count the total number of models in df_check\n",
    "df_check['count_positive'] = df_check.sum(axis=1) #create a column counting the number of positives\n",
    "df_check = pd.merge(df_check, actual_class, on='tweet_id') #merge the actual class for each tweet\n",
    "df_check = df_check.loc[:,['tweet_id','count_positive','class_column']]   #create dataframe with the actual class and the\n",
    "df_check['count_negative'] = model_counts - df_check['count_positive']    #counts of positive and negative predictions per tweet"
   ]
  },
  {
   "cell_type": "code",
   "execution_count": 17,
   "metadata": {},
   "outputs": [
    {
     "name": "stdout",
     "output_type": "stream",
     "text": [
      "44\n",
      "44\n",
      "44\n",
      "44\n",
      "44\n"
     ]
    }
   ],
   "source": [
    "t_id = [] #array to hold tweet ids\n",
    "tweet = [] #array to hold tweet texts\n",
    "desc = [] #classifier and feature combo\n",
    "count = [] #number of classifier/feature combos classifying correctly\n",
    "t = [] #the type of correct classification\n",
    "\n",
    "for n in range(0,10): #n is the number of classifier/feature combos that got the right classification\n",
    "    tweet_list = df_check[(df_check.count_negative==n)&(df_check.class_column==0)].tweet_id #negative class \n",
    "    if n==0:                                                                                #tweets with n negative \n",
    "        if (len(tweet_list)>0): #if there are tweets without correct classification         #correct classifiers\n",
    "            t_id = np.append(t_id,tweet_list) #append tweet ids\n",
    "            tweet = np.append(tweet,eval_data_formatted[eval_data_formatted['Tweet ID'].isin(tweet_list)].Tweet) #append tweet text\n",
    "            desc = np.append(desc,np.repeat('no models',len(tweet_list))) #append classifier and feature combo description\n",
    "            count = np.append(count,np.repeat(n,len(tweet_list))) #append number of classifier/feature combos classifying correctly\n",
    "            t = np.append(t,np.repeat('tn',len(tweet_list))) #append the type of correct classification\n",
    "    else:\n",
    "        for tw_id in tweet_list: #go through each tweet id\n",
    "            t_id = np.append(t_id,np.repeat(tw_id,n)) #append tweet id\n",
    "            tweet = np.append(tweet,np.repeat(eval_data_formatted[eval_data_formatted['Tweet ID']==tw_id].Tweet,n)) #tweet text\n",
    "            desc = np.append(desc,class_results[(class_results.pred==0)&(class_results.tweet_id==tw_id)].desc) #classifier/feature combo\n",
    "            count = np.append(count,np.repeat(n,n)) #append number of classifier/feature combos classifying correctly\n",
    "            t = np.append(t,np.repeat('tn',n)) #append the type of correct classification\n",
    "            \n",
    "            \n",
    "    tweet_list = df_check[(df_check.count_positive==n)&(df_check.class_column==1)].tweet_id #positive class\n",
    "    if n==0:                                                                                #tweets with n negative \n",
    "        if (len(tweet_list)>0): #if there are tweets without correct classification         #correct classifiers\n",
    "            t_id = np.append(t_id,tweet_list) #append tweet ids\n",
    "            tweet = np.append(tweet,eval_data_formatted[eval_data_formatted['Tweet ID'].isin(tweet_list)].Tweet) #append tweet text\n",
    "            desc = np.append(desc,np.repeat('no models',len(tweet_list))) #append classifier and feature combo description\n",
    "            count = np.append(count,np.repeat(n,len(tweet_list))) #append number of classifier/feature combos classifying correctly\n",
    "            t = np.append(t,np.repeat('tp',len(tweet_list))) #append the type of correct classification\n",
    "    else:\n",
    "        for tw_id in tweet_list: #go through each tweet id\n",
    "            t_id = np.append(t_id,np.repeat(tw_id,n)) #append tweet id\n",
    "            tweet = np.append(tweet,np.repeat(eval_data_formatted[eval_data_formatted['Tweet ID']==tw_id].Tweet,n)) #tweet text\n",
    "            desc = np.append(desc,class_results[(class_results.pred==1)&(class_results.tweet_id==tw_id)].desc) #classifier/feature combo\n",
    "            count = np.append(count,np.repeat(n,n)) #append number of classifier/feature combos classifying correctly\n",
    "            t = np.append(t,np.repeat('tp',n)) #append the type of correct classification            \n",
    "            \n",
    "            \n",
    "print(len(t_id))\n",
    "print(len(tweet))\n",
    "print(len(desc))\n",
    "print(len(count))\n",
    "print(len(t))"
   ]
  },
  {
   "cell_type": "code",
   "execution_count": 8,
   "metadata": {},
   "outputs": [
    {
     "data": {
      "text/html": [
       "<div>\n",
       "<style scoped>\n",
       "    .dataframe tbody tr th:only-of-type {\n",
       "        vertical-align: middle;\n",
       "    }\n",
       "\n",
       "    .dataframe tbody tr th {\n",
       "        vertical-align: top;\n",
       "    }\n",
       "\n",
       "    .dataframe thead th {\n",
       "        text-align: right;\n",
       "    }\n",
       "</style>\n",
       "<table border=\"1\" class=\"dataframe\">\n",
       "  <thead>\n",
       "    <tr style=\"text-align: right;\">\n",
       "      <th></th>\n",
       "      <th>t_id</th>\n",
       "      <th>tweet</th>\n",
       "      <th>desc</th>\n",
       "      <th>count</th>\n",
       "      <th>t</th>\n",
       "    </tr>\n",
       "  </thead>\n",
       "  <tbody>\n",
       "    <tr>\n",
       "      <td>0</td>\n",
       "      <td>888118576573325312</td>\n",
       "      <td>This may be a blessing in disguise. I'm enjoying all this Sturgeon news in the mean time. The Scottish dwarf an…</td>\n",
       "      <td>dt model using features/df_tweet_eval_nc.pickle</td>\n",
       "      <td>2.0</td>\n",
       "      <td>tp</td>\n",
       "    </tr>\n",
       "    <tr>\n",
       "      <td>1</td>\n",
       "      <td>888118576573325312</td>\n",
       "      <td>This may be a blessing in disguise. I'm enjoying all this Sturgeon news in the mean time. The Scottish dwarf an…</td>\n",
       "      <td>cnn_glove300 model using eval_data_formatted.pickle</td>\n",
       "      <td>2.0</td>\n",
       "      <td>tp</td>\n",
       "    </tr>\n",
       "    <tr>\n",
       "      <td>2</td>\n",
       "      <td>910247211031781376</td>\n",
       "      <td>As Andrew Neil steps down from his Sunday Politics role, a reminder of the time he called Sturgeon a 'Tipsy Scotch Tart'. htt…</td>\n",
       "      <td>dt model using features/df_tweet_count_features_eval.pickle</td>\n",
       "      <td>2.0</td>\n",
       "      <td>tp</td>\n",
       "    </tr>\n",
       "    <tr>\n",
       "      <td>3</td>\n",
       "      <td>910247211031781376</td>\n",
       "      <td>As Andrew Neil steps down from his Sunday Politics role, a reminder of the time he called Sturgeon a 'Tipsy Scotch Tart'. htt…</td>\n",
       "      <td>dt model using fasttext_300_sum_plusCounts</td>\n",
       "      <td>2.0</td>\n",
       "      <td>tp</td>\n",
       "    </tr>\n",
       "    <tr>\n",
       "      <td>4</td>\n",
       "      <td>1153765869761302529</td>\n",
       "      <td>Nicola sturgeon has a face I would punch</td>\n",
       "      <td>lr model using features/df_tweet_count_features_eval.pickle</td>\n",
       "      <td>3.0</td>\n",
       "      <td>tn</td>\n",
       "    </tr>\n",
       "    <tr>\n",
       "      <td>5</td>\n",
       "      <td>1153765869761302529</td>\n",
       "      <td>Nicola sturgeon has a face I would punch</td>\n",
       "      <td>dt model using features/df_tweet_count_features_eval.pickle</td>\n",
       "      <td>3.0</td>\n",
       "      <td>tn</td>\n",
       "    </tr>\n",
       "    <tr>\n",
       "      <td>6</td>\n",
       "      <td>1153765869761302529</td>\n",
       "      <td>Nicola sturgeon has a face I would punch</td>\n",
       "      <td>rf model using w2v_300_sum</td>\n",
       "      <td>3.0</td>\n",
       "      <td>tn</td>\n",
       "    </tr>\n",
       "  </tbody>\n",
       "</table>\n",
       "</div>"
      ],
      "text/plain": [
       "                  t_id  \\\n",
       "0   888118576573325312   \n",
       "1   888118576573325312   \n",
       "2   910247211031781376   \n",
       "3   910247211031781376   \n",
       "4  1153765869761302529   \n",
       "5  1153765869761302529   \n",
       "6  1153765869761302529   \n",
       "\n",
       "                                                                                                                            tweet  \\\n",
       "0                This may be a blessing in disguise. I'm enjoying all this Sturgeon news in the mean time. The Scottish dwarf an…   \n",
       "1                This may be a blessing in disguise. I'm enjoying all this Sturgeon news in the mean time. The Scottish dwarf an…   \n",
       "2  As Andrew Neil steps down from his Sunday Politics role, a reminder of the time he called Sturgeon a 'Tipsy Scotch Tart'. htt…   \n",
       "3  As Andrew Neil steps down from his Sunday Politics role, a reminder of the time he called Sturgeon a 'Tipsy Scotch Tart'. htt…   \n",
       "4                                                                                        Nicola sturgeon has a face I would punch   \n",
       "5                                                                                        Nicola sturgeon has a face I would punch   \n",
       "6                                                                                        Nicola sturgeon has a face I would punch   \n",
       "\n",
       "                                                          desc  count   t  \n",
       "0              dt model using features/df_tweet_eval_nc.pickle    2.0  tp  \n",
       "1          cnn_glove300 model using eval_data_formatted.pickle    2.0  tp  \n",
       "2  dt model using features/df_tweet_count_features_eval.pickle    2.0  tp  \n",
       "3                   dt model using fasttext_300_sum_plusCounts    2.0  tp  \n",
       "4  lr model using features/df_tweet_count_features_eval.pickle    3.0  tn  \n",
       "5  dt model using features/df_tweet_count_features_eval.pickle    3.0  tn  \n",
       "6                                   rf model using w2v_300_sum    3.0  tn  "
      ]
     },
     "execution_count": 8,
     "metadata": {},
     "output_type": "execute_result"
    }
   ],
   "source": [
    "\n",
    "#Set the display.max_colwidth option to -1:\n",
    "\n",
    "pd.options.display.max_colwidth = 280\n",
    "df = pd.DataFrame({'t_id':t_id,'tweet':tweet,'desc':desc,'count':count,'t':t})\n",
    "df"
   ]
  },
  {
   "cell_type": "code",
   "execution_count": 9,
   "metadata": {},
   "outputs": [
    {
     "data": {
      "text/plain": [
       "0      1146950933437399040\n",
       "2      1147011915782217729\n",
       "7      1147105421477519360\n",
       "8      1147126096934125568\n",
       "9      1147151158869291009\n",
       "              ...         \n",
       "825    1157974240106352640\n",
       "827    1157974330657169408\n",
       "828    1157974611818102784\n",
       "829    1157974810833686529\n",
       "830    1157974989318033415\n",
       "Name: tweet_id, Length: 365, dtype: object"
      ]
     },
     "execution_count": 9,
     "metadata": {},
     "output_type": "execute_result"
    }
   ],
   "source": [
    "#negative class tweets where all classifiers were correct\n",
    "df_check[(df_check.count_negative==model_counts)&(df_check.class_column==0)].tweet_id"
   ]
  },
  {
   "cell_type": "code",
   "execution_count": 12,
   "metadata": {},
   "outputs": [
    {
     "data": {
      "text/plain": [
       "841     839520775027699713\n",
       "883     842483329576435712\n",
       "987     902473790403248128\n",
       "1013    906431625009025024\n",
       "Name: tweet_id, dtype: object"
      ]
     },
     "execution_count": 12,
     "metadata": {},
     "output_type": "execute_result"
    }
   ],
   "source": [
    "#positive class tweets where all classifiers were correct\n",
    "df_check[(df_check.count_positive==model_counts-2)&(df_check.class_column==1)].tweet_id"
   ]
  },
  {
   "cell_type": "code",
   "execution_count": null,
   "metadata": {},
   "outputs": [],
   "source": []
  },
  {
   "cell_type": "code",
   "execution_count": null,
   "metadata": {},
   "outputs": [],
   "source": []
  }
 ],
 "metadata": {
  "kernelspec": {
   "display_name": "Python 3",
   "language": "python",
   "name": "python3"
  },
  "language_info": {
   "codemirror_mode": {
    "name": "ipython",
    "version": 3
   },
   "file_extension": ".py",
   "mimetype": "text/x-python",
   "name": "python",
   "nbconvert_exporter": "python",
   "pygments_lexer": "ipython3",
   "version": "3.6.4"
  }
 },
 "nbformat": 4,
 "nbformat_minor": 2
}
