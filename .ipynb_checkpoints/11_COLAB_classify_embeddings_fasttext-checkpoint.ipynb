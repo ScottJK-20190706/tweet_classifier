{
 "cells": [
  {
   "cell_type": "markdown",
   "metadata": {
    "colab_type": "text",
    "id": "kK2Kc3gt2fde"
   },
   "source": [
    "## Common Imports"
   ]
  },
  {
   "cell_type": "code",
   "execution_count": 1,
   "metadata": {
    "colab": {
     "base_uri": "https://localhost:8080/",
     "height": 52
    },
    "colab_type": "code",
    "executionInfo": {
     "elapsed": 4387,
     "status": "ok",
     "timestamp": 1571128469894,
     "user": {
      "displayName": "Scott Kilgariff",
      "photoUrl": "",
      "userId": "04893934711112937862"
     },
     "user_tz": -60
    },
    "id": "-w6veqQd5x0_",
    "outputId": "1d352742-b2ab-4064-dd25-c4cdb1a98a70"
   },
   "outputs": [
    {
     "name": "stdout",
     "output_type": "stream",
     "text": [
      "[nltk_data] Downloading package punkt to /root/nltk_data...\n",
      "[nltk_data]   Unzipping tokenizers/punkt.zip.\n"
     ]
    }
   ],
   "source": [
    "import tensorflow as tf\n",
    "import pandas as pd\n",
    "import numpy as np\n",
    "import nltk\n",
    "nltk.download('punkt')\n",
    "from nltk.tokenize import word_tokenize\n",
    "import re\n",
    "from datetime import datetime"
   ]
  },
  {
   "cell_type": "code",
   "execution_count": 2,
   "metadata": {
    "colab": {
     "base_uri": "https://localhost:8080/",
     "height": 478
    },
    "colab_type": "code",
    "executionInfo": {
     "elapsed": 6501,
     "status": "ok",
     "timestamp": 1571128478199,
     "user": {
      "displayName": "Scott Kilgariff",
      "photoUrl": "",
      "userId": "04893934711112937862"
     },
     "user_tz": -60
    },
    "id": "ZtF8MLUOUhKm",
    "outputId": "18ef0206-83fa-43f0-b7aa-96cf22489648"
   },
   "outputs": [
    {
     "name": "stdout",
     "output_type": "stream",
     "text": [
      "Collecting gcsfs\n",
      "\u001b[?25l  Downloading https://files.pythonhosted.org/packages/ab/92/0297f2813cb240c52e90f8587420149970565800e019e1b08ef5ad28b6d9/gcsfs-0.3.1.tar.gz (43kB)\n",
      "\u001b[K     |████████████████████████████████| 51kB 2.5MB/s \n",
      "\u001b[?25hRequirement already satisfied: google-auth>=1.2 in /usr/local/lib/python3.6/dist-packages (from gcsfs) (1.4.2)\n",
      "Requirement already satisfied: google-auth-oauthlib in /usr/local/lib/python3.6/dist-packages (from gcsfs) (0.4.1)\n",
      "Requirement already satisfied: requests in /usr/local/lib/python3.6/dist-packages (from gcsfs) (2.21.0)\n",
      "Requirement already satisfied: decorator in /usr/local/lib/python3.6/dist-packages (from gcsfs) (4.4.0)\n",
      "Requirement already satisfied: fsspec>=0.2.2 in /usr/local/lib/python3.6/dist-packages (from gcsfs) (0.5.1)\n",
      "Requirement already satisfied: cachetools>=2.0.0 in /usr/local/lib/python3.6/dist-packages (from google-auth>=1.2->gcsfs) (3.1.1)\n",
      "Requirement already satisfied: pyasn1-modules>=0.2.1 in /usr/local/lib/python3.6/dist-packages (from google-auth>=1.2->gcsfs) (0.2.6)\n",
      "Requirement already satisfied: six>=1.9.0 in /usr/local/lib/python3.6/dist-packages (from google-auth>=1.2->gcsfs) (1.12.0)\n",
      "Requirement already satisfied: rsa>=3.1.4 in /usr/local/lib/python3.6/dist-packages (from google-auth>=1.2->gcsfs) (4.0)\n",
      "Requirement already satisfied: requests-oauthlib>=0.7.0 in /usr/local/lib/python3.6/dist-packages (from google-auth-oauthlib->gcsfs) (1.2.0)\n",
      "Requirement already satisfied: urllib3<1.25,>=1.21.1 in /usr/local/lib/python3.6/dist-packages (from requests->gcsfs) (1.24.3)\n",
      "Requirement already satisfied: idna<2.9,>=2.5 in /usr/local/lib/python3.6/dist-packages (from requests->gcsfs) (2.8)\n",
      "Requirement already satisfied: certifi>=2017.4.17 in /usr/local/lib/python3.6/dist-packages (from requests->gcsfs) (2019.9.11)\n",
      "Requirement already satisfied: chardet<3.1.0,>=3.0.2 in /usr/local/lib/python3.6/dist-packages (from requests->gcsfs) (3.0.4)\n",
      "Requirement already satisfied: pyasn1<0.5.0,>=0.4.6 in /usr/local/lib/python3.6/dist-packages (from pyasn1-modules>=0.2.1->google-auth>=1.2->gcsfs) (0.4.7)\n",
      "Requirement already satisfied: oauthlib>=3.0.0 in /usr/local/lib/python3.6/dist-packages (from requests-oauthlib>=0.7.0->google-auth-oauthlib->gcsfs) (3.1.0)\n",
      "Building wheels for collected packages: gcsfs\n",
      "  Building wheel for gcsfs (setup.py) ... \u001b[?25l\u001b[?25hdone\n",
      "  Created wheel for gcsfs: filename=gcsfs-0.3.1-py2.py3-none-any.whl size=17936 sha256=e5f3212860f33f5cd8fdc7e4ccd21781a8467a382407cd5a0c580f3027ccce6d\n",
      "  Stored in directory: /root/.cache/pip/wheels/9d/2b/6f/86954f0d8caa1173841e62bb780dc0f8693bd268e04a267682\n",
      "Successfully built gcsfs\n",
      "Installing collected packages: gcsfs\n",
      "Successfully installed gcsfs-0.3.1\n"
     ]
    }
   ],
   "source": [
    "!pip install gcsfs #google cloud storage"
   ]
  },
  {
   "cell_type": "code",
   "execution_count": 3,
   "metadata": {
    "colab": {
     "base_uri": "https://localhost:8080/",
     "height": 212
    },
    "colab_type": "code",
    "executionInfo": {
     "elapsed": 3353,
     "status": "ok",
     "timestamp": 1571128483711,
     "user": {
      "displayName": "Scott Kilgariff",
      "photoUrl": "",
      "userId": "04893934711112937862"
     },
     "user_tz": -60
    },
    "id": "YQlC6GQZU2g2",
    "outputId": "9144ee7c-58bf-40f0-e859-cee04e6ac6ce"
   },
   "outputs": [
    {
     "name": "stdout",
     "output_type": "stream",
     "text": [
      "Collecting chakin\n",
      "  Downloading https://files.pythonhosted.org/packages/ca/3f/ca2f63451c0ab47970a6ab1d39d96118e70b6e73125529cea767c31368a3/chakin-0.0.8-py3-none-any.whl\n",
      "Requirement already satisfied: pandas>=0.20.1 in /usr/local/lib/python3.6/dist-packages (from chakin) (0.24.2)\n",
      "Requirement already satisfied: six>=1.10.0 in /usr/local/lib/python3.6/dist-packages (from chakin) (1.12.0)\n",
      "Requirement already satisfied: progressbar2>=3.20.0 in /usr/local/lib/python3.6/dist-packages (from chakin) (3.38.0)\n",
      "Requirement already satisfied: numpy>=1.12.0 in /usr/local/lib/python3.6/dist-packages (from pandas>=0.20.1->chakin) (1.16.5)\n",
      "Requirement already satisfied: python-dateutil>=2.5.0 in /usr/local/lib/python3.6/dist-packages (from pandas>=0.20.1->chakin) (2.5.3)\n",
      "Requirement already satisfied: pytz>=2011k in /usr/local/lib/python3.6/dist-packages (from pandas>=0.20.1->chakin) (2018.9)\n",
      "Requirement already satisfied: python-utils>=2.3.0 in /usr/local/lib/python3.6/dist-packages (from progressbar2>=3.20.0->chakin) (2.3.0)\n",
      "Installing collected packages: chakin\n",
      "Successfully installed chakin-0.0.8\n"
     ]
    }
   ],
   "source": [
    "!pip install chakin #word embeddings"
   ]
  },
  {
   "cell_type": "markdown",
   "metadata": {
    "colab_type": "text",
    "id": "L_l6H1bi2uA4"
   },
   "source": [
    "## Obtain zipped word embeddings from chakin"
   ]
  },
  {
   "cell_type": "code",
   "execution_count": 4,
   "metadata": {
    "colab": {
     "base_uri": "https://localhost:8080/",
     "height": 318
    },
    "colab_type": "code",
    "executionInfo": {
     "elapsed": 35578,
     "status": "ok",
     "timestamp": 1571128521413,
     "user": {
      "displayName": "Scott Kilgariff",
      "photoUrl": "",
      "userId": "04893934711112937862"
     },
     "user_tz": -60
    },
    "id": "ClG_IAx3w-Zv",
    "outputId": "8832aaae-07dc-4e28-aa89-50d3738cc1b2"
   },
   "outputs": [
    {
     "name": "stdout",
     "output_type": "stream",
     "text": [
      "                   Name  Dimension  ... Language    Author\n",
      "2          fastText(en)        300  ...  English  Facebook\n",
      "11         GloVe.6B.50d         50  ...  English  Stanford\n",
      "12        GloVe.6B.100d        100  ...  English  Stanford\n",
      "13        GloVe.6B.200d        200  ...  English  Stanford\n",
      "14        GloVe.6B.300d        300  ...  English  Stanford\n",
      "15       GloVe.42B.300d        300  ...  English  Stanford\n",
      "16      GloVe.840B.300d        300  ...  English  Stanford\n",
      "17    GloVe.Twitter.25d         25  ...  English  Stanford\n",
      "18    GloVe.Twitter.50d         50  ...  English  Stanford\n",
      "19   GloVe.Twitter.100d        100  ...  English  Stanford\n",
      "20   GloVe.Twitter.200d        200  ...  English  Stanford\n",
      "21  word2vec.GoogleNews        300  ...  English    Google\n",
      "\n",
      "[12 rows x 7 columns]\n"
     ]
    },
    {
     "name": "stderr",
     "output_type": "stream",
     "text": [
      "Test: 100% ||                                      | Time:  0:00:34  36.4 MiB/s\n"
     ]
    },
    {
     "data": {
      "text/plain": [
       "'/tmp/cc.en.300.vec.gz'"
      ]
     },
     "execution_count": 4,
     "metadata": {
      "tags": []
     },
     "output_type": "execute_result"
    }
   ],
   "source": [
    "import chakin\n",
    "chakin.search(lang='English')\n",
    "chakin.download(number=2, save_dir='/tmp/') # select fastText(en)"
   ]
  },
  {
   "cell_type": "markdown",
   "metadata": {
    "colab_type": "text",
    "id": "BULlgu0S22ct"
   },
   "source": [
    "## Unzip the word embeddings file"
   ]
  },
  {
   "cell_type": "code",
   "execution_count": 0,
   "metadata": {
    "colab": {},
    "colab_type": "code",
    "id": "Jg8LxKZyxsV9"
   },
   "outputs": [],
   "source": [
    "import gzip\n",
    "import shutil\n",
    "with gzip.open('/tmp/cc.en.300.vec.gz', 'rb') as f_in:\n",
    "    with open('cc.en.300.vec', 'wb') as f_out:\n",
    "        shutil.copyfileobj(f_in, f_out)"
   ]
  },
  {
   "cell_type": "markdown",
   "metadata": {
    "colab_type": "text",
    "id": "nw36c_5d3Bfh"
   },
   "source": [
    "\n",
    "## Function for loading the word embeddings file"
   ]
  },
  {
   "cell_type": "code",
   "execution_count": 0,
   "metadata": {
    "colab": {},
    "colab_type": "code",
    "id": "3VeoAeudyzIE"
   },
   "outputs": [],
   "source": [
    "#code adapted from https://stackoverflow.com/questions/37793118/load-pretrained-glove-vectors-in-python\n",
    "def loadFasttextModel(FasttextFile):\n",
    "    print(\"Loading Fasttext Model\")\n",
    "    f = open(FasttextFile,'r')\n",
    "    model = {}\n",
    "    for line in f:\n",
    "        splitLine = line.split(' ')\n",
    "        word = splitLine[0]\n",
    "        embedding = np.array([float(val) for val in splitLine[1:]])\n",
    "        model[word] = embedding\n",
    "    print(\"Done.\",len(model),\" words loaded!\")\n",
    "    return model"
   ]
  },
  {
   "cell_type": "markdown",
   "metadata": {
    "colab_type": "text",
    "id": "r8N9rcLh4rEV"
   },
   "source": [
    "## Load the word embeddings file"
   ]
  },
  {
   "cell_type": "code",
   "execution_count": 7,
   "metadata": {
    "colab": {
     "base_uri": "https://localhost:8080/",
     "height": 52
    },
    "colab_type": "code",
    "executionInfo": {
     "elapsed": 171442,
     "status": "ok",
     "timestamp": 1571130720172,
     "user": {
      "displayName": "Scott Kilgariff",
      "photoUrl": "",
      "userId": "04893934711112937862"
     },
     "user_tz": -60
    },
    "id": "80eHRiO34wyq",
    "outputId": "72adcd3e-d564-4675-cb94-293b6099839f"
   },
   "outputs": [
    {
     "name": "stdout",
     "output_type": "stream",
     "text": [
      "Loading Fasttext Model\n",
      "Done. 2000000  words loaded!\n"
     ]
    }
   ],
   "source": [
    "w = loadFasttextModel('cc.en.300.vec')"
   ]
  },
  {
   "cell_type": "markdown",
   "metadata": {
    "colab_type": "text",
    "id": "jN4o6BHo3J_X"
   },
   "source": [
    "## Upload the Tweets pickle files"
   ]
  },
  {
   "cell_type": "code",
   "execution_count": 0,
   "metadata": {
    "colab": {},
    "colab_type": "code",
    "id": "7C42hdJQz9O1"
   },
   "outputs": [],
   "source": [
    "! wget -cq https://github.com/ScottJK-20190706/tweet_classifier/blob/master/pickle_files//train_data_formatted.pickle?raw=true\n",
    "! wget -cq https://github.com/ScottJK-20190706/tweet_classifier/blob/master/pickle_files/eval_data_formatted.pickle?raw=true\n",
    "! wget -cq https://github.com/ScottJK-20190706/tweet_classifier/blob/master/features/count_features/count_features.pickle?raw=true"
   ]
  },
  {
   "cell_type": "markdown",
   "metadata": {
    "colab_type": "text",
    "id": "jY-UpqMn3QUQ"
   },
   "source": [
    "## Function for transforming tweets to word embedding arrays"
   ]
  },
  {
   "cell_type": "code",
   "execution_count": 0,
   "metadata": {
    "colab": {},
    "colab_type": "code",
    "id": "SZH6rto75Yl8"
   },
   "outputs": [],
   "source": [
    "def embedding(df,length):\n",
    "    tokens = df.loc[:,['Tweet ID','Tweet','class']] #slice the text and tweet id\n",
    "    p = re.compile(r'[^\\w\\s]+')\n",
    "    tokens['Tweet'] = [p.sub('', x) for x in tokens['Tweet'].tolist()] #remove the punctuation\n",
    "    tokens['Tweet'] = tokens['Tweet'].apply(word_tokenize) #tokenize the text\n",
    "    tokens = tokens.reset_index()\n",
    "\n",
    "    seq_sizes = [] #initialize a list to hold length in tokens of each tweet\n",
    "    for i in tokens.index:\n",
    "        seq_sizes = np.append(seq_sizes, len(tokens.Tweet[i])) #get all the tweet token lengths\n",
    "    max_len = int(round(np.percentile(seq_sizes,100))) #find the number of tokens equal to the 100th percentile of token lengths\n",
    "    #max_len = max_len//4*4 #find the nearest number divisible by four\n",
    "    print(max_len)\n",
    "\n",
    "    vector_size = length #this is the length of the pretrained word embeddings\n",
    "    vec_array = np.zeros(tokens.shape[0]*max_len*vector_size) #initialize an array to hold enbeddings\n",
    "    #vec_array = np.zeros(1000*max_len*vector_size) #initialize an array to hold enbeddings\n",
    "    id_array = [] #initialize an array for the tweetd ids\n",
    "    labels = [] #initialize an array for the labels\n",
    "    missing_tokens = [] #initialize an array to hold missing tokens\n",
    "    found_tokens = [] #initialize an array to hold missing tokens\n",
    "    for i in range(0,tokens.shape[0]): #loop through each tweet\n",
    "    #for i in range(0,1000): #loop through each tweet\n",
    "        id_array = np.append(id_array,tokens['Tweet ID'][i])\n",
    "        labels = np.append(labels,tokens['class'][i])\n",
    "        if i%500==0:\n",
    "            print(i) #print progress\n",
    "        for j in range(0,max_len): #loop through each token\n",
    "            try:\n",
    "                w2v = w[tokens.Tweet[i][j]] #check if the token has a pretrained embedding\n",
    "                found_tokens = np.append(found_tokens,tokens.Tweet[i][j])\n",
    "                for k in range(0,vector_size):\n",
    "                    position = (i*max_len*vector_size)+(j*vector_size)+k\n",
    "                    vec_array[position] = w2v[k] #loop through each element of the token's embedding and add to vec_array\n",
    "            except:\n",
    "                try:\n",
    "                    missing_tokens = np.append(missing_tokens,tokens.Tweet[i][j])\n",
    "                except:\n",
    "                    pass\n",
    "    \n",
    "    vec_array = np.reshape(vec_array,(tokens.shape[0],max_len,vector_size)) #reshape vec_array\n",
    "    missing_tokens = np.unique(missing_tokens)\n",
    "    found_tokens = np.unique(found_tokens)\n",
    "    \n",
    "    return (vec_array, id_array, labels, max_len, missing_tokens, found_tokens)\n",
    "        "
   ]
  },
  {
   "cell_type": "markdown",
   "metadata": {
    "colab_type": "text",
    "id": "DCHg4XQ93aSo"
   },
   "source": [
    "## Transform the tweets to word embedding arrays"
   ]
  },
  {
   "cell_type": "code",
   "execution_count": 10,
   "metadata": {
    "colab": {
     "base_uri": "https://localhost:8080/",
     "height": 265
    },
    "colab_type": "code",
    "executionInfo": {
     "elapsed": 119738,
     "status": "ok",
     "timestamp": 1571130984241,
     "user": {
      "displayName": "Scott Kilgariff",
      "photoUrl": "",
      "userId": "04893934711112937862"
     },
     "user_tz": -60
    },
    "id": "K5VlPBQT2NHF",
    "outputId": "f19b124d-8e9c-45ae-86fe-dcae72660cce"
   },
   "outputs": [
    {
     "name": "stdout",
     "output_type": "stream",
     "text": [
      "57\n",
      "0\n",
      "500\n",
      "1000\n",
      "1500\n",
      "2000\n",
      "2500\n",
      "3000\n",
      "3500\n",
      "4000\n",
      "55\n",
      "0\n",
      "500\n",
      "1000\n"
     ]
    }
   ],
   "source": [
    "vec_len = 300\n",
    "import pickle\n",
    "import pandas as pd\n",
    "train_data = pd.read_pickle('train_data_formatted.pickle?raw=true')\n",
    "eval_data = pd.read_pickle('eval_data_formatted.pickle?raw=true')\n",
    "train_data, train_id, train_labels, train_max_len, train_missing_tokens, train_found_tokens = embedding(train_data,vec_len)\n",
    "eval_data, eval_id, eval_labels, eval_max_len, eval_missing_tokens, eval_found_tokens = embedding(eval_data,vec_len)\n",
    "train_labels = train_labels.astype(int)\n",
    "eval_labels = eval_labels.astype(int)\n",
    "del w #clear some memory"
   ]
  },
  {
   "cell_type": "markdown",
   "metadata": {
    "colab_type": "text",
    "id": "I1jhqXXRZG-o"
   },
   "source": [
    "## Authenticate location for saving files"
   ]
  },
  {
   "cell_type": "code",
   "execution_count": 11,
   "metadata": {
    "colab": {
     "base_uri": "https://localhost:8080/",
     "height": 176
    },
    "colab_type": "code",
    "executionInfo": {
     "elapsed": 28570,
     "status": "ok",
     "timestamp": 1571131049436,
     "user": {
      "displayName": "Scott Kilgariff",
      "photoUrl": "",
      "userId": "04893934711112937862"
     },
     "user_tz": -60
    },
    "id": "-CJWumDaUHLX",
    "outputId": "e68561d0-3c7b-433e-9e22-74932d803c19"
   },
   "outputs": [
    {
     "name": "stdout",
     "output_type": "stream",
     "text": [
      "WARNING:tensorflow:\n",
      "The TensorFlow contrib module will not be included in TensorFlow 2.0.\n",
      "For more information, please see:\n",
      "  * https://github.com/tensorflow/community/blob/master/rfcs/20180907-contrib-sunset.md\n",
      "  * https://github.com/tensorflow/addons\n",
      "  * https://github.com/tensorflow/io (for I/O related ops)\n",
      "If you depend on functionality not listed there, please file an issue.\n",
      "\n",
      "***** File output directory: gs://dissertation_bucket/classify_embeddings_fasttext *****\n"
     ]
    }
   ],
   "source": [
    "# Set the output directory for saving model file\n",
    "# Optionally, set a GCP bucket location\n",
    "\n",
    "FILE_OUTPUT_DIR = 'classify_embeddings_fasttext'#@param {type:\"string\"}\n",
    "#@markdown Whether or not to clear/delete the directory and create a new one\n",
    "DO_DELETE = True #@param {type:\"boolean\"}\n",
    "#@markdown Set USE_BUCKET and BUCKET if you want to (optionally) store model output on GCP bucket.\n",
    "USE_BUCKET = True #@param {type:\"boolean\"}\n",
    "BUCKET = 'dissertation_bucket' #@param {type:\"string\"}\n",
    "\n",
    "if USE_BUCKET:\n",
    "  FILE_OUTPUT_DIR = 'gs://{}/{}'.format(BUCKET, FILE_OUTPUT_DIR)\n",
    "  from google.colab import auth\n",
    "  auth.authenticate_user()\n",
    "\n",
    "if DO_DELETE:\n",
    "  try:\n",
    "    tf.gfile.DeleteRecursively(FILE_OUTPUT_DIR)\n",
    "  except:\n",
    "    # Doesn't matter if the directory didn't exist\n",
    "    pass\n",
    "tf.gfile.MakeDirs(FILE_OUTPUT_DIR)\n",
    "print('***** File output directory: {} *****'.format(FILE_OUTPUT_DIR))"
   ]
  },
  {
   "cell_type": "markdown",
   "metadata": {
    "colab_type": "text",
    "id": "gSi_JGRZZeYO"
   },
   "source": [
    "## Save file detailing tokens that were found"
   ]
  },
  {
   "cell_type": "code",
   "execution_count": 0,
   "metadata": {
    "colab": {},
    "colab_type": "code",
    "id": "tHQCB8ikWvK2"
   },
   "outputs": [],
   "source": [
    "max_len = max(train_max_len, eval_max_len)\n",
    "found_tokens = np.unique(np.append(train_found_tokens,eval_found_tokens))\n",
    "missing_tokens = np.unique(np.append(train_missing_tokens,eval_missing_tokens))\n",
    "found = pd.DataFrame({'token': found_tokens})\n",
    "found['found'] = 1\n",
    "missing = pd.DataFrame({'token': missing_tokens})\n",
    "missing['found'] = 0\n",
    "tokens = found.append(missing)\n",
    "filename = FILE_OUTPUT_DIR + '/tokens.csv'\n",
    "tokens.to_csv(filename)"
   ]
  },
  {
   "cell_type": "markdown",
   "metadata": {
    "colab_type": "text",
    "id": "ZdkSBNOqC-K3"
   },
   "source": [
    "## Function for summing embeddings over each tweet"
   ]
  },
  {
   "cell_type": "code",
   "execution_count": 0,
   "metadata": {
    "colab": {},
    "colab_type": "code",
    "id": "x3SpJlSPVJOT"
   },
   "outputs": [],
   "source": [
    "def aggregate_vectors(data,max_len,tweet_id):\n",
    "  count_features = pd.read_pickle('count_features.pickle?raw=true')\n",
    "  count_features_list = ['ave_chars_token', 'caps_count', 'followers_count', 'following_count',\n",
    "                         'mention_count', 'neg_sent', 'neu_sent', 'pos_sent','posted_tweets_count',\n",
    "                         'punctuation_count', 'quotes_count', 'url_count'] \n",
    "  embed_vec_sum = np.zeros(data.shape[0]*vec_len) #initialize an array to hold sum of embeddings\n",
    "\n",
    "  embed_vec_sum = np.reshape(embed_vec_sum,(data.shape[0],vec_len)) #reshape embed_vec_sum\n",
    "\n",
    "  for i in range(0,data.shape[0]): #loop through the arrays\n",
    "    token_count = max_len #there are max_len potential tokens in each array\n",
    "    if np.sum(data[i])==0: #some tweets might have vectors that are all zeros\n",
    "      embed_vec_sum[i] = np.zeros(vec_len) #set vector to zeros\n",
    "    else:\n",
    "      if i%500==0:\n",
    "        print(i) #print progress\n",
    "      for j in range(0,max_len):\n",
    "        if np.sum(data[i][j])==0: #check for tokens that are currently zeros\n",
    "          token_count = token_count-1 #reduce token count by 1 when token is all zeros\n",
    "      embed_vec_sum[i] = np.add.reduce(data[i]) #add each of the individual word embeddings in the tweet\n",
    "\n",
    "  \n",
    "  \n",
    "  #*******************create arrays including count features**********************************************\n",
    "  embed_vec_count_sum = np.zeros(data.shape[0]*(vec_len+len(count_features_list))) #initialize an array to hold sum of embeddings inc count features\n",
    "\n",
    "  embed_vec_count_sum = np.reshape(embed_vec_count_sum,(data.shape[0],(vec_len+len(count_features_list)))) #reshape embed_vec_count_sum\n",
    "  \n",
    "  for i in range(0,data.shape[0]): #loop through each tweet\n",
    "    add_count = count_features[(count_features.tweet_ids==tweet_id[i])&(count_features.feature.isin(count_features_list))]['value'].values #count features for each tweet\n",
    "    if len(add_count)==0: #if there are no count features for tweet\n",
    "      embed_vec_count_sum[i] = np.append(embed_vec_sum[i],np.zeros(len(count_features_list))) #add zeros\n",
    "\n",
    "    else:\n",
    "      embed_vec_count_sum[i] = np.append(embed_vec_sum[i],add_count) #append the count features to the embedding features\n",
    "    \n",
    "      \n",
    "      \n",
    "  return(embed_vec_sum,embed_vec_count_sum)\n",
    "  #return(embed_vec_sum,embed_vec_ave)\n",
    "      \n"
   ]
  },
  {
   "cell_type": "markdown",
   "metadata": {
    "colab_type": "text",
    "id": "FHAW02yIDGRk"
   },
   "source": [
    "## Sum embeddings over each tweet"
   ]
  },
  {
   "cell_type": "code",
   "execution_count": 14,
   "metadata": {
    "colab": {
     "base_uri": "https://localhost:8080/",
     "height": 230
    },
    "colab_type": "code",
    "executionInfo": {
     "elapsed": 58431,
     "status": "ok",
     "timestamp": 1571131117841,
     "user": {
      "displayName": "Scott Kilgariff",
      "photoUrl": "",
      "userId": "04893934711112937862"
     },
     "user_tz": -60
    },
    "id": "GxJnOgMtdpmC",
    "outputId": "e0c612ed-8a21-4f97-93ad-8958e3c7642e"
   },
   "outputs": [
    {
     "name": "stdout",
     "output_type": "stream",
     "text": [
      "0\n",
      "500\n",
      "1000\n",
      "1500\n",
      "2000\n",
      "2500\n",
      "3000\n",
      "3500\n",
      "4000\n",
      "0\n",
      "500\n",
      "1000\n"
     ]
    }
   ],
   "source": [
    "train_vec_sum, train_vec_count_sum = aggregate_vectors(train_data,train_max_len,train_id)\n",
    "eval_vec_sum, eval_vec_count_sum = aggregate_vectors(eval_data,eval_max_len,eval_id)"
   ]
  },
  {
   "cell_type": "markdown",
   "metadata": {
    "colab_type": "text",
    "id": "YPIK4Bx1DNnK"
   },
   "source": [
    "## Import classifiers and metrics"
   ]
  },
  {
   "cell_type": "code",
   "execution_count": 0,
   "metadata": {
    "colab": {},
    "colab_type": "code",
    "id": "wM4e9z9XeESK"
   },
   "outputs": [],
   "source": [
    "from sklearn.linear_model import LogisticRegression #import lr\n",
    "from sklearn.svm import SVC #import svm\n",
    "from sklearn.tree import DecisionTreeClassifier #import dt\n",
    "from sklearn.ensemble import RandomForestClassifier #import rf\n",
    "from sklearn.metrics import confusion_matrix, precision_score, recall_score, f1_score, auc, roc_curve, accuracy_score #metrics\n",
    "from sklearn.model_selection import GridSearchCV #grid search\n",
    "log_clf = LogisticRegression()\n",
    "svc_clf = SVC()\n",
    "dt_clf = DecisionTreeClassifier()\n",
    "rf_clf = RandomForestClassifier()"
   ]
  },
  {
   "cell_type": "markdown",
   "metadata": {
    "colab_type": "text",
    "id": "phlpM8vcDXbR"
   },
   "source": [
    "## Grid search and evaluation function"
   ]
  },
  {
   "cell_type": "code",
   "execution_count": 0,
   "metadata": {
    "colab": {},
    "colab_type": "code",
    "id": "kRfPwYo3QEcp"
   },
   "outputs": [],
   "source": [
    "def search_grid(classifier, model, x_train, y_train, class_train, x_eval, y_eval, class_eval):\n",
    "    \n",
    "    if model == 'lr': #if using logisitic regression\n",
    "        param_grid = [{'random_state':[42],\n",
    "               'C':[0.05,0.1,0.5,1],\n",
    "               'penalty':['l1','l2']}]\n",
    "        \n",
    "    if model == 'dt': #if using decision tree\n",
    "        param_grid = [{'random_state':[42],\n",
    "                       'criterion':['gini','entropy']}]\n",
    "        \n",
    "    if model == 'rf': #if using random forest\n",
    "        param_grid = [{'random_state':[42],\n",
    "                       'criterion':['gini','entropy']}] \n",
    "    \n",
    "    if model == 'svm': #if using svm\n",
    "        param_grid = [{'random_state':[42],\n",
    "                   'C':[0.05,0.1,1,10], \n",
    "                   'kernel':['linear','rbf']}]\n",
    "    \n",
    "  \n",
    "    param_grid = param_grid\n",
    "    grid_search = GridSearchCV(classifier, param_grid, cv=10, scoring='recall') #grid search using 10-folds cross validation\n",
    "    grid_search.fit(x_train, y_train) #fir grid search\n",
    "    print(\"\")\n",
    "    print('Best parameters')\n",
    "    best_parameters = grid_search.best_params_\n",
    "    print(best_parameters) #print best parameters from grid search\n",
    "    print('Best grid search score = ',grid_search.best_score_) #print best grid search score\n",
    "    print(\"\")\n",
    "    print('Evaluation data scores')\n",
    "    tuned_clf = grid_search.best_estimator_ #build model using best parameters\n",
    "    tuned_clf_pred = tuned_clf.predict(x_eval) #predict using evaluation data with best parameters\n",
    "    conf_matrix = confusion_matrix(y_eval,tuned_clf_pred) #build confusion matrix\n",
    "    precision = precision_score(y_eval,tuned_clf_pred) #calculate precision\n",
    "    recall = recall_score(y_eval,tuned_clf_pred) #calculate recall\n",
    "    f1 = f1_score(y_eval,tuned_clf_pred) #calculate f1\n",
    "    fpr, tpr, thresholds = roc_curve(y_eval,tuned_clf_pred)\n",
    "    auc_score = auc(fpr, tpr) #calculate auc\n",
    "    accuracy = accuracy_score(y_eval,tuned_clf_pred) #calculate accuracy\n",
    "    class_eval['pred'] = tuned_clf_pred\n",
    "    class_eval = class_eval.drop('class_column', axis=1) #join predictions onto actuals\n",
    "    print(conf_matrix)\n",
    "    print('precision = ' + str(precision))\n",
    "    print('recall = ' + str(recall))\n",
    "    print('f1 = ' + str(f1))\n",
    "    print('auc = ' + str(auc_score))\n",
    "    print('accuracy = ' + str(accuracy))\n",
    "    \n",
    "    return(best_parameters, conf_matrix, precision, recall, f1, auc_score, accuracy, class_eval) #return metrics and pred vs actuals for each tweet"
   ]
  },
  {
   "cell_type": "markdown",
   "metadata": {
    "colab_type": "text",
    "id": "PiOXy6c6Dfqy"
   },
   "source": [
    "## Perform grid search and evaluation for each classifier and feature combo"
   ]
  },
  {
   "cell_type": "code",
   "execution_count": 17,
   "metadata": {
    "colab": {
     "base_uri": "https://localhost:8080/",
     "height": 1000
    },
    "colab_type": "code",
    "executionInfo": {
     "elapsed": 883264,
     "status": "ok",
     "timestamp": 1571132011501,
     "user": {
      "displayName": "Scott Kilgariff",
      "photoUrl": "",
      "userId": "04893934711112937862"
     },
     "user_tz": -60
    },
    "id": "wuVvYlMCRjbJ",
    "outputId": "5f76478e-4bf2-4fdb-bcf3-72e9e3ec66f6"
   },
   "outputs": [
    {
     "name": "stdout",
     "output_type": "stream",
     "text": [
      "\n",
      "Best parameters\n",
      "{'C': 1, 'penalty': 'l2', 'random_state': 42}\n",
      "Best grid search score =  0.7673453131181823\n",
      "\n",
      "Evaluation data scores\n",
      "[[799  32]\n",
      " [ 52 138]]\n",
      "precision = 0.8117647058823529\n",
      "recall = 0.7263157894736842\n",
      "f1 = 0.7666666666666667\n",
      "auc = 0.8439039837861803\n",
      "accuracy = 0.9177277179236043\n",
      "\n",
      "Best parameters\n",
      "{'criterion': 'entropy', 'random_state': 42}\n",
      "Best grid search score =  0.5484560749072138\n",
      "\n",
      "Evaluation data scores\n",
      "[[759  72]\n",
      " [ 84 106]]\n",
      "precision = 0.5955056179775281\n",
      "recall = 0.5578947368421052\n",
      "f1 = 0.5760869565217391\n",
      "auc = 0.7356260687820634\n",
      "accuracy = 0.8472086190009794\n",
      "\n",
      "Best parameters\n",
      "{'criterion': 'gini', 'random_state': 42}\n",
      "Best grid search score =  0.3929339404472579\n",
      "\n",
      "Evaluation data scores\n",
      "[[826   5]\n",
      " [120  70]]\n",
      "precision = 0.9333333333333333\n",
      "recall = 0.3684210526315789\n",
      "f1 = 0.5283018867924527\n",
      "auc = 0.6812021027297486\n",
      "accuracy = 0.8775710088148874\n",
      "\n",
      "Best parameters\n",
      "{'C': 1, 'kernel': 'linear', 'random_state': 42}\n",
      "Best grid search score =  0.770440169370184\n",
      "\n",
      "Evaluation data scores\n",
      "[[798  33]\n",
      " [ 49 141]]\n",
      "precision = 0.8103448275862069\n",
      "recall = 0.7421052631578947\n",
      "f1 = 0.7747252747252746\n",
      "auc = 0.8511970359110772\n",
      "accuracy = 0.9196865817825661\n",
      "\n",
      "Best parameters\n",
      "{'C': 1, 'penalty': 'l1', 'random_state': 42}\n",
      "Best grid search score =  0.8135522052035644\n",
      "\n",
      "Evaluation data scores\n",
      "[[811  20]\n",
      " [ 45 145]]\n",
      "precision = 0.8787878787878788\n",
      "recall = 0.7631578947368421\n",
      "f1 = 0.8169014084507042\n",
      "auc = 0.8695452530242573\n",
      "accuracy = 0.9363369245837414\n",
      "\n",
      "Best parameters\n",
      "{'criterion': 'entropy', 'random_state': 42}\n",
      "Best grid search score =  0.6439784330902993\n",
      "\n",
      "Evaluation data scores\n",
      "[[775  56]\n",
      " [ 79 111]]\n",
      "precision = 0.6646706586826348\n",
      "recall = 0.5842105263157895\n",
      "f1 = 0.6218487394957983\n",
      "auc = 0.7584109189942365\n",
      "accuracy = 0.8677766895200784\n",
      "\n",
      "Best parameters\n",
      "{'criterion': 'entropy', 'random_state': 42}\n",
      "Best grid search score =  0.4359600783737449\n",
      "\n",
      "Evaluation data scores\n",
      "[[822   9]\n",
      " [114  76]]\n",
      "precision = 0.8941176470588236\n",
      "recall = 0.4\n",
      "f1 = 0.5527272727272727\n",
      "auc = 0.6945848375451263\n",
      "accuracy = 0.8795298726738492\n",
      "\n",
      "Best parameters\n",
      "{'C': 1, 'kernel': 'linear', 'random_state': 42}\n",
      "Best grid search score =  0.808883397859794\n",
      "\n",
      "Evaluation data scores\n",
      "[[799  32]\n",
      " [ 40 150]]\n",
      "precision = 0.8241758241758241\n",
      "recall = 0.7894736842105263\n",
      "f1 = 0.8064516129032259\n",
      "auc = 0.8754829311546012\n",
      "accuracy = 0.9294809010773751\n",
      "time taken =  0:14:42.564800\n"
     ]
    }
   ],
   "source": [
    "import warnings\n",
    "warnings.filterwarnings('ignore')\n",
    "\n",
    "from sklearn.preprocessing import scale\n",
    "\n",
    "current = datetime.now()\n",
    "\n",
    "tf = []     #initialise empty vectors to hold results\n",
    "name = []\n",
    "bp = []\n",
    "tn = []\n",
    "fp = []\n",
    "fn = []\n",
    "tp = []\n",
    "p = []\n",
    "r = []\n",
    "f_1 = []\n",
    "auc_sc = []\n",
    "acc = []\n",
    "\n",
    "features = 'fasttext_300'\n",
    "\n",
    "trains = [train_vec_sum, train_vec_count_sum]\n",
    "evals = [eval_vec_sum, eval_vec_count_sum]\n",
    "descs = ['sum','sum_plusCounts']\n",
    "\n",
    "i=1\n",
    "for train, eval, desc in zip(trains, evals, descs):\n",
    "  \n",
    "  train = scale(train)\n",
    "  eval = scale(eval)\n",
    "\n",
    "  classifiers = [log_clf, dt_clf, rf_clf, svc_clf] #the classifiers that are to be tested\n",
    "  models = ['lr','dt','rf', 'svm'] #labels for identifying the results\n",
    "\n",
    "  x_train = train\n",
    "  y_train = train_labels\n",
    "\n",
    "\n",
    "\n",
    "  x_eval = eval\n",
    "  y_eval = eval_labels\n",
    "\n",
    "\n",
    "  for classifier, model in zip(classifiers,models):\n",
    "    \n",
    "    class_train = pd.DataFrame({'tweet_id':train_id,\n",
    "                                'class_column':y_train})\n",
    "    \n",
    "    class_eval = pd.DataFrame({'tweet_id':eval_id,\n",
    "                                'class_column':y_eval})    \n",
    "    \n",
    "    best_parameters, conf_matrix, precision, recall, f1, auc_score, accuracy, class_eval = search_grid(classifier, \n",
    "                                                                                                       model, \n",
    "                                                                                                       x_train, \n",
    "                                                                                                       y_train, \n",
    "                                                                                                       class_train, \n",
    "                                                                                                       x_eval, \n",
    "                                                                                                       y_eval, \n",
    "                                                                                                       class_eval)\n",
    "    #append the latest results to the vectors\n",
    "    tf_text = features + \"_\" + desc\n",
    "    tf = np.append(tf,tf_text)\n",
    "    name = np.append(name,model)\n",
    "    b = ';'.join('{} {}'.format(key, val) for key, val in best_parameters.items())\n",
    "    bp = np.append(bp,b)\n",
    "    tn = np.append(tn,conf_matrix[0][0])\n",
    "    fp = np.append(fp,conf_matrix[0][1])\n",
    "    fn = np.append(fn,conf_matrix[1][0])\n",
    "    tp = np.append(tp,conf_matrix[1][1])\n",
    "    p = np.append(p,precision)\n",
    "    r = np.append(r,recall)\n",
    "    f_1 = np.append(f_1,f1)\n",
    "    auc_sc = np.append(auc_sc,auc_score)\n",
    "    acc = np.append(acc,accuracy)\n",
    "\n",
    "    #col = train_file+'_'+model #build a column name\n",
    "    #class_eval.columns = ['tweet_id',col] #rename the columns\n",
    "    class_eval['model'] = model\n",
    "    class_eval['file'] = tf_text\n",
    "    if i==1: #if we are on the first iteration of the loop\n",
    "        df = class_eval.copy()\n",
    "    else: #if we are not on the first iteration f the loop\n",
    "        #df = pd.merge(df, class_eval, on='tweet_id')\n",
    "        df = df.append(class_eval)\n",
    "\n",
    "    i = i+1 #increment i\n",
    "\n",
    "print('time taken = ',datetime.now() - current) #print the time taken\n",
    "    \n"
   ]
  },
  {
   "cell_type": "markdown",
   "metadata": {
    "colab_type": "text",
    "id": "LuAV-iLGDon6"
   },
   "source": [
    "## Create dataframe for performance metrics"
   ]
  },
  {
   "cell_type": "code",
   "execution_count": 18,
   "metadata": {
    "colab": {
     "base_uri": "https://localhost:8080/",
     "height": 287
    },
    "colab_type": "code",
    "executionInfo": {
     "elapsed": 861,
     "status": "ok",
     "timestamp": 1571136757035,
     "user": {
      "displayName": "Scott Kilgariff",
      "photoUrl": "",
      "userId": "04893934711112937862"
     },
     "user_tz": -60
    },
    "id": "g3Apx01rhdiU",
    "outputId": "7c1084a1-d305-4f4d-d2df-ce0d2fe0d21c"
   },
   "outputs": [
    {
     "data": {
      "text/html": [
       "<div>\n",
       "<style scoped>\n",
       "    .dataframe tbody tr th:only-of-type {\n",
       "        vertical-align: middle;\n",
       "    }\n",
       "\n",
       "    .dataframe tbody tr th {\n",
       "        vertical-align: top;\n",
       "    }\n",
       "\n",
       "    .dataframe thead th {\n",
       "        text-align: right;\n",
       "    }\n",
       "</style>\n",
       "<table border=\"1\" class=\"dataframe\">\n",
       "  <thead>\n",
       "    <tr style=\"text-align: right;\">\n",
       "      <th></th>\n",
       "      <th>tf</th>\n",
       "      <th>name</th>\n",
       "      <th>bp</th>\n",
       "      <th>tn</th>\n",
       "      <th>fp</th>\n",
       "      <th>fn</th>\n",
       "      <th>tp</th>\n",
       "      <th>p</th>\n",
       "      <th>r</th>\n",
       "      <th>f_1</th>\n",
       "      <th>auc_sc</th>\n",
       "      <th>acc</th>\n",
       "    </tr>\n",
       "  </thead>\n",
       "  <tbody>\n",
       "    <tr>\n",
       "      <th>4</th>\n",
       "      <td>fasttext_300_sum_plusCounts</td>\n",
       "      <td>lr</td>\n",
       "      <td>C 1;penalty l1;random_state 42</td>\n",
       "      <td>811.0</td>\n",
       "      <td>20.0</td>\n",
       "      <td>45.0</td>\n",
       "      <td>145.0</td>\n",
       "      <td>0.878788</td>\n",
       "      <td>0.763158</td>\n",
       "      <td>0.816901</td>\n",
       "      <td>0.869545</td>\n",
       "      <td>0.936337</td>\n",
       "    </tr>\n",
       "    <tr>\n",
       "      <th>7</th>\n",
       "      <td>fasttext_300_sum_plusCounts</td>\n",
       "      <td>svm</td>\n",
       "      <td>C 1;kernel linear;random_state 42</td>\n",
       "      <td>799.0</td>\n",
       "      <td>32.0</td>\n",
       "      <td>40.0</td>\n",
       "      <td>150.0</td>\n",
       "      <td>0.824176</td>\n",
       "      <td>0.789474</td>\n",
       "      <td>0.806452</td>\n",
       "      <td>0.875483</td>\n",
       "      <td>0.929481</td>\n",
       "    </tr>\n",
       "    <tr>\n",
       "      <th>3</th>\n",
       "      <td>fasttext_300_sum</td>\n",
       "      <td>svm</td>\n",
       "      <td>C 1;kernel linear;random_state 42</td>\n",
       "      <td>798.0</td>\n",
       "      <td>33.0</td>\n",
       "      <td>49.0</td>\n",
       "      <td>141.0</td>\n",
       "      <td>0.810345</td>\n",
       "      <td>0.742105</td>\n",
       "      <td>0.774725</td>\n",
       "      <td>0.851197</td>\n",
       "      <td>0.919687</td>\n",
       "    </tr>\n",
       "    <tr>\n",
       "      <th>0</th>\n",
       "      <td>fasttext_300_sum</td>\n",
       "      <td>lr</td>\n",
       "      <td>C 1;penalty l2;random_state 42</td>\n",
       "      <td>799.0</td>\n",
       "      <td>32.0</td>\n",
       "      <td>52.0</td>\n",
       "      <td>138.0</td>\n",
       "      <td>0.811765</td>\n",
       "      <td>0.726316</td>\n",
       "      <td>0.766667</td>\n",
       "      <td>0.843904</td>\n",
       "      <td>0.917728</td>\n",
       "    </tr>\n",
       "    <tr>\n",
       "      <th>5</th>\n",
       "      <td>fasttext_300_sum_plusCounts</td>\n",
       "      <td>dt</td>\n",
       "      <td>criterion entropy;random_state 42</td>\n",
       "      <td>775.0</td>\n",
       "      <td>56.0</td>\n",
       "      <td>79.0</td>\n",
       "      <td>111.0</td>\n",
       "      <td>0.664671</td>\n",
       "      <td>0.584211</td>\n",
       "      <td>0.621849</td>\n",
       "      <td>0.758411</td>\n",
       "      <td>0.867777</td>\n",
       "    </tr>\n",
       "    <tr>\n",
       "      <th>1</th>\n",
       "      <td>fasttext_300_sum</td>\n",
       "      <td>dt</td>\n",
       "      <td>criterion entropy;random_state 42</td>\n",
       "      <td>759.0</td>\n",
       "      <td>72.0</td>\n",
       "      <td>84.0</td>\n",
       "      <td>106.0</td>\n",
       "      <td>0.595506</td>\n",
       "      <td>0.557895</td>\n",
       "      <td>0.576087</td>\n",
       "      <td>0.735626</td>\n",
       "      <td>0.847209</td>\n",
       "    </tr>\n",
       "    <tr>\n",
       "      <th>6</th>\n",
       "      <td>fasttext_300_sum_plusCounts</td>\n",
       "      <td>rf</td>\n",
       "      <td>criterion entropy;random_state 42</td>\n",
       "      <td>822.0</td>\n",
       "      <td>9.0</td>\n",
       "      <td>114.0</td>\n",
       "      <td>76.0</td>\n",
       "      <td>0.894118</td>\n",
       "      <td>0.400000</td>\n",
       "      <td>0.552727</td>\n",
       "      <td>0.694585</td>\n",
       "      <td>0.879530</td>\n",
       "    </tr>\n",
       "    <tr>\n",
       "      <th>2</th>\n",
       "      <td>fasttext_300_sum</td>\n",
       "      <td>rf</td>\n",
       "      <td>criterion gini;random_state 42</td>\n",
       "      <td>826.0</td>\n",
       "      <td>5.0</td>\n",
       "      <td>120.0</td>\n",
       "      <td>70.0</td>\n",
       "      <td>0.933333</td>\n",
       "      <td>0.368421</td>\n",
       "      <td>0.528302</td>\n",
       "      <td>0.681202</td>\n",
       "      <td>0.877571</td>\n",
       "    </tr>\n",
       "  </tbody>\n",
       "</table>\n",
       "</div>"
      ],
      "text/plain": [
       "                            tf name  ...    auc_sc       acc\n",
       "4  fasttext_300_sum_plusCounts   lr  ...  0.869545  0.936337\n",
       "7  fasttext_300_sum_plusCounts  svm  ...  0.875483  0.929481\n",
       "3             fasttext_300_sum  svm  ...  0.851197  0.919687\n",
       "0             fasttext_300_sum   lr  ...  0.843904  0.917728\n",
       "5  fasttext_300_sum_plusCounts   dt  ...  0.758411  0.867777\n",
       "1             fasttext_300_sum   dt  ...  0.735626  0.847209\n",
       "6  fasttext_300_sum_plusCounts   rf  ...  0.694585  0.879530\n",
       "2             fasttext_300_sum   rf  ...  0.681202  0.877571\n",
       "\n",
       "[8 rows x 12 columns]"
      ]
     },
     "execution_count": 18,
     "metadata": {
      "tags": []
     },
     "output_type": "execute_result"
    }
   ],
   "source": [
    "classifications = pd.DataFrame({'tf':tf, #create a dataframe to hold the metrics\n",
    "                                'name':name,\n",
    "                               'bp':bp,\n",
    "                               'tn':tn,\n",
    "                               'fp':fp,\n",
    "                               'fn':fn,\n",
    "                               'tp':tp,\n",
    "                               'p':p,\n",
    "                               'r':r,\n",
    "                               'f_1':f_1,\n",
    "                               'auc_sc':auc_sc,\n",
    "                               'acc':acc})\n",
    "\n",
    "classifications.sort_values(by='f_1', ascending=False)"
   ]
  },
  {
   "cell_type": "markdown",
   "metadata": {
    "colab_type": "text",
    "id": "_fjk95XMOOJF"
   },
   "source": [
    "## Ensemble Classifier (vector sums)"
   ]
  },
  {
   "cell_type": "code",
   "execution_count": 19,
   "metadata": {
    "colab": {
     "base_uri": "https://localhost:8080/",
     "height": 141
    },
    "colab_type": "code",
    "executionInfo": {
     "elapsed": 21312,
     "status": "ok",
     "timestamp": 1571136823827,
     "user": {
      "displayName": "Scott Kilgariff",
      "photoUrl": "",
      "userId": "04893934711112937862"
     },
     "user_tz": -60
    },
    "id": "25dRKGpXOaoY",
    "outputId": "251e77bd-ecdd-462f-ee44-c6cc2ffcbfb8"
   },
   "outputs": [
    {
     "name": "stdout",
     "output_type": "stream",
     "text": [
      "[[805  26]\n",
      " [ 57 133]]\n",
      "precision = 0.8364779874213837\n",
      "recall = 0.7\n",
      "f1 = 0.7621776504297995\n",
      "auc = 0.8343561973525871\n",
      "accuracy = 0.9187071498530852\n"
     ]
    }
   ],
   "source": [
    "from sklearn.ensemble import VotingClassifier\n",
    "log_clf = LogisticRegression(penalty='l2',C=1, random_state=42) #logistic regression with best hyperparameters\n",
    "svc_clf = SVC(C=1, kernel='linear', probability = True, random_state=42) #svm with best hyperparameters\n",
    "\n",
    "#create the ensemble\n",
    "e_clf = VotingClassifier(estimators=[('lr', log_clf), ('svm', svc_clf)],\n",
    "                         voting='soft', weights=[1, 1])\n",
    "\n",
    "\n",
    "features = 'fasttext_300'\n",
    "\n",
    " \n",
    "train = scale(train_vec_sum)\n",
    "eval = scale(eval_vec_sum)\n",
    "desc = 'sum'\n",
    "model = 'ensemble'\n",
    "\n",
    "x_train = train\n",
    "y_train = train_labels\n",
    "\n",
    "x_eval = eval\n",
    "y_eval = eval_labels\n",
    "\n",
    "\n",
    "    \n",
    "class_train = pd.DataFrame({'tweet_id':train_id,\n",
    "                            'class_column':y_train})\n",
    "\n",
    "class_eval = pd.DataFrame({'tweet_id':eval_id,\n",
    "                            'class_column':y_eval}) \n",
    "\n",
    "\n",
    "e_clf = e_clf.fit(x_train, y_train) #fit the ensemble\n",
    "\n",
    "e_clf_pred = e_clf.predict(x_eval) #predict using evaluation data with best parameters\n",
    "conf_matrix = confusion_matrix(y_eval,e_clf_pred) #build confusion matrix\n",
    "precision = precision_score(y_eval,e_clf_pred) #calculate precision\n",
    "recall = recall_score(y_eval,e_clf_pred) #calculate recall\n",
    "f1 = f1_score(y_eval,e_clf_pred) #calculate f1\n",
    "fpr, tpr, thresholds = roc_curve(y_eval,e_clf_pred)\n",
    "auc_score = auc(fpr, tpr) #calculate auc\n",
    "accuracy = accuracy_score(y_eval,e_clf_pred) #calculate accuracy\n",
    "class_eval['pred'] = e_clf_pred\n",
    "class_eval = class_eval.drop('class_column', axis=1) #join predictions onto actuals\n",
    "print(conf_matrix)\n",
    "print('precision = ' + str(precision))\n",
    "print('recall = ' + str(recall))\n",
    "print('f1 = ' + str(f1))\n",
    "print('auc = ' + str(auc_score))\n",
    "print('accuracy = ' + str(accuracy))\n",
    "\n",
    "#append the latest results to the vectors\n",
    "tf_text = features + \"_\" + desc\n",
    "tf = np.append(tf,tf_text)\n",
    "name = np.append(name,'ensemble (lr,svc)')\n",
    "bp = np.append(bp,'ensemble')\n",
    "tn = np.append(tn,conf_matrix[0][0])\n",
    "fp = np.append(fp,conf_matrix[0][1])\n",
    "fn = np.append(fn,conf_matrix[1][0])\n",
    "tp = np.append(tp,conf_matrix[1][1])\n",
    "p = np.append(p,precision)\n",
    "r = np.append(r,recall)\n",
    "f_1 = np.append(f_1,f1)\n",
    "auc_sc = np.append(auc_sc,auc_score)\n",
    "acc = np.append(acc,accuracy)\n",
    "\n",
    "class_eval['model'] = 'ensemble (lr,svc)'\n",
    "class_eval['file'] = tf_text\n",
    "\n",
    "df = df.append(class_eval) #merge the latest predictions for each tweet using this classifier"
   ]
  },
  {
   "cell_type": "markdown",
   "metadata": {
    "colab_type": "text",
    "id": "Rm0qMnT3Oc_Y"
   },
   "source": [
    "## Ensemble Classifier 2 (vector sums plus counts)"
   ]
  },
  {
   "cell_type": "code",
   "execution_count": 20,
   "metadata": {
    "colab": {
     "base_uri": "https://localhost:8080/",
     "height": 141
    },
    "colab_type": "code",
    "executionInfo": {
     "elapsed": 16379,
     "status": "ok",
     "timestamp": 1571136853102,
     "user": {
      "displayName": "Scott Kilgariff",
      "photoUrl": "",
      "userId": "04893934711112937862"
     },
     "user_tz": -60
    },
    "id": "cAhCCKa-OgS4",
    "outputId": "3be75b1d-3e81-42d4-9a66-fe45f59ff4cf"
   },
   "outputs": [
    {
     "name": "stdout",
     "output_type": "stream",
     "text": [
      "[[813  18]\n",
      " [ 54 136]]\n",
      "precision = 0.8831168831168831\n",
      "recall = 0.7157894736842105\n",
      "f1 = 0.7906976744186047\n",
      "auc = 0.8470644119323579\n",
      "accuracy = 0.9294809010773751\n"
     ]
    }
   ],
   "source": [
    "from sklearn.ensemble import VotingClassifier\n",
    "log_clf = LogisticRegression(penalty='l1',C=1, random_state=42) #logistic regression with best hyperparameters\n",
    "svc_clf = SVC(C=1, kernel='linear', probability = True, random_state=42) #svm with best hyperparameters\n",
    "\n",
    "#create the ensemble\n",
    "e_clf = VotingClassifier(estimators=[('lr', log_clf), ('svm', svc_clf)],\n",
    "                         voting='soft', weights=[1, 1])\n",
    "\n",
    "\n",
    "features = 'fasttext_300'\n",
    "\n",
    " \n",
    "train = scale(train_vec_count_sum)\n",
    "eval = scale(eval_vec_count_sum)\n",
    "desc = 'sum_plusCounts'\n",
    "model = 'ensemble'\n",
    "\n",
    "x_train = train\n",
    "y_train = train_labels\n",
    "\n",
    "x_eval = eval\n",
    "y_eval = eval_labels\n",
    "\n",
    "\n",
    "    \n",
    "class_train = pd.DataFrame({'tweet_id':train_id,\n",
    "                            'class_column':y_train})\n",
    "\n",
    "class_eval = pd.DataFrame({'tweet_id':eval_id,\n",
    "                            'class_column':y_eval}) \n",
    "\n",
    "\n",
    "e_clf = e_clf.fit(x_train, y_train) #fit the ensemble\n",
    "\n",
    "e_clf_pred = e_clf.predict(x_eval) #predict using evaluation data with best parameters\n",
    "conf_matrix = confusion_matrix(y_eval,e_clf_pred) #build confusion matrix\n",
    "precision = precision_score(y_eval,e_clf_pred) #calculate precision\n",
    "recall = recall_score(y_eval,e_clf_pred) #calculate recall\n",
    "f1 = f1_score(y_eval,e_clf_pred) #calculate f1\n",
    "fpr, tpr, thresholds = roc_curve(y_eval,e_clf_pred)\n",
    "auc_score = auc(fpr, tpr) #calculate auc\n",
    "accuracy = accuracy_score(y_eval,e_clf_pred) #calculate accuracy\n",
    "class_eval['pred'] = e_clf_pred\n",
    "class_eval = class_eval.drop('class_column', axis=1) #join predictions onto actuals\n",
    "print(conf_matrix)\n",
    "print('precision = ' + str(precision))\n",
    "print('recall = ' + str(recall))\n",
    "print('f1 = ' + str(f1))\n",
    "print('auc = ' + str(auc_score))\n",
    "print('accuracy = ' + str(accuracy))\n",
    "\n",
    "#append the latest results to the vectors\n",
    "tf_text = features + \"_\" + desc\n",
    "tf = np.append(tf,tf_text)\n",
    "name = np.append(name,'ensemble (lr,svc)')\n",
    "bp = np.append(bp,'ensemble')\n",
    "tn = np.append(tn,conf_matrix[0][0])\n",
    "fp = np.append(fp,conf_matrix[0][1])\n",
    "fn = np.append(fn,conf_matrix[1][0])\n",
    "tp = np.append(tp,conf_matrix[1][1])\n",
    "p = np.append(p,precision)\n",
    "r = np.append(r,recall)\n",
    "f_1 = np.append(f_1,f1)\n",
    "auc_sc = np.append(auc_sc,auc_score)\n",
    "acc = np.append(acc,accuracy)\n",
    "\n",
    "class_eval['model'] = 'ensemble (lr,svc)'\n",
    "class_eval['file'] = tf_text\n",
    "\n",
    "df = df.append(class_eval) #merge the latest predictions for each tweet using this classifier"
   ]
  },
  {
   "cell_type": "code",
   "execution_count": 21,
   "metadata": {
    "colab": {
     "base_uri": "https://localhost:8080/",
     "height": 347
    },
    "colab_type": "code",
    "executionInfo": {
     "elapsed": 384,
     "status": "ok",
     "timestamp": 1571136861520,
     "user": {
      "displayName": "Scott Kilgariff",
      "photoUrl": "",
      "userId": "04893934711112937862"
     },
     "user_tz": -60
    },
    "id": "uhukNhNTOk-g",
    "outputId": "886229b5-894a-4705-caf9-d6cffe9a492f"
   },
   "outputs": [
    {
     "data": {
      "text/html": [
       "<div>\n",
       "<style scoped>\n",
       "    .dataframe tbody tr th:only-of-type {\n",
       "        vertical-align: middle;\n",
       "    }\n",
       "\n",
       "    .dataframe tbody tr th {\n",
       "        vertical-align: top;\n",
       "    }\n",
       "\n",
       "    .dataframe thead th {\n",
       "        text-align: right;\n",
       "    }\n",
       "</style>\n",
       "<table border=\"1\" class=\"dataframe\">\n",
       "  <thead>\n",
       "    <tr style=\"text-align: right;\">\n",
       "      <th></th>\n",
       "      <th>tf</th>\n",
       "      <th>name</th>\n",
       "      <th>bp</th>\n",
       "      <th>tn</th>\n",
       "      <th>fp</th>\n",
       "      <th>fn</th>\n",
       "      <th>tp</th>\n",
       "      <th>p</th>\n",
       "      <th>r</th>\n",
       "      <th>f_1</th>\n",
       "      <th>auc_sc</th>\n",
       "      <th>acc</th>\n",
       "    </tr>\n",
       "  </thead>\n",
       "  <tbody>\n",
       "    <tr>\n",
       "      <th>4</th>\n",
       "      <td>fasttext_300_sum_plusCounts</td>\n",
       "      <td>lr</td>\n",
       "      <td>C 1;penalty l1;random_state 42</td>\n",
       "      <td>811.0</td>\n",
       "      <td>20.0</td>\n",
       "      <td>45.0</td>\n",
       "      <td>145.0</td>\n",
       "      <td>0.878788</td>\n",
       "      <td>0.763158</td>\n",
       "      <td>0.816901</td>\n",
       "      <td>0.869545</td>\n",
       "      <td>0.936337</td>\n",
       "    </tr>\n",
       "    <tr>\n",
       "      <th>7</th>\n",
       "      <td>fasttext_300_sum_plusCounts</td>\n",
       "      <td>svm</td>\n",
       "      <td>C 1;kernel linear;random_state 42</td>\n",
       "      <td>799.0</td>\n",
       "      <td>32.0</td>\n",
       "      <td>40.0</td>\n",
       "      <td>150.0</td>\n",
       "      <td>0.824176</td>\n",
       "      <td>0.789474</td>\n",
       "      <td>0.806452</td>\n",
       "      <td>0.875483</td>\n",
       "      <td>0.929481</td>\n",
       "    </tr>\n",
       "    <tr>\n",
       "      <th>9</th>\n",
       "      <td>fasttext_300_sum_plusCounts</td>\n",
       "      <td>ensemble (lr,svc)</td>\n",
       "      <td>ensemble</td>\n",
       "      <td>813.0</td>\n",
       "      <td>18.0</td>\n",
       "      <td>54.0</td>\n",
       "      <td>136.0</td>\n",
       "      <td>0.883117</td>\n",
       "      <td>0.715789</td>\n",
       "      <td>0.790698</td>\n",
       "      <td>0.847064</td>\n",
       "      <td>0.929481</td>\n",
       "    </tr>\n",
       "    <tr>\n",
       "      <th>3</th>\n",
       "      <td>fasttext_300_sum</td>\n",
       "      <td>svm</td>\n",
       "      <td>C 1;kernel linear;random_state 42</td>\n",
       "      <td>798.0</td>\n",
       "      <td>33.0</td>\n",
       "      <td>49.0</td>\n",
       "      <td>141.0</td>\n",
       "      <td>0.810345</td>\n",
       "      <td>0.742105</td>\n",
       "      <td>0.774725</td>\n",
       "      <td>0.851197</td>\n",
       "      <td>0.919687</td>\n",
       "    </tr>\n",
       "    <tr>\n",
       "      <th>0</th>\n",
       "      <td>fasttext_300_sum</td>\n",
       "      <td>lr</td>\n",
       "      <td>C 1;penalty l2;random_state 42</td>\n",
       "      <td>799.0</td>\n",
       "      <td>32.0</td>\n",
       "      <td>52.0</td>\n",
       "      <td>138.0</td>\n",
       "      <td>0.811765</td>\n",
       "      <td>0.726316</td>\n",
       "      <td>0.766667</td>\n",
       "      <td>0.843904</td>\n",
       "      <td>0.917728</td>\n",
       "    </tr>\n",
       "    <tr>\n",
       "      <th>8</th>\n",
       "      <td>fasttext_300_sum</td>\n",
       "      <td>ensemble (lr,svc)</td>\n",
       "      <td>ensemble</td>\n",
       "      <td>805.0</td>\n",
       "      <td>26.0</td>\n",
       "      <td>57.0</td>\n",
       "      <td>133.0</td>\n",
       "      <td>0.836478</td>\n",
       "      <td>0.700000</td>\n",
       "      <td>0.762178</td>\n",
       "      <td>0.834356</td>\n",
       "      <td>0.918707</td>\n",
       "    </tr>\n",
       "    <tr>\n",
       "      <th>5</th>\n",
       "      <td>fasttext_300_sum_plusCounts</td>\n",
       "      <td>dt</td>\n",
       "      <td>criterion entropy;random_state 42</td>\n",
       "      <td>775.0</td>\n",
       "      <td>56.0</td>\n",
       "      <td>79.0</td>\n",
       "      <td>111.0</td>\n",
       "      <td>0.664671</td>\n",
       "      <td>0.584211</td>\n",
       "      <td>0.621849</td>\n",
       "      <td>0.758411</td>\n",
       "      <td>0.867777</td>\n",
       "    </tr>\n",
       "    <tr>\n",
       "      <th>1</th>\n",
       "      <td>fasttext_300_sum</td>\n",
       "      <td>dt</td>\n",
       "      <td>criterion entropy;random_state 42</td>\n",
       "      <td>759.0</td>\n",
       "      <td>72.0</td>\n",
       "      <td>84.0</td>\n",
       "      <td>106.0</td>\n",
       "      <td>0.595506</td>\n",
       "      <td>0.557895</td>\n",
       "      <td>0.576087</td>\n",
       "      <td>0.735626</td>\n",
       "      <td>0.847209</td>\n",
       "    </tr>\n",
       "    <tr>\n",
       "      <th>6</th>\n",
       "      <td>fasttext_300_sum_plusCounts</td>\n",
       "      <td>rf</td>\n",
       "      <td>criterion entropy;random_state 42</td>\n",
       "      <td>822.0</td>\n",
       "      <td>9.0</td>\n",
       "      <td>114.0</td>\n",
       "      <td>76.0</td>\n",
       "      <td>0.894118</td>\n",
       "      <td>0.400000</td>\n",
       "      <td>0.552727</td>\n",
       "      <td>0.694585</td>\n",
       "      <td>0.879530</td>\n",
       "    </tr>\n",
       "    <tr>\n",
       "      <th>2</th>\n",
       "      <td>fasttext_300_sum</td>\n",
       "      <td>rf</td>\n",
       "      <td>criterion gini;random_state 42</td>\n",
       "      <td>826.0</td>\n",
       "      <td>5.0</td>\n",
       "      <td>120.0</td>\n",
       "      <td>70.0</td>\n",
       "      <td>0.933333</td>\n",
       "      <td>0.368421</td>\n",
       "      <td>0.528302</td>\n",
       "      <td>0.681202</td>\n",
       "      <td>0.877571</td>\n",
       "    </tr>\n",
       "  </tbody>\n",
       "</table>\n",
       "</div>"
      ],
      "text/plain": [
       "                            tf               name  ...    auc_sc       acc\n",
       "4  fasttext_300_sum_plusCounts                 lr  ...  0.869545  0.936337\n",
       "7  fasttext_300_sum_plusCounts                svm  ...  0.875483  0.929481\n",
       "9  fasttext_300_sum_plusCounts  ensemble (lr,svc)  ...  0.847064  0.929481\n",
       "3             fasttext_300_sum                svm  ...  0.851197  0.919687\n",
       "0             fasttext_300_sum                 lr  ...  0.843904  0.917728\n",
       "8             fasttext_300_sum  ensemble (lr,svc)  ...  0.834356  0.918707\n",
       "5  fasttext_300_sum_plusCounts                 dt  ...  0.758411  0.867777\n",
       "1             fasttext_300_sum                 dt  ...  0.735626  0.847209\n",
       "6  fasttext_300_sum_plusCounts                 rf  ...  0.694585  0.879530\n",
       "2             fasttext_300_sum                 rf  ...  0.681202  0.877571\n",
       "\n",
       "[10 rows x 12 columns]"
      ]
     },
     "execution_count": 21,
     "metadata": {
      "tags": []
     },
     "output_type": "execute_result"
    }
   ],
   "source": [
    "classifications = pd.DataFrame({'tf':tf, #create a dataframe to hold the metrics\n",
    "                                'name':name,\n",
    "                               'bp':bp,\n",
    "                               'tn':tn,\n",
    "                               'fp':fp,\n",
    "                               'fn':fn,\n",
    "                               'tp':tp,\n",
    "                               'p':p,\n",
    "                               'r':r,\n",
    "                               'f_1':f_1,\n",
    "                               'auc_sc':auc_sc,\n",
    "                               'acc':acc})\n",
    "\n",
    "classifications.sort_values(by='f_1', ascending=False)"
   ]
  },
  {
   "cell_type": "markdown",
   "metadata": {
    "colab_type": "text",
    "id": "4onrRr51DxVs"
   },
   "source": [
    "## Save the performance metrics and the predictions per tweet"
   ]
  },
  {
   "cell_type": "code",
   "execution_count": 22,
   "metadata": {
    "colab": {
     "base_uri": "https://localhost:8080/",
     "height": 123
    },
    "colab_type": "code",
    "executionInfo": {
     "elapsed": 7141,
     "status": "ok",
     "timestamp": 1571136885436,
     "user": {
      "displayName": "Scott Kilgariff",
      "photoUrl": "",
      "userId": "04893934711112937862"
     },
     "user_tz": -60
    },
    "id": "Nd5geDP5-rbM",
    "outputId": "9acdb5d5-34b5-49aa-ca82-6b79e695e2a0"
   },
   "outputs": [
    {
     "name": "stdout",
     "output_type": "stream",
     "text": [
      "Copying file:///tmp/classifications.pickle [Content-Type=application/octet-stream]...\n",
      "/ [1 files][  2.2 KiB/  2.2 KiB]                                                \n",
      "Operation completed over 1 objects/2.2 KiB.                                      \n",
      "Copying file:///tmp/df.pickle [Content-Type=application/octet-stream]...\n",
      "/ [1 files][478.0 KiB/478.0 KiB]                                                \n",
      "Operation completed over 1 objects/478.0 KiB.                                    \n"
     ]
    }
   ],
   "source": [
    "classifications.to_pickle('/tmp/classifications.pickle')\n",
    "df.to_pickle('/tmp/df.pickle')\n",
    "\n",
    "!gsutil cp /tmp/classifications.pickle gs://dissertation_bucket/classify_embeddings_fasttext/\n",
    "!gsutil cp /tmp/df.pickle gs://dissertation_bucket/classify_embeddings_fasttext/"
   ]
  }
 ],
 "metadata": {
  "accelerator": "TPU",
  "colab": {
   "collapsed_sections": [],
   "name": "11_COLAB_classify_embeddings_fasttext.ipynb",
   "provenance": [
    {
     "file_id": "1ohChtMBSnSxorr4YLsIEX8KXDztHS661",
     "timestamp": 1569327903542
    },
    {
     "file_id": "1BQ5M4KxX_aUyckDRcsXYV3oN6nbqxfRd",
     "timestamp": 1569271535373
    },
    {
     "file_id": "1_47lBeiEsM6DoYJRGBIOuMIJBGc0wDpc",
     "timestamp": 1569177794989
    }
   ],
   "toc_visible": true
  },
  "kernelspec": {
   "display_name": "Python 3",
   "language": "python",
   "name": "python3"
  },
  "language_info": {
   "codemirror_mode": {
    "name": "ipython",
    "version": 3
   },
   "file_extension": ".py",
   "mimetype": "text/x-python",
   "name": "python",
   "nbconvert_exporter": "python",
   "pygments_lexer": "ipython3",
   "version": "3.6.4"
  }
 },
 "nbformat": 4,
 "nbformat_minor": 1
}
