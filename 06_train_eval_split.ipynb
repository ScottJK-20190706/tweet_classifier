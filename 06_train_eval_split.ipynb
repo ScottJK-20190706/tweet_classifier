{
 "cells": [
  {
   "cell_type": "markdown",
   "metadata": {},
   "source": [
    "## Common imports"
   ]
  },
  {
   "cell_type": "code",
   "execution_count": 1,
   "metadata": {},
   "outputs": [],
   "source": [
    "import pandas as pd\n",
    "import numpy as np"
   ]
  },
  {
   "cell_type": "markdown",
   "metadata": {},
   "source": [
    "## Train test split"
   ]
  },
  {
   "cell_type": "code",
   "execution_count": 2,
   "metadata": {},
   "outputs": [],
   "source": [
    "offensive_formatted = pd.read_pickle('pickle_files/offensive_formatted.pickle')\n",
    "benign_formatted = pd.read_pickle('pickle_files/benign_minusbj_formatted.pickle')\n",
    "\n",
    "offensive_formatted['class'] = 1\n",
    "benign_formatted['class'] = 0\n",
    "df = offensive_formatted.append(benign_formatted)\n",
    "\n",
    "from sklearn.utils import shuffle\n",
    "df = shuffle(df, random_state=42)\n",
    "\n",
    "from sklearn.model_selection import train_test_split\n",
    "train_data_formatted,eval_data_formatted = train_test_split(df, test_size=0.2, random_state=42)\n",
    "\n",
    "train_data_formatted.to_pickle('pickle_files/train_data_formatted.pickle')\n",
    "eval_data_formatted.to_pickle('pickle_files/eval_data_formatted.pickle')"
   ]
  },
  {
   "cell_type": "markdown",
   "metadata": {},
   "source": [
    "## Dataset sizes"
   ]
  },
  {
   "cell_type": "code",
   "execution_count": 3,
   "metadata": {},
   "outputs": [
    {
     "name": "stdout",
     "output_type": "stream",
     "text": [
      "api shape (14469, 14)\n",
      "benign shape (4265, 14)\n",
      "offensive shape (839, 15)\n",
      "eval_data (1021, 16)\n",
      "eval_data class 1 (190, 16)\n",
      "eval_data class 0 (831, 16)\n",
      "train_data (4083, 16)\n",
      "train_data class 1 (649, 16)\n",
      "train_data class 0 (3434, 16)\n"
     ]
    }
   ],
   "source": [
    "api = pd.read_pickle('pickle_files/api_formatted.pickle')\n",
    "benign = pd.read_pickle('pickle_files/benign_minusbj_formatted.pickle')\n",
    "offensive = pd.read_pickle('pickle_files/offensive_formatted.pickle')\n",
    "eval_data = pd.read_pickle('pickle_files/eval_data_formatted.pickle')\n",
    "train_data = pd.read_pickle('pickle_files/train_data_formatted.pickle')\n",
    "print(\"api shape \"+ str(api.shape))\n",
    "print(\"benign shape \"+ str(benign.shape))\n",
    "print(\"offensive shape \"+ str(offensive.shape))\n",
    "print(\"eval_data \"+ str(eval_data.shape))\n",
    "print(\"eval_data class 1 \"+str(eval_data[eval_data['class']==1].shape))\n",
    "print(\"eval_data class 0 \"+str(eval_data[eval_data['class']==0].shape))\n",
    "print(\"train_data \"+ str(train_data.shape))\n",
    "print(\"train_data class 1 \"+str(train_data[train_data['class']==1].shape))\n",
    "print(\"train_data class 0 \"+str(train_data[train_data['class']==0].shape))"
   ]
  },
  {
   "cell_type": "code",
   "execution_count": null,
   "metadata": {},
   "outputs": [],
   "source": []
  }
 ],
 "metadata": {
  "kernelspec": {
   "display_name": "Python 3",
   "language": "python",
   "name": "python3"
  },
  "language_info": {
   "codemirror_mode": {
    "name": "ipython",
    "version": 3
   },
   "file_extension": ".py",
   "mimetype": "text/x-python",
   "name": "python",
   "nbconvert_exporter": "python",
   "pygments_lexer": "ipython3",
   "version": "3.6.4"
  }
 },
 "nbformat": 4,
 "nbformat_minor": 2
}
