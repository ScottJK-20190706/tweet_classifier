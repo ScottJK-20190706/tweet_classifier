{
 "cells": [
  {
   "cell_type": "markdown",
   "metadata": {
    "colab_type": "text",
    "id": "kK2Kc3gt2fde"
   },
   "source": [
    "## Common Imports"
   ]
  },
  {
   "cell_type": "code",
   "execution_count": 1,
   "metadata": {
    "colab": {
     "base_uri": "https://localhost:8080/",
     "height": 52
    },
    "colab_type": "code",
    "executionInfo": {
     "elapsed": 3774,
     "status": "ok",
     "timestamp": 1571142674294,
     "user": {
      "displayName": "Scott Kilgariff",
      "photoUrl": "",
      "userId": "04893934711112937862"
     },
     "user_tz": -60
    },
    "id": "-w6veqQd5x0_",
    "outputId": "3583b2fe-9d97-4b7c-862a-22f79b68adee"
   },
   "outputs": [
    {
     "name": "stdout",
     "output_type": "stream",
     "text": [
      "[nltk_data] Downloading package punkt to /root/nltk_data...\n",
      "[nltk_data]   Unzipping tokenizers/punkt.zip.\n"
     ]
    }
   ],
   "source": [
    "import tensorflow as tf\n",
    "import pandas as pd\n",
    "import numpy as np\n",
    "import nltk\n",
    "nltk.download('punkt')\n",
    "from nltk.tokenize import word_tokenize\n",
    "import re\n",
    "from datetime import datetime"
   ]
  },
  {
   "cell_type": "code",
   "execution_count": 2,
   "metadata": {
    "colab": {
     "base_uri": "https://localhost:8080/",
     "height": 478
    },
    "colab_type": "code",
    "executionInfo": {
     "elapsed": 6175,
     "status": "ok",
     "timestamp": 1571142682679,
     "user": {
      "displayName": "Scott Kilgariff",
      "photoUrl": "",
      "userId": "04893934711112937862"
     },
     "user_tz": -60
    },
    "id": "ZtF8MLUOUhKm",
    "outputId": "08332a3e-64ff-4afc-b96a-c985c2ac8476"
   },
   "outputs": [
    {
     "name": "stdout",
     "output_type": "stream",
     "text": [
      "Collecting gcsfs\n",
      "\u001b[?25l  Downloading https://files.pythonhosted.org/packages/ab/92/0297f2813cb240c52e90f8587420149970565800e019e1b08ef5ad28b6d9/gcsfs-0.3.1.tar.gz (43kB)\n",
      "\u001b[K     |████████████████████████████████| 51kB 2.3MB/s \n",
      "\u001b[?25hRequirement already satisfied: google-auth>=1.2 in /usr/local/lib/python3.6/dist-packages (from gcsfs) (1.4.2)\n",
      "Requirement already satisfied: google-auth-oauthlib in /usr/local/lib/python3.6/dist-packages (from gcsfs) (0.4.1)\n",
      "Requirement already satisfied: requests in /usr/local/lib/python3.6/dist-packages (from gcsfs) (2.21.0)\n",
      "Requirement already satisfied: decorator in /usr/local/lib/python3.6/dist-packages (from gcsfs) (4.4.0)\n",
      "Requirement already satisfied: fsspec>=0.2.2 in /usr/local/lib/python3.6/dist-packages (from gcsfs) (0.5.1)\n",
      "Requirement already satisfied: six>=1.9.0 in /usr/local/lib/python3.6/dist-packages (from google-auth>=1.2->gcsfs) (1.12.0)\n",
      "Requirement already satisfied: cachetools>=2.0.0 in /usr/local/lib/python3.6/dist-packages (from google-auth>=1.2->gcsfs) (3.1.1)\n",
      "Requirement already satisfied: rsa>=3.1.4 in /usr/local/lib/python3.6/dist-packages (from google-auth>=1.2->gcsfs) (4.0)\n",
      "Requirement already satisfied: pyasn1-modules>=0.2.1 in /usr/local/lib/python3.6/dist-packages (from google-auth>=1.2->gcsfs) (0.2.6)\n",
      "Requirement already satisfied: requests-oauthlib>=0.7.0 in /usr/local/lib/python3.6/dist-packages (from google-auth-oauthlib->gcsfs) (1.2.0)\n",
      "Requirement already satisfied: idna<2.9,>=2.5 in /usr/local/lib/python3.6/dist-packages (from requests->gcsfs) (2.8)\n",
      "Requirement already satisfied: urllib3<1.25,>=1.21.1 in /usr/local/lib/python3.6/dist-packages (from requests->gcsfs) (1.24.3)\n",
      "Requirement already satisfied: chardet<3.1.0,>=3.0.2 in /usr/local/lib/python3.6/dist-packages (from requests->gcsfs) (3.0.4)\n",
      "Requirement already satisfied: certifi>=2017.4.17 in /usr/local/lib/python3.6/dist-packages (from requests->gcsfs) (2019.9.11)\n",
      "Requirement already satisfied: pyasn1>=0.1.3 in /usr/local/lib/python3.6/dist-packages (from rsa>=3.1.4->google-auth>=1.2->gcsfs) (0.4.7)\n",
      "Requirement already satisfied: oauthlib>=3.0.0 in /usr/local/lib/python3.6/dist-packages (from requests-oauthlib>=0.7.0->google-auth-oauthlib->gcsfs) (3.1.0)\n",
      "Building wheels for collected packages: gcsfs\n",
      "  Building wheel for gcsfs (setup.py) ... \u001b[?25l\u001b[?25hdone\n",
      "  Created wheel for gcsfs: filename=gcsfs-0.3.1-py2.py3-none-any.whl size=17936 sha256=6eebb9e7bf0805734a2dea62a0408f3780c9e0c412df4b59ec087aa1d17a9975\n",
      "  Stored in directory: /root/.cache/pip/wheels/9d/2b/6f/86954f0d8caa1173841e62bb780dc0f8693bd268e04a267682\n",
      "Successfully built gcsfs\n",
      "Installing collected packages: gcsfs\n",
      "Successfully installed gcsfs-0.3.1\n"
     ]
    }
   ],
   "source": [
    "!pip install gcsfs #google cloud storage"
   ]
  },
  {
   "cell_type": "code",
   "execution_count": 3,
   "metadata": {
    "colab": {
     "base_uri": "https://localhost:8080/",
     "height": 212
    },
    "colab_type": "code",
    "executionInfo": {
     "elapsed": 3654,
     "status": "ok",
     "timestamp": 1571142738247,
     "user": {
      "displayName": "Scott Kilgariff",
      "photoUrl": "",
      "userId": "04893934711112937862"
     },
     "user_tz": -60
    },
    "id": "YQlC6GQZU2g2",
    "outputId": "656ff48e-8caf-41d0-8708-20fd7e568689"
   },
   "outputs": [
    {
     "name": "stdout",
     "output_type": "stream",
     "text": [
      "Collecting chakin\n",
      "  Downloading https://files.pythonhosted.org/packages/ca/3f/ca2f63451c0ab47970a6ab1d39d96118e70b6e73125529cea767c31368a3/chakin-0.0.8-py3-none-any.whl\n",
      "Requirement already satisfied: pandas>=0.20.1 in /usr/local/lib/python3.6/dist-packages (from chakin) (0.24.2)\n",
      "Requirement already satisfied: six>=1.10.0 in /usr/local/lib/python3.6/dist-packages (from chakin) (1.12.0)\n",
      "Requirement already satisfied: progressbar2>=3.20.0 in /usr/local/lib/python3.6/dist-packages (from chakin) (3.38.0)\n",
      "Requirement already satisfied: pytz>=2011k in /usr/local/lib/python3.6/dist-packages (from pandas>=0.20.1->chakin) (2018.9)\n",
      "Requirement already satisfied: numpy>=1.12.0 in /usr/local/lib/python3.6/dist-packages (from pandas>=0.20.1->chakin) (1.16.5)\n",
      "Requirement already satisfied: python-dateutil>=2.5.0 in /usr/local/lib/python3.6/dist-packages (from pandas>=0.20.1->chakin) (2.5.3)\n",
      "Requirement already satisfied: python-utils>=2.3.0 in /usr/local/lib/python3.6/dist-packages (from progressbar2>=3.20.0->chakin) (2.3.0)\n",
      "Installing collected packages: chakin\n",
      "Successfully installed chakin-0.0.8\n"
     ]
    }
   ],
   "source": [
    "!pip install chakin #word embeddings"
   ]
  },
  {
   "cell_type": "markdown",
   "metadata": {
    "colab_type": "text",
    "id": "L_l6H1bi2uA4"
   },
   "source": [
    "## Obtain zipped word embeddings from chakin"
   ]
  },
  {
   "cell_type": "code",
   "execution_count": 4,
   "metadata": {
    "colab": {
     "base_uri": "https://localhost:8080/",
     "height": 318
    },
    "colab_type": "code",
    "executionInfo": {
     "elapsed": 21989,
     "status": "ok",
     "timestamp": 1571142764514,
     "user": {
      "displayName": "Scott Kilgariff",
      "photoUrl": "",
      "userId": "04893934711112937862"
     },
     "user_tz": -60
    },
    "id": "ClG_IAx3w-Zv",
    "outputId": "61d01f28-d26c-4497-e505-f2049b867ae0"
   },
   "outputs": [
    {
     "name": "stdout",
     "output_type": "stream",
     "text": [
      "                   Name  Dimension  ... Language    Author\n",
      "2          fastText(en)        300  ...  English  Facebook\n",
      "11         GloVe.6B.50d         50  ...  English  Stanford\n",
      "12        GloVe.6B.100d        100  ...  English  Stanford\n",
      "13        GloVe.6B.200d        200  ...  English  Stanford\n",
      "14        GloVe.6B.300d        300  ...  English  Stanford\n",
      "15       GloVe.42B.300d        300  ...  English  Stanford\n",
      "16      GloVe.840B.300d        300  ...  English  Stanford\n",
      "17    GloVe.Twitter.25d         25  ...  English  Stanford\n",
      "18    GloVe.Twitter.50d         50  ...  English  Stanford\n",
      "19   GloVe.Twitter.100d        100  ...  English  Stanford\n",
      "20   GloVe.Twitter.200d        200  ...  English  Stanford\n",
      "21  word2vec.GoogleNews        300  ...  English    Google\n",
      "\n",
      "[12 rows x 7 columns]\n"
     ]
    },
    {
     "name": "stderr",
     "output_type": "stream",
     "text": [
      "Test: 100% ||                                      | Time:  0:00:21  73.9 MiB/s\n"
     ]
    },
    {
     "data": {
      "text/plain": [
       "'/tmp/GoogleNews-vectors-negative300.bin.gz'"
      ]
     },
     "execution_count": 4,
     "metadata": {
      "tags": []
     },
     "output_type": "execute_result"
    }
   ],
   "source": [
    "import chakin\n",
    "chakin.search(lang='English')\n",
    "chakin.download(number=21, save_dir='/tmp/') # select word2vec.GoogleNews"
   ]
  },
  {
   "cell_type": "markdown",
   "metadata": {
    "colab_type": "text",
    "id": "BULlgu0S22ct"
   },
   "source": [
    "## Unzip the word embeddings file"
   ]
  },
  {
   "cell_type": "code",
   "execution_count": 0,
   "metadata": {
    "colab": {},
    "colab_type": "code",
    "id": "Jg8LxKZyxsV9"
   },
   "outputs": [],
   "source": [
    "import gzip\n",
    "import shutil\n",
    "with gzip.open('/tmp/GoogleNews-vectors-negative300.bin.gz', 'rb') as f_in:\n",
    "    with open('/tmp/GoogleNews-vectors-negative300.bin', 'wb') as f_out:\n",
    "        shutil.copyfileobj(f_in, f_out)"
   ]
  },
  {
   "cell_type": "markdown",
   "metadata": {
    "colab_type": "text",
    "id": "nw36c_5d3Bfh"
   },
   "source": [
    "## Load the word embeddings file with gensim"
   ]
  },
  {
   "cell_type": "code",
   "execution_count": 6,
   "metadata": {
    "colab": {
     "base_uri": "https://localhost:8080/",
     "height": 107
    },
    "colab_type": "code",
    "executionInfo": {
     "elapsed": 61429,
     "status": "ok",
     "timestamp": 1571148631758,
     "user": {
      "displayName": "Scott Kilgariff",
      "photoUrl": "",
      "userId": "04893934711112937862"
     },
     "user_tz": -60
    },
    "id": "3VeoAeudyzIE",
    "outputId": "7cd90a46-3834-48be-909c-8b9f5f608e7f"
   },
   "outputs": [
    {
     "name": "stdout",
     "output_type": "stream",
     "text": [
      "Beginning loading!\n"
     ]
    },
    {
     "name": "stderr",
     "output_type": "stream",
     "text": [
      "/usr/local/lib/python3.6/dist-packages/smart_open/smart_open_lib.py:398: UserWarning: This function is deprecated, use smart_open.open instead. See the migration notes for details: https://github.com/RaRe-Technologies/smart_open/blob/master/README.rst#migrating-to-the-new-open-function\n",
      "  'See the migration notes for details: %s' % _MIGRATION_NOTES_URL\n"
     ]
    },
    {
     "name": "stdout",
     "output_type": "stream",
     "text": [
      "Loading took time  0:01:00.567107\n"
     ]
    }
   ],
   "source": [
    "print(f'Beginning loading!')\n",
    "current_time = datetime.now()\n",
    "from gensim import models\n",
    "w = models.KeyedVectors.load_word2vec_format('/tmp/GoogleNews-vectors-negative300.bin', binary=True)\n",
    "print('Loading took time ', datetime.now() - current_time)"
   ]
  },
  {
   "cell_type": "markdown",
   "metadata": {
    "colab_type": "text",
    "id": "jN4o6BHo3J_X"
   },
   "source": [
    "## Upload the Tweets pickle files"
   ]
  },
  {
   "cell_type": "code",
   "execution_count": 0,
   "metadata": {
    "colab": {},
    "colab_type": "code",
    "id": "7C42hdJQz9O1"
   },
   "outputs": [],
   "source": [
    "! wget -cq https://github.com/ScottJK-20190706/tweet_classifier/blob/master/pickle_files//train_data_formatted.pickle?raw=true\n",
    "! wget -cq https://github.com/ScottJK-20190706/tweet_classifier/blob/master/pickle_files/eval_data_formatted.pickle?raw=true\n",
    "! wget -cq https://github.com/ScottJK-20190706/tweet_classifier/blob/master/features/count_features/count_features.pickle?raw=true"
   ]
  },
  {
   "cell_type": "markdown",
   "metadata": {
    "colab_type": "text",
    "id": "jY-UpqMn3QUQ"
   },
   "source": [
    "## Function for transforming tweets to word embedding arrays"
   ]
  },
  {
   "cell_type": "code",
   "execution_count": 0,
   "metadata": {
    "colab": {},
    "colab_type": "code",
    "id": "SZH6rto75Yl8"
   },
   "outputs": [],
   "source": [
    "def embedding(df,length):\n",
    "    tokens = df.loc[:,['Tweet ID','Tweet','class']] #slice the text and tweet id\n",
    "    p = re.compile(r'[^\\w\\s]+')\n",
    "    tokens['Tweet'] = [p.sub('', x) for x in tokens['Tweet'].tolist()] #remove the punctuation\n",
    "    tokens['Tweet'] = tokens['Tweet'].apply(word_tokenize) #tokenize the text\n",
    "    tokens = tokens.reset_index()\n",
    "\n",
    "    seq_sizes = [] #initialize a list to hold length in tokens of each tweet\n",
    "    for i in tokens.index:\n",
    "        seq_sizes = np.append(seq_sizes, len(tokens.Tweet[i])) #get all the tweet token lengths\n",
    "    max_len = int(round(np.percentile(seq_sizes,100))) #find the number of tokens equal to the 100th percentile of token lengths\n",
    "    #max_len = max_len//4*4 #find the nearest number divisible by four\n",
    "    print(max_len)\n",
    "\n",
    "    vector_size = length #this is the length of the pretrained word embeddings\n",
    "    vec_array = np.zeros(tokens.shape[0]*max_len*vector_size) #initialize an array to hold enbeddings\n",
    "    #vec_array = np.zeros(1000*max_len*vector_size) #initialize an array to hold enbeddings\n",
    "    id_array = [] #initialize an array for the tweetd ids\n",
    "    labels = [] #initialize an array for the labels\n",
    "    missing_tokens = [] #initialize an array to hold missing tokens\n",
    "    found_tokens = [] #initialize an array to hold missing tokens\n",
    "    for i in range(0,tokens.shape[0]): #loop through each tweet\n",
    "    #for i in range(0,1000): #loop through each tweet\n",
    "        id_array = np.append(id_array,tokens['Tweet ID'][i])\n",
    "        labels = np.append(labels,tokens['class'][i])\n",
    "        if i%500==0:\n",
    "            print(i) #print progress\n",
    "        for j in range(0,max_len): #loop through each token\n",
    "            try:\n",
    "                w2v = w[tokens.Tweet[i][j]] #check if the token has a pretrained embedding\n",
    "                found_tokens = np.append(found_tokens,tokens.Tweet[i][j])\n",
    "                for k in range(0,vector_size):\n",
    "                    position = (i*max_len*vector_size)+(j*vector_size)+k\n",
    "                    vec_array[position] = w2v[k] #loop through each element of the token's embedding and add to vec_array\n",
    "            except:\n",
    "                try:\n",
    "                    missing_tokens = np.append(missing_tokens,tokens.Tweet[i][j])\n",
    "                except:\n",
    "                    pass\n",
    "    \n",
    "    vec_array = np.reshape(vec_array,(tokens.shape[0],max_len,vector_size)) #reshape vec_array\n",
    "    missing_tokens = np.unique(missing_tokens)\n",
    "    found_tokens = np.unique(found_tokens)\n",
    "    \n",
    "    return (vec_array, id_array, labels, max_len, missing_tokens, found_tokens)\n",
    "        "
   ]
  },
  {
   "cell_type": "markdown",
   "metadata": {
    "colab_type": "text",
    "id": "DCHg4XQ93aSo"
   },
   "source": [
    "## Transform the tweets to word embedding arrays"
   ]
  },
  {
   "cell_type": "code",
   "execution_count": 10,
   "metadata": {
    "colab": {
     "base_uri": "https://localhost:8080/",
     "height": 265
    },
    "colab_type": "code",
    "executionInfo": {
     "elapsed": 138329,
     "status": "ok",
     "timestamp": 1571149009539,
     "user": {
      "displayName": "Scott Kilgariff",
      "photoUrl": "",
      "userId": "04893934711112937862"
     },
     "user_tz": -60
    },
    "id": "K5VlPBQT2NHF",
    "outputId": "30ebec11-ebf3-492b-ad3f-c49bfe19ba57"
   },
   "outputs": [
    {
     "name": "stdout",
     "output_type": "stream",
     "text": [
      "57\n",
      "0\n",
      "500\n",
      "1000\n",
      "1500\n",
      "2000\n",
      "2500\n",
      "3000\n",
      "3500\n",
      "4000\n",
      "55\n",
      "0\n",
      "500\n",
      "1000\n"
     ]
    }
   ],
   "source": [
    "vec_len = 300\n",
    "import pickle\n",
    "import pandas as pd\n",
    "train_data = pd.read_pickle('train_data_formatted.pickle?raw=true')\n",
    "eval_data = pd.read_pickle('eval_data_formatted.pickle?raw=true')\n",
    "train_data, train_id, train_labels, train_max_len, train_missing_tokens, train_found_tokens = embedding(train_data,vec_len)\n",
    "eval_data, eval_id, eval_labels, eval_max_len, eval_missing_tokens, eval_found_tokens = embedding(eval_data,vec_len)\n",
    "train_labels = train_labels.astype(int)\n",
    "eval_labels = eval_labels.astype(int)\n",
    "del w #clear some memory"
   ]
  },
  {
   "cell_type": "markdown",
   "metadata": {
    "colab_type": "text",
    "id": "I1jhqXXRZG-o"
   },
   "source": [
    "## Authenticate location for saving files"
   ]
  },
  {
   "cell_type": "code",
   "execution_count": 11,
   "metadata": {
    "colab": {
     "base_uri": "https://localhost:8080/",
     "height": 176
    },
    "colab_type": "code",
    "executionInfo": {
     "elapsed": 36260,
     "status": "ok",
     "timestamp": 1571149050347,
     "user": {
      "displayName": "Scott Kilgariff",
      "photoUrl": "",
      "userId": "04893934711112937862"
     },
     "user_tz": -60
    },
    "id": "-CJWumDaUHLX",
    "outputId": "23b911b9-34bc-4383-93f1-8617652cf5e5"
   },
   "outputs": [
    {
     "name": "stdout",
     "output_type": "stream",
     "text": [
      "WARNING:tensorflow:\n",
      "The TensorFlow contrib module will not be included in TensorFlow 2.0.\n",
      "For more information, please see:\n",
      "  * https://github.com/tensorflow/community/blob/master/rfcs/20180907-contrib-sunset.md\n",
      "  * https://github.com/tensorflow/addons\n",
      "  * https://github.com/tensorflow/io (for I/O related ops)\n",
      "If you depend on functionality not listed there, please file an issue.\n",
      "\n",
      "***** File output directory: gs://dissertation_bucket/classify_embeddings_w2v *****\n"
     ]
    }
   ],
   "source": [
    "# Set the output directory for saving model file\n",
    "# Optionally, set a GCP bucket location\n",
    "\n",
    "FILE_OUTPUT_DIR = 'classify_embeddings_w2v'#@param {type:\"string\"}\n",
    "#@markdown Whether or not to clear/delete the directory and create a new one\n",
    "DO_DELETE = True #@param {type:\"boolean\"}\n",
    "#@markdown Set USE_BUCKET and BUCKET if you want to (optionally) store model output on GCP bucket.\n",
    "USE_BUCKET = True #@param {type:\"boolean\"}\n",
    "BUCKET = 'dissertation_bucket' #@param {type:\"string\"}\n",
    "\n",
    "if USE_BUCKET:\n",
    "  FILE_OUTPUT_DIR = 'gs://{}/{}'.format(BUCKET, FILE_OUTPUT_DIR)\n",
    "  from google.colab import auth\n",
    "  auth.authenticate_user()\n",
    "\n",
    "if DO_DELETE:\n",
    "  try:\n",
    "    tf.gfile.DeleteRecursively(FILE_OUTPUT_DIR)\n",
    "  except:\n",
    "    # Doesn't matter if the directory didn't exist\n",
    "    pass\n",
    "tf.gfile.MakeDirs(FILE_OUTPUT_DIR)\n",
    "print('***** File output directory: {} *****'.format(FILE_OUTPUT_DIR))"
   ]
  },
  {
   "cell_type": "markdown",
   "metadata": {
    "colab_type": "text",
    "id": "gSi_JGRZZeYO"
   },
   "source": [
    "## Save file detailing tokens that were found"
   ]
  },
  {
   "cell_type": "code",
   "execution_count": 0,
   "metadata": {
    "colab": {},
    "colab_type": "code",
    "id": "tHQCB8ikWvK2"
   },
   "outputs": [],
   "source": [
    "max_len = max(train_max_len, eval_max_len)\n",
    "found_tokens = np.unique(np.append(train_found_tokens,eval_found_tokens))\n",
    "missing_tokens = np.unique(np.append(train_missing_tokens,eval_missing_tokens))\n",
    "found = pd.DataFrame({'token': found_tokens})\n",
    "found['found'] = 1\n",
    "missing = pd.DataFrame({'token': missing_tokens})\n",
    "missing['found'] = 0\n",
    "tokens = found.append(missing)\n",
    "filename = FILE_OUTPUT_DIR + '/tokens.csv'\n",
    "tokens.to_csv(filename)"
   ]
  },
  {
   "cell_type": "markdown",
   "metadata": {
    "colab_type": "text",
    "id": "xWXfzL-LB5G8"
   },
   "source": [
    "## Function for summing embeddings over each tweet"
   ]
  },
  {
   "cell_type": "code",
   "execution_count": 0,
   "metadata": {
    "colab": {},
    "colab_type": "code",
    "id": "x3SpJlSPVJOT"
   },
   "outputs": [],
   "source": [
    "def aggregate_vectors(data,max_len,tweet_id):\n",
    "  count_features = pd.read_pickle('count_features.pickle?raw=true')\n",
    "  count_features_list = ['ave_chars_token', 'caps_count', 'followers_count', 'following_count',\n",
    "                         'mention_count', 'neg_sent', 'neu_sent', 'pos_sent','posted_tweets_count',\n",
    "                         'punctuation_count', 'quotes_count', 'url_count'] \n",
    "  embed_vec_sum = np.zeros(data.shape[0]*vec_len) #initialize an array to hold sum of embeddings\n",
    "\n",
    "  embed_vec_sum = np.reshape(embed_vec_sum,(data.shape[0],vec_len)) #reshape embed_vec_sum\n",
    "\n",
    "  for i in range(0,data.shape[0]): #loop through the arrays\n",
    "    token_count = max_len #there are max_len potential tokens in each array\n",
    "    if np.sum(data[i])==0: #some tweets might have vectors that are all zeros\n",
    "      embed_vec_sum[i] = np.zeros(vec_len) #set vector to zeros\n",
    "    else:\n",
    "      if i%500==0:\n",
    "        print(i) #print progress\n",
    "      for j in range(0,max_len):\n",
    "        if np.sum(data[i][j])==0: #check for tokens that are currently zeros\n",
    "          token_count = token_count-1 #reduce token count by 1 when token is all zeros\n",
    "      embed_vec_sum[i] = np.add.reduce(data[i]) #add each of the individual word embeddings in the tweet\n",
    "\n",
    "  \n",
    "  \n",
    "  #*******************create arrays including count features**********************************************\n",
    "  embed_vec_count_sum = np.zeros(data.shape[0]*(vec_len+len(count_features_list))) #initialize an array to hold sum of embeddings inc count features\n",
    "\n",
    "  embed_vec_count_sum = np.reshape(embed_vec_count_sum,(data.shape[0],(vec_len+len(count_features_list)))) #reshape embed_vec_count_sum\n",
    "  \n",
    "  for i in range(0,data.shape[0]): #loop through each tweet\n",
    "    add_count = count_features[(count_features.tweet_ids==tweet_id[i])&(count_features.feature.isin(count_features_list))]['value'].values #count features for each tweet\n",
    "    if len(add_count)==0: #if there are no count features for tweet\n",
    "      embed_vec_count_sum[i] = np.append(embed_vec_sum[i],np.zeros(len(count_features_list))) #add zeros\n",
    "\n",
    "    else:\n",
    "      embed_vec_count_sum[i] = np.append(embed_vec_sum[i],add_count) #append the count features to the embedding features\n",
    "    \n",
    "      \n",
    "      \n",
    "  return(embed_vec_sum,embed_vec_count_sum)\n",
    "  #return(embed_vec_sum,embed_vec_ave)\n",
    "      \n"
   ]
  },
  {
   "cell_type": "markdown",
   "metadata": {
    "colab_type": "text",
    "id": "9tPfgKjBCB_2"
   },
   "source": [
    "## Sum embeddings over each tweet"
   ]
  },
  {
   "cell_type": "code",
   "execution_count": 14,
   "metadata": {
    "colab": {
     "base_uri": "https://localhost:8080/",
     "height": 230
    },
    "colab_type": "code",
    "executionInfo": {
     "elapsed": 67195,
     "status": "ok",
     "timestamp": 1571149128778,
     "user": {
      "displayName": "Scott Kilgariff",
      "photoUrl": "",
      "userId": "04893934711112937862"
     },
     "user_tz": -60
    },
    "id": "GxJnOgMtdpmC",
    "outputId": "8c92992b-bba8-422b-df43-326db9e746db"
   },
   "outputs": [
    {
     "name": "stdout",
     "output_type": "stream",
     "text": [
      "0\n",
      "500\n",
      "1000\n",
      "1500\n",
      "2000\n",
      "2500\n",
      "3000\n",
      "3500\n",
      "4000\n",
      "0\n",
      "500\n",
      "1000\n"
     ]
    }
   ],
   "source": [
    "train_vec_sum, train_vec_count_sum = aggregate_vectors(train_data,train_max_len,train_id)\n",
    "eval_vec_sum, eval_vec_count_sum = aggregate_vectors(eval_data,eval_max_len,eval_id)"
   ]
  },
  {
   "cell_type": "markdown",
   "metadata": {
    "colab_type": "text",
    "id": "4PJKfGgkCH6T"
   },
   "source": [
    "## Import classifiers and metrics"
   ]
  },
  {
   "cell_type": "code",
   "execution_count": 0,
   "metadata": {
    "colab": {},
    "colab_type": "code",
    "id": "wM4e9z9XeESK"
   },
   "outputs": [],
   "source": [
    "from sklearn.linear_model import LogisticRegression #import lr\n",
    "from sklearn.svm import SVC #import svm\n",
    "from sklearn.tree import DecisionTreeClassifier #import dt\n",
    "from sklearn.ensemble import RandomForestClassifier #import rf\n",
    "from sklearn.metrics import confusion_matrix, precision_score, recall_score, f1_score, auc, roc_curve, accuracy_score #metrics\n",
    "from sklearn.model_selection import GridSearchCV #grid search\n",
    "log_clf = LogisticRegression()\n",
    "svc_clf = SVC()\n",
    "dt_clf = DecisionTreeClassifier()\n",
    "rf_clf = RandomForestClassifier()"
   ]
  },
  {
   "cell_type": "markdown",
   "metadata": {
    "colab_type": "text",
    "id": "wPRMZ6mdCPz7"
   },
   "source": [
    "## Grid search and evaluation function"
   ]
  },
  {
   "cell_type": "code",
   "execution_count": 0,
   "metadata": {
    "colab": {},
    "colab_type": "code",
    "id": "kRfPwYo3QEcp"
   },
   "outputs": [],
   "source": [
    "def search_grid(classifier, model, x_train, y_train, class_train, x_eval, y_eval, class_eval):\n",
    "    \n",
    "    if model == 'lr': #if using logisitic regression\n",
    "        param_grid = [{'random_state':[42],\n",
    "               'C':[0.05,0.1,0.5,1],\n",
    "               'penalty':['l1','l2']}]\n",
    "        \n",
    "    if model == 'dt': #if using decision tree\n",
    "        param_grid = [{'random_state':[42],\n",
    "                       'criterion':['gini','entropy']}]\n",
    "        \n",
    "    if model == 'rf': #if using random forest\n",
    "        param_grid = [{'random_state':[42],\n",
    "                       'criterion':['gini','entropy']}] \n",
    "    \n",
    "    if model == 'svm': #if using svm\n",
    "        param_grid = [{'random_state':[42],\n",
    "                   'C':[0.05,0.1,1,10], \n",
    "                   'kernel':['linear','rbf']}]\n",
    "    \n",
    "  \n",
    "    param_grid = param_grid\n",
    "    grid_search = GridSearchCV(classifier, param_grid, cv=10, scoring='recall') #grid search using 10-folds cross validation\n",
    "    grid_search.fit(x_train, y_train) #fir grid search\n",
    "    print(\"\")\n",
    "    print('Best parameters')\n",
    "    best_parameters = grid_search.best_params_\n",
    "    print(best_parameters) #print best parameters from grid search\n",
    "    print('Best grid search score = ',grid_search.best_score_) #print best grid search score\n",
    "    print(\"\")\n",
    "    print('Evaluation data scores')\n",
    "    tuned_clf = grid_search.best_estimator_ #build model using best parameters\n",
    "    tuned_clf_pred = tuned_clf.predict(x_eval) #predict using evaluation data with best parameters\n",
    "    conf_matrix = confusion_matrix(y_eval,tuned_clf_pred) #build confusion matrix\n",
    "    precision = precision_score(y_eval,tuned_clf_pred) #calculate precision\n",
    "    recall = recall_score(y_eval,tuned_clf_pred) #calculate recall\n",
    "    f1 = f1_score(y_eval,tuned_clf_pred) #calculate f1\n",
    "    fpr, tpr, thresholds = roc_curve(y_eval,tuned_clf_pred)\n",
    "    auc_score = auc(fpr, tpr) #calculate auc\n",
    "    accuracy = accuracy_score(y_eval,tuned_clf_pred) #calculate accuracy\n",
    "    class_eval['pred'] = tuned_clf_pred\n",
    "    class_eval = class_eval.drop('class_column', axis=1) #join predictions onto actuals\n",
    "    print(conf_matrix)\n",
    "    print('precision = ' + str(precision))\n",
    "    print('recall = ' + str(recall))\n",
    "    print('f1 = ' + str(f1))\n",
    "    print('auc = ' + str(auc_score))\n",
    "    print('accuracy = ' + str(accuracy))\n",
    "    \n",
    "    return(best_parameters, conf_matrix, precision, recall, f1, auc_score, accuracy, class_eval) #return metrics and pred vs actuals for each tweet"
   ]
  },
  {
   "cell_type": "markdown",
   "metadata": {
    "colab_type": "text",
    "id": "vFJUp7r1CZBt"
   },
   "source": [
    "## Perform grid search and evaluation for each classifier and feature combo"
   ]
  },
  {
   "cell_type": "code",
   "execution_count": 17,
   "metadata": {
    "colab": {
     "base_uri": "https://localhost:8080/",
     "height": 1000
    },
    "colab_type": "code",
    "executionInfo": {
     "elapsed": 751057,
     "status": "ok",
     "timestamp": 1571149910271,
     "user": {
      "displayName": "Scott Kilgariff",
      "photoUrl": "",
      "userId": "04893934711112937862"
     },
     "user_tz": -60
    },
    "id": "wuVvYlMCRjbJ",
    "outputId": "7bf6d9aa-96f4-42b2-caa3-ecf7d9bc2ef9"
   },
   "outputs": [
    {
     "name": "stdout",
     "output_type": "stream",
     "text": [
      "\n",
      "Best parameters\n",
      "{'C': 0.5, 'penalty': 'l2', 'random_state': 42}\n",
      "Best grid search score =  0.7966124785696792\n",
      "\n",
      "Evaluation data scores\n",
      "[[802  29]\n",
      " [ 45 145]]\n",
      "precision = 0.8333333333333334\n",
      "recall = 0.7631578947368421\n",
      "f1 = 0.7967032967032968\n",
      "auc = 0.8641300905693837\n",
      "accuracy = 0.9275220372184133\n",
      "\n",
      "Best parameters\n",
      "{'criterion': 'entropy', 'random_state': 42}\n",
      "Best grid search score =  0.5916092640215528\n",
      "\n",
      "Evaluation data scores\n",
      "[[768  63]\n",
      " [ 92  98]]\n",
      "precision = 0.6086956521739131\n",
      "recall = 0.5157894736842106\n",
      "f1 = 0.5584045584045585\n",
      "auc = 0.7199885996579899\n",
      "accuracy = 0.8481880509304603\n",
      "\n",
      "Best parameters\n",
      "{'criterion': 'entropy', 'random_state': 42}\n",
      "Best grid search score =  0.41136278000715915\n",
      "\n",
      "Evaluation data scores\n",
      "[[823   8]\n",
      " [121  69]]\n",
      "precision = 0.8961038961038961\n",
      "recall = 0.3631578947368421\n",
      "f1 = 0.5168539325842697\n",
      "auc = 0.6767654696307557\n",
      "accuracy = 0.8736532810969637\n",
      "\n",
      "Best parameters\n",
      "{'C': 10, 'kernel': 'rbf', 'random_state': 42}\n",
      "Best grid search score =  0.8104761887940617\n",
      "\n",
      "Evaluation data scores\n",
      "[[818  13]\n",
      " [ 39 151]]\n",
      "precision = 0.9207317073170732\n",
      "recall = 0.7947368421052632\n",
      "f1 = 0.8531073446327684\n",
      "auc = 0.8895465197289253\n",
      "accuracy = 0.9490695396669931\n",
      "\n",
      "Best parameters\n",
      "{'C': 1, 'penalty': 'l2', 'random_state': 42}\n",
      "Best grid search score =  0.8320340906950018\n",
      "\n",
      "Evaluation data scores\n",
      "[[802  29]\n",
      " [ 39 151]]\n",
      "precision = 0.8388888888888889\n",
      "recall = 0.7947368421052632\n",
      "f1 = 0.8162162162162162\n",
      "auc = 0.8799195642535943\n",
      "accuracy = 0.9333986287952988\n",
      "\n",
      "Best parameters\n",
      "{'criterion': 'entropy', 'random_state': 42}\n",
      "Best grid search score =  0.664073303472183\n",
      "\n",
      "Evaluation data scores\n",
      "[[768  63]\n",
      " [ 66 124]]\n",
      "precision = 0.6631016042780749\n",
      "recall = 0.6526315789473685\n",
      "f1 = 0.6578249336870027\n",
      "auc = 0.7884096522895687\n",
      "accuracy = 0.8736532810969637\n",
      "\n",
      "Best parameters\n",
      "{'criterion': 'entropy', 'random_state': 42}\n",
      "Best grid search score =  0.4482724453173572\n",
      "\n",
      "Evaluation data scores\n",
      "[[825   6]\n",
      " [111  79]]\n",
      "precision = 0.9294117647058824\n",
      "recall = 0.41578947368421054\n",
      "f1 = 0.5745454545454546\n",
      "auc = 0.7042846285388562\n",
      "accuracy = 0.8854064642507345\n",
      "\n",
      "Best parameters\n",
      "{'C': 10, 'kernel': 'rbf', 'random_state': 42}\n",
      "Best grid search score =  0.8504933683754404\n",
      "\n",
      "Evaluation data scores\n",
      "[[817  14]\n",
      " [ 31 159]]\n",
      "precision = 0.9190751445086706\n",
      "recall = 0.8368421052631579\n",
      "f1 = 0.8760330578512397\n",
      "auc = 0.9099974665906645\n",
      "accuracy = 0.9559255631733594\n",
      "time taken =  0:12:30.509004\n"
     ]
    }
   ],
   "source": [
    "import warnings\n",
    "warnings.filterwarnings('ignore')\n",
    "\n",
    "from sklearn.preprocessing import scale\n",
    "\n",
    "current = datetime.now()\n",
    "\n",
    "tf = []     #initialise empty vectors to hold results\n",
    "name = []\n",
    "bp = []\n",
    "tn = []\n",
    "fp = []\n",
    "fn = []\n",
    "tp = []\n",
    "p = []\n",
    "r = []\n",
    "f_1 = []\n",
    "auc_sc = []\n",
    "acc = []\n",
    "\n",
    "features = 'w2v_300'\n",
    "\n",
    "trains = [train_vec_sum, train_vec_count_sum]\n",
    "evals = [eval_vec_sum, eval_vec_count_sum]\n",
    "descs = ['sum','sum_plusCounts']\n",
    "\n",
    "i=1\n",
    "for train, eval, desc in zip(trains, evals, descs):\n",
    "  \n",
    "  train = scale(train)\n",
    "  eval = scale(eval)\n",
    "\n",
    "  classifiers = [log_clf, dt_clf, rf_clf, svc_clf] #the classifiers that are to be tested\n",
    "  models = ['lr','dt','rf', 'svm'] #labels for identifying the results\n",
    "\n",
    "  x_train = train\n",
    "  y_train = train_labels\n",
    "\n",
    "\n",
    "\n",
    "  x_eval = eval\n",
    "  y_eval = eval_labels\n",
    "\n",
    "\n",
    "  for classifier, model in zip(classifiers,models):\n",
    "    \n",
    "    class_train = pd.DataFrame({'tweet_id':train_id,\n",
    "                                'class_column':y_train})\n",
    "    \n",
    "    class_eval = pd.DataFrame({'tweet_id':eval_id,\n",
    "                                'class_column':y_eval})    \n",
    "    \n",
    "    best_parameters, conf_matrix, precision, recall, f1, auc_score, accuracy, class_eval = search_grid(classifier, \n",
    "                                                                                                       model, \n",
    "                                                                                                       x_train, \n",
    "                                                                                                       y_train, \n",
    "                                                                                                       class_train, \n",
    "                                                                                                       x_eval, \n",
    "                                                                                                       y_eval, \n",
    "                                                                                                       class_eval)\n",
    "    #append the latest results to the vectors\n",
    "    tf_text = features + \"_\" + desc\n",
    "    tf = np.append(tf,tf_text)\n",
    "    name = np.append(name,model)\n",
    "    b = ';'.join('{} {}'.format(key, val) for key, val in best_parameters.items())\n",
    "    bp = np.append(bp,b)\n",
    "    tn = np.append(tn,conf_matrix[0][0])\n",
    "    fp = np.append(fp,conf_matrix[0][1])\n",
    "    fn = np.append(fn,conf_matrix[1][0])\n",
    "    tp = np.append(tp,conf_matrix[1][1])\n",
    "    p = np.append(p,precision)\n",
    "    r = np.append(r,recall)\n",
    "    f_1 = np.append(f_1,f1)\n",
    "    auc_sc = np.append(auc_sc,auc_score)\n",
    "    acc = np.append(acc,accuracy)\n",
    "\n",
    "    #col = train_file+'_'+model #build a column name\n",
    "    #class_eval.columns = ['tweet_id',col] #rename the columns\n",
    "    class_eval['model'] = model\n",
    "    class_eval['file'] = tf_text\n",
    "    if i==1: #if we are on the first iteration of the loop\n",
    "        df = class_eval.copy()\n",
    "    else: #if we are not on the first iteration f the loop\n",
    "        #df = pd.merge(df, class_eval, on='tweet_id')\n",
    "        df = df.append(class_eval)\n",
    "\n",
    "    i = i+1 #increment i\n",
    "\n",
    "print('time taken = ',datetime.now() - current) #print the time taken\n",
    "    \n"
   ]
  },
  {
   "cell_type": "markdown",
   "metadata": {
    "colab_type": "text",
    "id": "D6aeBXB_CnBy"
   },
   "source": [
    "## Create dataframe for performance metrics"
   ]
  },
  {
   "cell_type": "code",
   "execution_count": 18,
   "metadata": {
    "colab": {
     "base_uri": "https://localhost:8080/",
     "height": 287
    },
    "colab_type": "code",
    "executionInfo": {
     "elapsed": 416,
     "status": "ok",
     "timestamp": 1571150432372,
     "user": {
      "displayName": "Scott Kilgariff",
      "photoUrl": "",
      "userId": "04893934711112937862"
     },
     "user_tz": -60
    },
    "id": "g3Apx01rhdiU",
    "outputId": "b1b9ab00-015d-4880-9734-91c6275a0188"
   },
   "outputs": [
    {
     "data": {
      "text/html": [
       "<div>\n",
       "<style scoped>\n",
       "    .dataframe tbody tr th:only-of-type {\n",
       "        vertical-align: middle;\n",
       "    }\n",
       "\n",
       "    .dataframe tbody tr th {\n",
       "        vertical-align: top;\n",
       "    }\n",
       "\n",
       "    .dataframe thead th {\n",
       "        text-align: right;\n",
       "    }\n",
       "</style>\n",
       "<table border=\"1\" class=\"dataframe\">\n",
       "  <thead>\n",
       "    <tr style=\"text-align: right;\">\n",
       "      <th></th>\n",
       "      <th>tf</th>\n",
       "      <th>name</th>\n",
       "      <th>bp</th>\n",
       "      <th>tn</th>\n",
       "      <th>fp</th>\n",
       "      <th>fn</th>\n",
       "      <th>tp</th>\n",
       "      <th>p</th>\n",
       "      <th>r</th>\n",
       "      <th>f_1</th>\n",
       "      <th>auc_sc</th>\n",
       "      <th>acc</th>\n",
       "    </tr>\n",
       "  </thead>\n",
       "  <tbody>\n",
       "    <tr>\n",
       "      <th>7</th>\n",
       "      <td>w2v_300_sum_plusCounts</td>\n",
       "      <td>svm</td>\n",
       "      <td>C 10;kernel rbf;random_state 42</td>\n",
       "      <td>817.0</td>\n",
       "      <td>14.0</td>\n",
       "      <td>31.0</td>\n",
       "      <td>159.0</td>\n",
       "      <td>0.919075</td>\n",
       "      <td>0.836842</td>\n",
       "      <td>0.876033</td>\n",
       "      <td>0.909997</td>\n",
       "      <td>0.955926</td>\n",
       "    </tr>\n",
       "    <tr>\n",
       "      <th>3</th>\n",
       "      <td>w2v_300_sum</td>\n",
       "      <td>svm</td>\n",
       "      <td>C 10;kernel rbf;random_state 42</td>\n",
       "      <td>818.0</td>\n",
       "      <td>13.0</td>\n",
       "      <td>39.0</td>\n",
       "      <td>151.0</td>\n",
       "      <td>0.920732</td>\n",
       "      <td>0.794737</td>\n",
       "      <td>0.853107</td>\n",
       "      <td>0.889547</td>\n",
       "      <td>0.949070</td>\n",
       "    </tr>\n",
       "    <tr>\n",
       "      <th>4</th>\n",
       "      <td>w2v_300_sum_plusCounts</td>\n",
       "      <td>lr</td>\n",
       "      <td>C 1;penalty l2;random_state 42</td>\n",
       "      <td>802.0</td>\n",
       "      <td>29.0</td>\n",
       "      <td>39.0</td>\n",
       "      <td>151.0</td>\n",
       "      <td>0.838889</td>\n",
       "      <td>0.794737</td>\n",
       "      <td>0.816216</td>\n",
       "      <td>0.879920</td>\n",
       "      <td>0.933399</td>\n",
       "    </tr>\n",
       "    <tr>\n",
       "      <th>0</th>\n",
       "      <td>w2v_300_sum</td>\n",
       "      <td>lr</td>\n",
       "      <td>C 0.5;penalty l2;random_state 42</td>\n",
       "      <td>802.0</td>\n",
       "      <td>29.0</td>\n",
       "      <td>45.0</td>\n",
       "      <td>145.0</td>\n",
       "      <td>0.833333</td>\n",
       "      <td>0.763158</td>\n",
       "      <td>0.796703</td>\n",
       "      <td>0.864130</td>\n",
       "      <td>0.927522</td>\n",
       "    </tr>\n",
       "    <tr>\n",
       "      <th>5</th>\n",
       "      <td>w2v_300_sum_plusCounts</td>\n",
       "      <td>dt</td>\n",
       "      <td>criterion entropy;random_state 42</td>\n",
       "      <td>768.0</td>\n",
       "      <td>63.0</td>\n",
       "      <td>66.0</td>\n",
       "      <td>124.0</td>\n",
       "      <td>0.663102</td>\n",
       "      <td>0.652632</td>\n",
       "      <td>0.657825</td>\n",
       "      <td>0.788410</td>\n",
       "      <td>0.873653</td>\n",
       "    </tr>\n",
       "    <tr>\n",
       "      <th>6</th>\n",
       "      <td>w2v_300_sum_plusCounts</td>\n",
       "      <td>rf</td>\n",
       "      <td>criterion entropy;random_state 42</td>\n",
       "      <td>825.0</td>\n",
       "      <td>6.0</td>\n",
       "      <td>111.0</td>\n",
       "      <td>79.0</td>\n",
       "      <td>0.929412</td>\n",
       "      <td>0.415789</td>\n",
       "      <td>0.574545</td>\n",
       "      <td>0.704285</td>\n",
       "      <td>0.885406</td>\n",
       "    </tr>\n",
       "    <tr>\n",
       "      <th>1</th>\n",
       "      <td>w2v_300_sum</td>\n",
       "      <td>dt</td>\n",
       "      <td>criterion entropy;random_state 42</td>\n",
       "      <td>768.0</td>\n",
       "      <td>63.0</td>\n",
       "      <td>92.0</td>\n",
       "      <td>98.0</td>\n",
       "      <td>0.608696</td>\n",
       "      <td>0.515789</td>\n",
       "      <td>0.558405</td>\n",
       "      <td>0.719989</td>\n",
       "      <td>0.848188</td>\n",
       "    </tr>\n",
       "    <tr>\n",
       "      <th>2</th>\n",
       "      <td>w2v_300_sum</td>\n",
       "      <td>rf</td>\n",
       "      <td>criterion entropy;random_state 42</td>\n",
       "      <td>823.0</td>\n",
       "      <td>8.0</td>\n",
       "      <td>121.0</td>\n",
       "      <td>69.0</td>\n",
       "      <td>0.896104</td>\n",
       "      <td>0.363158</td>\n",
       "      <td>0.516854</td>\n",
       "      <td>0.676765</td>\n",
       "      <td>0.873653</td>\n",
       "    </tr>\n",
       "  </tbody>\n",
       "</table>\n",
       "</div>"
      ],
      "text/plain": [
       "                       tf name  ...    auc_sc       acc\n",
       "7  w2v_300_sum_plusCounts  svm  ...  0.909997  0.955926\n",
       "3             w2v_300_sum  svm  ...  0.889547  0.949070\n",
       "4  w2v_300_sum_plusCounts   lr  ...  0.879920  0.933399\n",
       "0             w2v_300_sum   lr  ...  0.864130  0.927522\n",
       "5  w2v_300_sum_plusCounts   dt  ...  0.788410  0.873653\n",
       "6  w2v_300_sum_plusCounts   rf  ...  0.704285  0.885406\n",
       "1             w2v_300_sum   dt  ...  0.719989  0.848188\n",
       "2             w2v_300_sum   rf  ...  0.676765  0.873653\n",
       "\n",
       "[8 rows x 12 columns]"
      ]
     },
     "execution_count": 18,
     "metadata": {
      "tags": []
     },
     "output_type": "execute_result"
    }
   ],
   "source": [
    "classifications = pd.DataFrame({'tf':tf, #create a dataframe to hold the metrics\n",
    "                                'name':name,\n",
    "                               'bp':bp,\n",
    "                               'tn':tn,\n",
    "                               'fp':fp,\n",
    "                               'fn':fn,\n",
    "                               'tp':tp,\n",
    "                               'p':p,\n",
    "                               'r':r,\n",
    "                               'f_1':f_1,\n",
    "                               'auc_sc':auc_sc,\n",
    "                               'acc':acc})\n",
    "\n",
    "classifications.sort_values(by='f_1', ascending=False)"
   ]
  },
  {
   "cell_type": "markdown",
   "metadata": {
    "colab_type": "text",
    "id": "95KegXvRGtj2"
   },
   "source": [
    "## Ensemble Classifier (vector sums)"
   ]
  },
  {
   "cell_type": "code",
   "execution_count": 19,
   "metadata": {
    "colab": {
     "base_uri": "https://localhost:8080/",
     "height": 141
    },
    "colab_type": "code",
    "executionInfo": {
     "elapsed": 15652,
     "status": "ok",
     "timestamp": 1571151933947,
     "user": {
      "displayName": "Scott Kilgariff",
      "photoUrl": "",
      "userId": "04893934711112937862"
     },
     "user_tz": -60
    },
    "id": "lQj3SPLJGt_z",
    "outputId": "b6a393c1-ecce-4484-f48f-29e0ebd83859"
   },
   "outputs": [
    {
     "name": "stdout",
     "output_type": "stream",
     "text": [
      "[[813  18]\n",
      " [ 40 150]]\n",
      "precision = 0.8928571428571429\n",
      "recall = 0.7894736842105263\n",
      "f1 = 0.8379888268156424\n",
      "auc = 0.8839065171955159\n",
      "accuracy = 0.9431929480901078\n"
     ]
    }
   ],
   "source": [
    "from sklearn.ensemble import VotingClassifier\n",
    "log_clf = LogisticRegression(penalty='l2',C=0.5, random_state=42) #logistic regression with best hyperparameters\n",
    "svc_clf = SVC(C=10, kernel='rbf', probability = True, random_state=42) #svm with best hyperparameters\n",
    "\n",
    "#create the ensemble\n",
    "e_clf = VotingClassifier(estimators=[('lr', log_clf), ('svm', svc_clf)],\n",
    "                         voting='soft', weights=[1, 1])\n",
    "\n",
    "\n",
    "features = 'w2v_300'\n",
    "\n",
    "trains = [train_vec_sum, train_vec_count_sum]\n",
    "evals = [eval_vec_sum, eval_vec_count_sum]\n",
    "descs = ['sum','sum_plusCounts']\n",
    "\n",
    " \n",
    "train = scale(train_vec_sum)\n",
    "eval = scale(eval_vec_sum)\n",
    "desc = 'sum'\n",
    "model = 'ensemble'\n",
    "\n",
    "x_train = train\n",
    "y_train = train_labels\n",
    "\n",
    "x_eval = eval\n",
    "y_eval = eval_labels\n",
    "\n",
    "\n",
    "    \n",
    "class_train = pd.DataFrame({'tweet_id':train_id,\n",
    "                            'class_column':y_train})\n",
    "\n",
    "class_eval = pd.DataFrame({'tweet_id':eval_id,\n",
    "                            'class_column':y_eval}) \n",
    "\n",
    "\n",
    "e_clf = e_clf.fit(x_train, y_train) #fit the ensemble\n",
    "\n",
    "e_clf_pred = e_clf.predict(x_eval) #predict using evaluation data with best parameters\n",
    "conf_matrix = confusion_matrix(y_eval,e_clf_pred) #build confusion matrix\n",
    "precision = precision_score(y_eval,e_clf_pred) #calculate precision\n",
    "recall = recall_score(y_eval,e_clf_pred) #calculate recall\n",
    "f1 = f1_score(y_eval,e_clf_pred) #calculate f1\n",
    "fpr, tpr, thresholds = roc_curve(y_eval,e_clf_pred)\n",
    "auc_score = auc(fpr, tpr) #calculate auc\n",
    "accuracy = accuracy_score(y_eval,e_clf_pred) #calculate accuracy\n",
    "class_eval['pred'] = e_clf_pred\n",
    "class_eval = class_eval.drop('class_column', axis=1) #join predictions onto actuals\n",
    "print(conf_matrix)\n",
    "print('precision = ' + str(precision))\n",
    "print('recall = ' + str(recall))\n",
    "print('f1 = ' + str(f1))\n",
    "print('auc = ' + str(auc_score))\n",
    "print('accuracy = ' + str(accuracy))\n",
    "\n",
    "#append the latest results to the vectors\n",
    "tf_text = features + \"_\" + desc\n",
    "tf = np.append(tf,tf_text)\n",
    "name = np.append(name,'ensemble (lr,svc)')\n",
    "bp = np.append(bp,'ensemble')\n",
    "tn = np.append(tn,conf_matrix[0][0])\n",
    "fp = np.append(fp,conf_matrix[0][1])\n",
    "fn = np.append(fn,conf_matrix[1][0])\n",
    "tp = np.append(tp,conf_matrix[1][1])\n",
    "p = np.append(p,precision)\n",
    "r = np.append(r,recall)\n",
    "f_1 = np.append(f_1,f1)\n",
    "auc_sc = np.append(auc_sc,auc_score)\n",
    "acc = np.append(acc,accuracy)\n",
    "\n",
    "class_eval['model'] = 'ensemble (lr,svc)'\n",
    "class_eval['file'] = tf_text\n",
    "\n",
    "df = df.append(class_eval) #merge the latest predictions for each tweet using this classifier"
   ]
  },
  {
   "cell_type": "markdown",
   "metadata": {
    "colab_type": "text",
    "id": "wb8MsHklMJA8"
   },
   "source": [
    "## Ensemble Classifier 2 (vector sums plus counts)"
   ]
  },
  {
   "cell_type": "code",
   "execution_count": 20,
   "metadata": {
    "colab": {
     "base_uri": "https://localhost:8080/",
     "height": 141
    },
    "colab_type": "code",
    "executionInfo": {
     "elapsed": 16717,
     "status": "ok",
     "timestamp": 1571151958112,
     "user": {
      "displayName": "Scott Kilgariff",
      "photoUrl": "",
      "userId": "04893934711112937862"
     },
     "user_tz": -60
    },
    "id": "caSQOaQaMM4j",
    "outputId": "3e23676a-9f15-46a6-c9a7-5317a18e9021"
   },
   "outputs": [
    {
     "name": "stdout",
     "output_type": "stream",
     "text": [
      "[[809  22]\n",
      " [ 33 157]]\n",
      "precision = 0.8770949720670391\n",
      "recall = 0.8263157894736842\n",
      "f1 = 0.8509485094850949\n",
      "auc = 0.899920830958262\n",
      "accuracy = 0.9461312438785504\n"
     ]
    }
   ],
   "source": [
    "from sklearn.ensemble import VotingClassifier\n",
    "log_clf = LogisticRegression(penalty='l2',C=1, random_state=42) #logistic regression with best hyperparameters\n",
    "svc_clf = SVC(C=10, kernel='rbf', probability = True, random_state=42) #svm with best hyperparameters\n",
    "\n",
    "#create the ensemble\n",
    "e_clf = VotingClassifier(estimators=[('lr', log_clf), ('svm', svc_clf)],\n",
    "                         voting='soft', weights=[1, 1])\n",
    "\n",
    "\n",
    "features = 'w2v_300'\n",
    "\n",
    "trains = [train_vec_sum, train_vec_count_sum]\n",
    "evals = [eval_vec_sum, eval_vec_count_sum]\n",
    "descs = ['sum','sum_plusCounts']\n",
    "\n",
    " \n",
    "train = scale(train_vec_count_sum)\n",
    "eval = scale(eval_vec_count_sum)\n",
    "desc = 'sum_plusCounts'\n",
    "model = 'ensemble'\n",
    "\n",
    "x_train = train\n",
    "y_train = train_labels\n",
    "\n",
    "x_eval = eval\n",
    "y_eval = eval_labels\n",
    "\n",
    "\n",
    "    \n",
    "class_train = pd.DataFrame({'tweet_id':train_id,\n",
    "                            'class_column':y_train})\n",
    "\n",
    "class_eval = pd.DataFrame({'tweet_id':eval_id,\n",
    "                            'class_column':y_eval}) \n",
    "\n",
    "\n",
    "e_clf = e_clf.fit(x_train, y_train) #fit the ensemble\n",
    "\n",
    "e_clf_pred = e_clf.predict(x_eval) #predict using evaluation data with best parameters\n",
    "conf_matrix = confusion_matrix(y_eval,e_clf_pred) #build confusion matrix\n",
    "precision = precision_score(y_eval,e_clf_pred) #calculate precision\n",
    "recall = recall_score(y_eval,e_clf_pred) #calculate recall\n",
    "f1 = f1_score(y_eval,e_clf_pred) #calculate f1\n",
    "fpr, tpr, thresholds = roc_curve(y_eval,e_clf_pred)\n",
    "auc_score = auc(fpr, tpr) #calculate auc\n",
    "accuracy = accuracy_score(y_eval,e_clf_pred) #calculate accuracy\n",
    "class_eval['pred'] = e_clf_pred\n",
    "class_eval = class_eval.drop('class_column', axis=1) #join predictions onto actuals\n",
    "print(conf_matrix)\n",
    "print('precision = ' + str(precision))\n",
    "print('recall = ' + str(recall))\n",
    "print('f1 = ' + str(f1))\n",
    "print('auc = ' + str(auc_score))\n",
    "print('accuracy = ' + str(accuracy))\n",
    "\n",
    "#append the latest results to the vectors\n",
    "tf_text = features + \"_\" + desc\n",
    "tf = np.append(tf,tf_text)\n",
    "name = np.append(name,'ensemble (lr,svc)')\n",
    "bp = np.append(bp,'ensemble')\n",
    "tn = np.append(tn,conf_matrix[0][0])\n",
    "fp = np.append(fp,conf_matrix[0][1])\n",
    "fn = np.append(fn,conf_matrix[1][0])\n",
    "tp = np.append(tp,conf_matrix[1][1])\n",
    "p = np.append(p,precision)\n",
    "r = np.append(r,recall)\n",
    "f_1 = np.append(f_1,f1)\n",
    "auc_sc = np.append(auc_sc,auc_score)\n",
    "acc = np.append(acc,accuracy)\n",
    "\n",
    "class_eval['model'] = 'ensemble (lr,svc)'\n",
    "class_eval['file'] = tf_text\n",
    "\n",
    "df = df.append(class_eval) #merge the latest predictions for each tweet using this classifier"
   ]
  },
  {
   "cell_type": "code",
   "execution_count": 21,
   "metadata": {
    "colab": {
     "base_uri": "https://localhost:8080/",
     "height": 347
    },
    "colab_type": "code",
    "executionInfo": {
     "elapsed": 423,
     "status": "ok",
     "timestamp": 1571151965059,
     "user": {
      "displayName": "Scott Kilgariff",
      "photoUrl": "",
      "userId": "04893934711112937862"
     },
     "user_tz": -60
    },
    "id": "bQsiPmnGM4NR",
    "outputId": "f9ed43e4-9730-4c28-b3d9-0308c9c4922b"
   },
   "outputs": [
    {
     "data": {
      "text/html": [
       "<div>\n",
       "<style scoped>\n",
       "    .dataframe tbody tr th:only-of-type {\n",
       "        vertical-align: middle;\n",
       "    }\n",
       "\n",
       "    .dataframe tbody tr th {\n",
       "        vertical-align: top;\n",
       "    }\n",
       "\n",
       "    .dataframe thead th {\n",
       "        text-align: right;\n",
       "    }\n",
       "</style>\n",
       "<table border=\"1\" class=\"dataframe\">\n",
       "  <thead>\n",
       "    <tr style=\"text-align: right;\">\n",
       "      <th></th>\n",
       "      <th>tf</th>\n",
       "      <th>name</th>\n",
       "      <th>bp</th>\n",
       "      <th>tn</th>\n",
       "      <th>fp</th>\n",
       "      <th>fn</th>\n",
       "      <th>tp</th>\n",
       "      <th>p</th>\n",
       "      <th>r</th>\n",
       "      <th>f_1</th>\n",
       "      <th>auc_sc</th>\n",
       "      <th>acc</th>\n",
       "    </tr>\n",
       "  </thead>\n",
       "  <tbody>\n",
       "    <tr>\n",
       "      <th>7</th>\n",
       "      <td>w2v_300_sum_plusCounts</td>\n",
       "      <td>svm</td>\n",
       "      <td>C 10;kernel rbf;random_state 42</td>\n",
       "      <td>817.0</td>\n",
       "      <td>14.0</td>\n",
       "      <td>31.0</td>\n",
       "      <td>159.0</td>\n",
       "      <td>0.919075</td>\n",
       "      <td>0.836842</td>\n",
       "      <td>0.876033</td>\n",
       "      <td>0.909997</td>\n",
       "      <td>0.955926</td>\n",
       "    </tr>\n",
       "    <tr>\n",
       "      <th>3</th>\n",
       "      <td>w2v_300_sum</td>\n",
       "      <td>svm</td>\n",
       "      <td>C 10;kernel rbf;random_state 42</td>\n",
       "      <td>818.0</td>\n",
       "      <td>13.0</td>\n",
       "      <td>39.0</td>\n",
       "      <td>151.0</td>\n",
       "      <td>0.920732</td>\n",
       "      <td>0.794737</td>\n",
       "      <td>0.853107</td>\n",
       "      <td>0.889547</td>\n",
       "      <td>0.949070</td>\n",
       "    </tr>\n",
       "    <tr>\n",
       "      <th>9</th>\n",
       "      <td>w2v_300_sum_plusCounts</td>\n",
       "      <td>ensemble (lr,svc)</td>\n",
       "      <td>ensemble</td>\n",
       "      <td>809.0</td>\n",
       "      <td>22.0</td>\n",
       "      <td>33.0</td>\n",
       "      <td>157.0</td>\n",
       "      <td>0.877095</td>\n",
       "      <td>0.826316</td>\n",
       "      <td>0.850949</td>\n",
       "      <td>0.899921</td>\n",
       "      <td>0.946131</td>\n",
       "    </tr>\n",
       "    <tr>\n",
       "      <th>8</th>\n",
       "      <td>w2v_300_sum</td>\n",
       "      <td>ensemble (lr,svc)</td>\n",
       "      <td>ensemble</td>\n",
       "      <td>813.0</td>\n",
       "      <td>18.0</td>\n",
       "      <td>40.0</td>\n",
       "      <td>150.0</td>\n",
       "      <td>0.892857</td>\n",
       "      <td>0.789474</td>\n",
       "      <td>0.837989</td>\n",
       "      <td>0.883907</td>\n",
       "      <td>0.943193</td>\n",
       "    </tr>\n",
       "    <tr>\n",
       "      <th>4</th>\n",
       "      <td>w2v_300_sum_plusCounts</td>\n",
       "      <td>lr</td>\n",
       "      <td>C 1;penalty l2;random_state 42</td>\n",
       "      <td>802.0</td>\n",
       "      <td>29.0</td>\n",
       "      <td>39.0</td>\n",
       "      <td>151.0</td>\n",
       "      <td>0.838889</td>\n",
       "      <td>0.794737</td>\n",
       "      <td>0.816216</td>\n",
       "      <td>0.879920</td>\n",
       "      <td>0.933399</td>\n",
       "    </tr>\n",
       "    <tr>\n",
       "      <th>0</th>\n",
       "      <td>w2v_300_sum</td>\n",
       "      <td>lr</td>\n",
       "      <td>C 0.5;penalty l2;random_state 42</td>\n",
       "      <td>802.0</td>\n",
       "      <td>29.0</td>\n",
       "      <td>45.0</td>\n",
       "      <td>145.0</td>\n",
       "      <td>0.833333</td>\n",
       "      <td>0.763158</td>\n",
       "      <td>0.796703</td>\n",
       "      <td>0.864130</td>\n",
       "      <td>0.927522</td>\n",
       "    </tr>\n",
       "    <tr>\n",
       "      <th>5</th>\n",
       "      <td>w2v_300_sum_plusCounts</td>\n",
       "      <td>dt</td>\n",
       "      <td>criterion entropy;random_state 42</td>\n",
       "      <td>768.0</td>\n",
       "      <td>63.0</td>\n",
       "      <td>66.0</td>\n",
       "      <td>124.0</td>\n",
       "      <td>0.663102</td>\n",
       "      <td>0.652632</td>\n",
       "      <td>0.657825</td>\n",
       "      <td>0.788410</td>\n",
       "      <td>0.873653</td>\n",
       "    </tr>\n",
       "    <tr>\n",
       "      <th>6</th>\n",
       "      <td>w2v_300_sum_plusCounts</td>\n",
       "      <td>rf</td>\n",
       "      <td>criterion entropy;random_state 42</td>\n",
       "      <td>825.0</td>\n",
       "      <td>6.0</td>\n",
       "      <td>111.0</td>\n",
       "      <td>79.0</td>\n",
       "      <td>0.929412</td>\n",
       "      <td>0.415789</td>\n",
       "      <td>0.574545</td>\n",
       "      <td>0.704285</td>\n",
       "      <td>0.885406</td>\n",
       "    </tr>\n",
       "    <tr>\n",
       "      <th>1</th>\n",
       "      <td>w2v_300_sum</td>\n",
       "      <td>dt</td>\n",
       "      <td>criterion entropy;random_state 42</td>\n",
       "      <td>768.0</td>\n",
       "      <td>63.0</td>\n",
       "      <td>92.0</td>\n",
       "      <td>98.0</td>\n",
       "      <td>0.608696</td>\n",
       "      <td>0.515789</td>\n",
       "      <td>0.558405</td>\n",
       "      <td>0.719989</td>\n",
       "      <td>0.848188</td>\n",
       "    </tr>\n",
       "    <tr>\n",
       "      <th>2</th>\n",
       "      <td>w2v_300_sum</td>\n",
       "      <td>rf</td>\n",
       "      <td>criterion entropy;random_state 42</td>\n",
       "      <td>823.0</td>\n",
       "      <td>8.0</td>\n",
       "      <td>121.0</td>\n",
       "      <td>69.0</td>\n",
       "      <td>0.896104</td>\n",
       "      <td>0.363158</td>\n",
       "      <td>0.516854</td>\n",
       "      <td>0.676765</td>\n",
       "      <td>0.873653</td>\n",
       "    </tr>\n",
       "  </tbody>\n",
       "</table>\n",
       "</div>"
      ],
      "text/plain": [
       "                       tf               name  ...    auc_sc       acc\n",
       "7  w2v_300_sum_plusCounts                svm  ...  0.909997  0.955926\n",
       "3             w2v_300_sum                svm  ...  0.889547  0.949070\n",
       "9  w2v_300_sum_plusCounts  ensemble (lr,svc)  ...  0.899921  0.946131\n",
       "8             w2v_300_sum  ensemble (lr,svc)  ...  0.883907  0.943193\n",
       "4  w2v_300_sum_plusCounts                 lr  ...  0.879920  0.933399\n",
       "0             w2v_300_sum                 lr  ...  0.864130  0.927522\n",
       "5  w2v_300_sum_plusCounts                 dt  ...  0.788410  0.873653\n",
       "6  w2v_300_sum_plusCounts                 rf  ...  0.704285  0.885406\n",
       "1             w2v_300_sum                 dt  ...  0.719989  0.848188\n",
       "2             w2v_300_sum                 rf  ...  0.676765  0.873653\n",
       "\n",
       "[10 rows x 12 columns]"
      ]
     },
     "execution_count": 21,
     "metadata": {
      "tags": []
     },
     "output_type": "execute_result"
    }
   ],
   "source": [
    "classifications = pd.DataFrame({'tf':tf, #create a dataframe to hold the metrics\n",
    "                                'name':name,\n",
    "                               'bp':bp,\n",
    "                               'tn':tn,\n",
    "                               'fp':fp,\n",
    "                               'fn':fn,\n",
    "                               'tp':tp,\n",
    "                               'p':p,\n",
    "                               'r':r,\n",
    "                               'f_1':f_1,\n",
    "                               'auc_sc':auc_sc,\n",
    "                               'acc':acc})\n",
    "\n",
    "classifications.sort_values(by='f_1', ascending=False)"
   ]
  },
  {
   "cell_type": "markdown",
   "metadata": {
    "colab_type": "text",
    "id": "dXOgH3odCu5F"
   },
   "source": [
    "## Save the performance metrics and the predictions per tweet"
   ]
  },
  {
   "cell_type": "code",
   "execution_count": 22,
   "metadata": {
    "colab": {
     "base_uri": "https://localhost:8080/",
     "height": 123
    },
    "colab_type": "code",
    "executionInfo": {
     "elapsed": 7928,
     "status": "ok",
     "timestamp": 1571151996261,
     "user": {
      "displayName": "Scott Kilgariff",
      "photoUrl": "",
      "userId": "04893934711112937862"
     },
     "user_tz": -60
    },
    "id": "OEF-TKTK_yLT",
    "outputId": "8e7957a1-9d27-4d51-e6d1-4bec822b0502"
   },
   "outputs": [
    {
     "name": "stdout",
     "output_type": "stream",
     "text": [
      "Copying file:///tmp/classifications.pickle [Content-Type=application/octet-stream]...\n",
      "/ [1 files][  2.1 KiB/  2.1 KiB]                                                \n",
      "Operation completed over 1 objects/2.1 KiB.                                      \n",
      "Copying file:///tmp/df.pickle [Content-Type=application/octet-stream]...\n",
      "/ [1 files][478.0 KiB/478.0 KiB]                                                \n",
      "Operation completed over 1 objects/478.0 KiB.                                    \n"
     ]
    }
   ],
   "source": [
    "classifications.to_pickle('/tmp/classifications.pickle')\n",
    "df.to_pickle('/tmp/df.pickle')\n",
    "\n",
    "!gsutil cp /tmp/classifications.pickle gs://dissertation_bucket/classify_embeddings_w2v/\n",
    "!gsutil cp /tmp/df.pickle gs://dissertation_bucket/classify_embeddings_w2v/"
   ]
  }
 ],
 "metadata": {
  "accelerator": "TPU",
  "colab": {
   "collapsed_sections": [],
   "name": "14_COLAB_classify_embeddings_w2v.ipynb",
   "provenance": [
    {
     "file_id": "1_47lBeiEsM6DoYJRGBIOuMIJBGc0wDpc",
     "timestamp": 1569177794989
    }
   ],
   "toc_visible": true
  },
  "kernelspec": {
   "display_name": "Python 3",
   "language": "python",
   "name": "python3"
  },
  "language_info": {
   "codemirror_mode": {
    "name": "ipython",
    "version": 3
   },
   "file_extension": ".py",
   "mimetype": "text/x-python",
   "name": "python",
   "nbconvert_exporter": "python",
   "pygments_lexer": "ipython3",
   "version": "3.6.4"
  }
 },
 "nbformat": 4,
 "nbformat_minor": 1
}
