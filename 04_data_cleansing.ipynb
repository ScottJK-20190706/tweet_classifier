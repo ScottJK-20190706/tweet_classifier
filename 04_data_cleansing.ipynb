{
 "cells": [
  {
   "cell_type": "markdown",
   "metadata": {},
   "source": [
    "## Common Imports"
   ]
  },
  {
   "cell_type": "code",
   "execution_count": 1,
   "metadata": {},
   "outputs": [],
   "source": [
    "import pandas as pd\n",
    "import numpy as np\n",
    "from datetime import datetime\n",
    "import re"
   ]
  },
  {
   "cell_type": "markdown",
   "metadata": {},
   "source": [
    "## Remove urls, usernames, hashtags, and strip whitespace - all API tweets"
   ]
  },
  {
   "cell_type": "code",
   "execution_count": 2,
   "metadata": {},
   "outputs": [
    {
     "name": "stdout",
     "output_type": "stream",
     "text": [
      "Formatting took time  0:00:56.015502\n"
     ]
    }
   ],
   "source": [
    "current_time = datetime.now()\n",
    "\n",
    "existing_data_formatted = pd.read_pickle('pickle_files/existing_data.pickle')\n",
    "\n",
    "for i in existing_data_formatted.index:\n",
    "    #print(i)\n",
    "    existing_data_formatted.loc[i,'Tweet'] =re.sub(\"@[A-Za-z0-9_/:().]+\",  \"\", existing_data_formatted.loc[i,'Tweet'])\n",
    "    existing_data_formatted.loc[i,'Tweet'] =re.sub(\"http[A-Za-z0-9_/:().]+\",  \"\", existing_data_formatted.loc[i,'Tweet'])\n",
    "    existing_data_formatted.loc[i,'Tweet'] =re.sub(\"#[A-Za-z0-9_/:().]+\",  \"\", existing_data_formatted.loc[i,'Tweet'])\n",
    "existing_data_formatted.Tweet = existing_data_formatted.Tweet.str.strip()\n",
    "existing_data_formatted = existing_data_formatted[existing_data_formatted['Tweet'].apply(lambda x: len(x) > 3)]\n",
    "existing_data_formatted = existing_data_formatted.drop_duplicates(subset=['Tweet ID'], keep='first')\n",
    "print(\"Formatting took time \", datetime.now() - current_time)\n",
    "\n",
    "existing_data_formatted.to_pickle('pickle_files/api_formatted.pickle')"
   ]
  },
  {
   "cell_type": "markdown",
   "metadata": {},
   "source": [
    "## Remove urls, usernames, hashtags, and strip whitespace - benign tweets"
   ]
  },
  {
   "cell_type": "code",
   "execution_count": 3,
   "metadata": {},
   "outputs": [
    {
     "name": "stdout",
     "output_type": "stream",
     "text": [
      "Formatting took time  0:00:09.819179\n"
     ]
    }
   ],
   "source": [
    "current_time = datetime.now()\n",
    "\n",
    "existing_clean_formatted = pd.read_pickle('pickle_files/existing_clean.pickle')\n",
    "\n",
    "for i in existing_clean_formatted.index:\n",
    "    #print(i)\n",
    "    existing_clean_formatted.loc[i,'Tweet'] =re.sub(\"@[A-Za-z0-9_/:().]+\",  \"\", existing_clean_formatted.loc[i,'Tweet'])\n",
    "    existing_clean_formatted.loc[i,'Tweet'] =re.sub(\"http[A-Za-z0-9_/:().]+\",  \"\", existing_clean_formatted.loc[i,'Tweet'])\n",
    "    existing_clean_formatted.loc[i,'Tweet'] =re.sub(\"#[A-Za-z0-9_/:().]+\",  \"\", existing_clean_formatted.loc[i,'Tweet'])\n",
    "existing_clean_formatted.Tweet = existing_clean_formatted.Tweet.str.strip()\n",
    "existing_clean_formatted = existing_clean_formatted[existing_clean_formatted['Tweet'].apply(lambda x: len(x) > 3)]\n",
    "existing_clean_formatted = existing_clean_formatted.drop_duplicates(subset=['Tweet ID'], keep='first')\n",
    "print(\"Formatting took time \", datetime.now() - current_time)\n",
    "\n",
    "existing_clean_formatted.to_pickle('pickle_files/benign_formatted.pickle')"
   ]
  },
  {
   "cell_type": "markdown",
   "metadata": {},
   "source": [
    "## Remove urls, usernames, hashtags, and strip whitespace - offensive tweets"
   ]
  },
  {
   "cell_type": "code",
   "execution_count": 4,
   "metadata": {},
   "outputs": [
    {
     "name": "stdout",
     "output_type": "stream",
     "text": [
      "Formatting took time  0:00:01.351128\n"
     ]
    }
   ],
   "source": [
    "current_time = datetime.now()\n",
    "\n",
    "existing_hate_formatted = pd.read_pickle('pickle_files/existing_hate.pickle')\n",
    "existing_hate_formatted = existing_hate_formatted.reset_index(drop=True) #reset the index\n",
    "\n",
    "for i in existing_hate_formatted.index:\n",
    "    #print(i)\n",
    "    existing_hate_formatted.loc[i,'Tweet'] =re.sub(\"@[A-Za-z0-9_/:().]+\",  \"\", existing_hate_formatted.loc[i,'Tweet'])\n",
    "    existing_hate_formatted.loc[i,'Tweet'] =re.sub(\"http[A-Za-z0-9_/:().]+\",  \"\", existing_hate_formatted.loc[i,'Tweet'])\n",
    "    existing_hate_formatted.loc[i,'Tweet'] =re.sub(\"#[A-Za-z0-9_/:().]+\",  \"\", existing_hate_formatted.loc[i,'Tweet'])\n",
    "    existing_hate_formatted.loc[i,'Tweet'] =re.sub(\"RT \",  \"\", existing_hate_formatted.loc[i,'Tweet'])\n",
    "existing_hate_formatted.Tweet = existing_hate_formatted.Tweet.str.strip()\n",
    "existing_hate_formatted = existing_hate_formatted[existing_hate_formatted['Tweet'].apply(lambda x: len(x) > 3)]\n",
    "print(\"Formatting took time \", datetime.now() - current_time)\n",
    "\n",
    "existing_hate_formatted.to_pickle('pickle_files/offensive_formatted.pickle')"
   ]
  },
  {
   "cell_type": "code",
   "execution_count": 5,
   "metadata": {},
   "outputs": [
    {
     "name": "stdout",
     "output_type": "stream",
     "text": [
      "(14469, 14)\n",
      "(5458, 14)\n",
      "(839, 15)\n",
      "6297\n"
     ]
    }
   ],
   "source": [
    "print(existing_data_formatted.shape)\n",
    "print(existing_clean_formatted.shape)\n",
    "print(existing_hate_formatted.shape)\n",
    "print(existing_hate_formatted.shape[0]+existing_clean_formatted.shape[0])"
   ]
  },
  {
   "cell_type": "code",
   "execution_count": null,
   "metadata": {},
   "outputs": [],
   "source": []
  }
 ],
 "metadata": {
  "kernelspec": {
   "display_name": "Python 3",
   "language": "python",
   "name": "python3"
  },
  "language_info": {
   "codemirror_mode": {
    "name": "ipython",
    "version": 3
   },
   "file_extension": ".py",
   "mimetype": "text/x-python",
   "name": "python",
   "nbconvert_exporter": "python",
   "pygments_lexer": "ipython3",
   "version": "3.6.4"
  }
 },
 "nbformat": 4,
 "nbformat_minor": 2
}
